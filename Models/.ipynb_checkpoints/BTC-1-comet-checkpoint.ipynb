{
 "cells": [
  {
   "cell_type": "code",
   "execution_count": 14,
   "metadata": {},
   "outputs": [],
   "source": [
    "#load packages and comet key\n",
    "from comet_ml import Experiment\n",
    "import pandas as pd\n",
    "import numpy as np\n",
    "from sklearn import linear_model\n",
    "from sklearn import svm\n",
    "from sklearn import preprocessing\n",
    "from sklearn.model_selection import GridSearchCV, cross_val_score, KFold\n",
    "from sklearn.metrics import mean_squared_error, r2_score, f1_score, precision_score, recall_score, confusion_matrix\n",
    "from sklearn.linear_model import LogisticRegression\n",
    "from sklearn.ensemble import RandomForestClassifier\n",
    "import matplotlib.pyplot as plt\n",
    "from sklearn import svm\n",
    "\n",
    "cometkey = pd.read_csv('/home/polabs1/Downloads/cometml-API-key.csv')\n",
    "\n",
    "np.random.seed(420)"
   ]
  },
  {
   "cell_type": "code",
   "execution_count": 3,
   "metadata": {},
   "outputs": [
    {
     "name": "stdout",
     "output_type": "stream",
     "text": [
      "Positive 1% train shape\n",
      "(4783, 50)\n",
      "Positive 1% test shape\n",
      "(568, 50)\n",
      "Negative 1% train shape\n",
      "(4783, 50)\n",
      "Negative 1% test shape\n",
      "(568, 50)\n"
     ]
    }
   ],
   "source": [
    "#load data\n",
    "dfPr = pd.read_csv(\"/home/polabs1/Crypto/12.09.2018/train sets/BTCUSDT-a2.csv\")\n",
    "dfNr = pd.read_csv(\"/home/polabs1/Crypto/12.09.2018/train sets/BTCUSDT-a5.csv\")\n",
    "\n",
    "dfPt = pd.read_csv(\"/home/polabs1/Crypto/12.09.2018/test sets/BTCUSDT-a1.csv\")\n",
    "dfNt = pd.read_csv(\"/home/polabs1/Crypto/12.09.2018/test sets/BTCUSDT-a5.csv\")\n",
    "\n",
    "print('Positive 1% train shape')\n",
    "print(dfPr.shape)\n",
    "print('Positive 1% test shape')\n",
    "print(dfPt.shape)\n",
    "\n",
    "print('Negative 1% train shape')\n",
    "print(dfNr.shape)\n",
    "print('Negative 1% test shape')\n",
    "print(dfNt.shape)\n",
    "\n",
    "#Positive !% 24hr only for now\n",
    "XY_train = np.split(dfPr, [1], axis=1)\n",
    "XY_test = np.split(dfPt, [1], axis=1)\n"
   ]
  },
  {
   "cell_type": "code",
   "execution_count": 9,
   "metadata": {},
   "outputs": [
    {
     "name": "stderr",
     "output_type": "stream",
     "text": [
      "COMET INFO: Experiment is live on comet.ml https://www.comet.ml/polabs/crypto-dashboard/2f77c70c485f4cfa81e39842c86c0763\n",
      "\n"
     ]
    },
    {
     "name": "stdout",
     "output_type": "stream",
     "text": [
      "\n",
      "Results\n",
      "Confusion matrix \n",
      " [[  2 346]\n",
      " [  2 218]]\n",
      "F1 score is  0.556\n",
      "Precision score is  0.387\n",
      "Recall score is  0.991\n"
     ]
    },
    {
     "name": "stderr",
     "output_type": "stream",
     "text": [
      "COMET INFO: old comet version (1.0.42) detected. current: 1.0.43 please update your comet lib with command: `pip install --no-cache-dir --upgrade comet_ml`\n",
      "COMET ERROR: File could not be uploaded\n",
      "COMET INFO: Experiment is live on comet.ml https://www.comet.ml/polabs/crypto-dashboard/d5dad1f381864eeca09a41759014cf89\n",
      "\n",
      "COMET INFO: Experiment is live on comet.ml https://www.comet.ml/polabs/crypto-dashboard/d5dad1f381864eeca09a41759014cf89\n",
      "\n",
      "COMET INFO: old comet version (1.0.42) detected. current: 1.0.43 please update your comet lib with command: `pip install --no-cache-dir --upgrade comet_ml`\n",
      "COMET INFO: Experiment is live on comet.ml https://www.comet.ml/polabs/crypto-dashboard/6065f6d328c84d7bad8c5a5440250880\n",
      "\n",
      "COMET INFO: Experiment is live on comet.ml https://www.comet.ml/polabs/crypto-dashboard/6065f6d328c84d7bad8c5a5440250880\n",
      "\n",
      "COMET INFO: old comet version (1.0.42) detected. current: 1.0.43 please update your comet lib with command: `pip install --no-cache-dir --upgrade comet_ml`\n",
      "COMET INFO: Experiment is live on comet.ml https://www.comet.ml/polabs/crypto-dashboard/68507c477969484092b146ec99a6c6b9\n",
      "\n",
      "COMET INFO: Experiment is live on comet.ml https://www.comet.ml/polabs/crypto-dashboard/68507c477969484092b146ec99a6c6b9\n",
      "\n",
      "COMET INFO: old comet version (1.0.42) detected. current: 1.0.43 please update your comet lib with command: `pip install --no-cache-dir --upgrade comet_ml`\n",
      "COMET INFO: Experiment is live on comet.ml https://www.comet.ml/polabs/crypto-dashboard/dbd638c8f9544929bb347a1e277ab408\n",
      "\n",
      "COMET INFO: Experiment is live on comet.ml https://www.comet.ml/polabs/crypto-dashboard/dbd638c8f9544929bb347a1e277ab408\n",
      "\n",
      "COMET INFO: old comet version (1.0.42) detected. current: 1.0.43 please update your comet lib with command: `pip install --no-cache-dir --upgrade comet_ml`\n",
      "COMET INFO: Experiment is live on comet.ml https://www.comet.ml/polabs/crypto-dashboard/7e943421f98a42629acc56a653b831a9\n",
      "\n",
      "COMET INFO: Experiment is live on comet.ml https://www.comet.ml/polabs/crypto-dashboard/7e943421f98a42629acc56a653b831a9\n",
      "\n",
      "COMET INFO: old comet version (1.0.42) detected. current: 1.0.43 please update your comet lib with command: `pip install --no-cache-dir --upgrade comet_ml`\n",
      "COMET INFO: Experiment is live on comet.ml https://www.comet.ml/polabs/crypto-dashboard/30b4a8125f694be7801ed0e561b76802\n",
      "\n",
      "COMET INFO: Experiment is live on comet.ml https://www.comet.ml/polabs/crypto-dashboard/30b4a8125f694be7801ed0e561b76802\n",
      "\n",
      "COMET INFO: old comet version (1.0.42) detected. current: 1.0.43 please update your comet lib with command: `pip install --no-cache-dir --upgrade comet_ml`\n",
      "COMET INFO: Experiment is live on comet.ml https://www.comet.ml/polabs/crypto-dashboard/e983d06701a94c799707d293bbe54478\n",
      "\n",
      "COMET INFO: Experiment is live on comet.ml https://www.comet.ml/polabs/crypto-dashboard/e983d06701a94c799707d293bbe54478\n",
      "\n",
      "COMET INFO: old comet version (1.0.42) detected. current: 1.0.43 please update your comet lib with command: `pip install --no-cache-dir --upgrade comet_ml`\n",
      "COMET INFO: Experiment is live on comet.ml https://www.comet.ml/polabs/crypto-dashboard/b108af7208824974ac3fda7f0d71bcb4\n",
      "\n",
      "COMET INFO: Experiment is live on comet.ml https://www.comet.ml/polabs/crypto-dashboard/b108af7208824974ac3fda7f0d71bcb4\n",
      "\n",
      "COMET INFO: old comet version (1.0.42) detected. current: 1.0.43 please update your comet lib with command: `pip install --no-cache-dir --upgrade comet_ml`\n",
      "COMET INFO: Experiment is live on comet.ml https://www.comet.ml/polabs/crypto-dashboard/8a36e81a7d244008ad875ed0b6b5d4e9\n",
      "\n",
      "COMET INFO: Experiment is live on comet.ml https://www.comet.ml/polabs/crypto-dashboard/8a36e81a7d244008ad875ed0b6b5d4e9\n",
      "\n",
      "COMET INFO: old comet version (1.0.42) detected. current: 1.0.43 please update your comet lib with command: `pip install --no-cache-dir --upgrade comet_ml`\n",
      "COMET INFO: Experiment is live on comet.ml https://www.comet.ml/polabs/crypto-dashboard/a3a954ce297945b3bc55be5684f39d9c\n",
      "\n",
      "COMET INFO: Experiment is live on comet.ml https://www.comet.ml/polabs/crypto-dashboard/a3a954ce297945b3bc55be5684f39d9c\n",
      "\n",
      "COMET INFO: old comet version (1.0.42) detected. current: 1.0.43 please update your comet lib with command: `pip install --no-cache-dir --upgrade comet_ml`\n",
      "COMET INFO: Experiment is live on comet.ml https://www.comet.ml/polabs/crypto-dashboard/7655dd5d2c9745ecb61292db43d3b4a5\n",
      "\n",
      "COMET INFO: Experiment is live on comet.ml https://www.comet.ml/polabs/crypto-dashboard/7655dd5d2c9745ecb61292db43d3b4a5\n",
      "\n",
      "COMET INFO: old comet version (1.0.42) detected. current: 1.0.43 please update your comet lib with command: `pip install --no-cache-dir --upgrade comet_ml`\n",
      "COMET INFO: Experiment is live on comet.ml https://www.comet.ml/polabs/crypto-dashboard/af62589741884716944864024a3f536e\n",
      "\n",
      "COMET INFO: Experiment is live on comet.ml https://www.comet.ml/polabs/crypto-dashboard/af62589741884716944864024a3f536e\n",
      "\n",
      "COMET INFO: old comet version (1.0.42) detected. current: 1.0.43 please update your comet lib with command: `pip install --no-cache-dir --upgrade comet_ml`\n",
      "COMET INFO: Experiment is live on comet.ml https://www.comet.ml/polabs/crypto-dashboard/b639277ca4e14bcb9880de92a80b3ffd\n",
      "\n",
      "COMET INFO: Experiment is live on comet.ml https://www.comet.ml/polabs/crypto-dashboard/b639277ca4e14bcb9880de92a80b3ffd\n",
      "\n",
      "COMET INFO: old comet version (1.0.42) detected. current: 1.0.43 please update your comet lib with command: `pip install --no-cache-dir --upgrade comet_ml`\n",
      "COMET INFO: Experiment is live on comet.ml https://www.comet.ml/polabs/crypto-dashboard/dd1e716376d444749607787549bcb886\n",
      "\n",
      "COMET INFO: Experiment is live on comet.ml https://www.comet.ml/polabs/crypto-dashboard/dd1e716376d444749607787549bcb886\n",
      "\n",
      "COMET INFO: old comet version (1.0.42) detected. current: 1.0.43 please update your comet lib with command: `pip install --no-cache-dir --upgrade comet_ml`\n",
      "COMET INFO: Experiment is live on comet.ml https://www.comet.ml/polabs/crypto-dashboard/f603ffdc0029441084fcefc9094e4b1a\n",
      "\n",
      "COMET INFO: Experiment is live on comet.ml https://www.comet.ml/polabs/crypto-dashboard/f603ffdc0029441084fcefc9094e4b1a\n",
      "\n",
      "COMET INFO: old comet version (1.0.42) detected. current: 1.0.43 please update your comet lib with command: `pip install --no-cache-dir --upgrade comet_ml`\n",
      "COMET INFO: Experiment is live on comet.ml https://www.comet.ml/polabs/crypto-dashboard/577bb26a12ca4b998276d0b0bafe113e\n",
      "\n",
      "COMET INFO: Experiment is live on comet.ml https://www.comet.ml/polabs/crypto-dashboard/577bb26a12ca4b998276d0b0bafe113e\n",
      "\n",
      "COMET INFO: old comet version (1.0.42) detected. current: 1.0.43 please update your comet lib with command: `pip install --no-cache-dir --upgrade comet_ml`\n",
      "COMET INFO: Experiment is live on comet.ml https://www.comet.ml/polabs/crypto-dashboard/32b108f3af434586aa41f98bc47bb2ba\n",
      "\n",
      "COMET INFO: Experiment is live on comet.ml https://www.comet.ml/polabs/crypto-dashboard/32b108f3af434586aa41f98bc47bb2ba\n",
      "\n",
      "COMET INFO: old comet version (1.0.42) detected. current: 1.0.43 please update your comet lib with command: `pip install --no-cache-dir --upgrade comet_ml`\n",
      "COMET INFO: Experiment is live on comet.ml https://www.comet.ml/polabs/crypto-dashboard/e72f9aeb27f848cdb3a3cf726125d8f8\n",
      "\n",
      "COMET INFO: Experiment is live on comet.ml https://www.comet.ml/polabs/crypto-dashboard/e72f9aeb27f848cdb3a3cf726125d8f8\n",
      "\n",
      "COMET INFO: old comet version (1.0.42) detected. current: 1.0.43 please update your comet lib with command: `pip install --no-cache-dir --upgrade comet_ml`\n",
      "COMET INFO: Experiment is live on comet.ml https://www.comet.ml/polabs/crypto-dashboard/fdaad1ab162741d39f07e7a06affce8b\n",
      "\n",
      "COMET INFO: Experiment is live on comet.ml https://www.comet.ml/polabs/crypto-dashboard/fdaad1ab162741d39f07e7a06affce8b\n",
      "\n",
      "COMET INFO: old comet version (1.0.42) detected. current: 1.0.43 please update your comet lib with command: `pip install --no-cache-dir --upgrade comet_ml`\n",
      "COMET INFO: Experiment is live on comet.ml https://www.comet.ml/polabs/crypto-dashboard/bd4acabbf6fa4322af74e05aa868e181\n",
      "\n",
      "COMET INFO: Experiment is live on comet.ml https://www.comet.ml/polabs/crypto-dashboard/bd4acabbf6fa4322af74e05aa868e181\n",
      "\n",
      "COMET INFO: old comet version (1.0.42) detected. current: 1.0.43 please update your comet lib with command: `pip install --no-cache-dir --upgrade comet_ml`\n"
     ]
    },
    {
     "name": "stderr",
     "output_type": "stream",
     "text": [
      "COMET INFO: Experiment is live on comet.ml https://www.comet.ml/polabs/crypto-dashboard/5f5cda4503c4494791b29aac67e4cf36\n",
      "\n",
      "COMET INFO: Experiment is live on comet.ml https://www.comet.ml/polabs/crypto-dashboard/5f5cda4503c4494791b29aac67e4cf36\n",
      "\n",
      "COMET INFO: old comet version (1.0.42) detected. current: 1.0.43 please update your comet lib with command: `pip install --no-cache-dir --upgrade comet_ml`\n",
      "COMET INFO: Experiment is live on comet.ml https://www.comet.ml/polabs/crypto-dashboard/c9ccc376f4274453ba7956ca4317b240\n",
      "\n",
      "COMET INFO: Experiment is live on comet.ml https://www.comet.ml/polabs/crypto-dashboard/c9ccc376f4274453ba7956ca4317b240\n",
      "\n",
      "COMET INFO: old comet version (1.0.42) detected. current: 1.0.43 please update your comet lib with command: `pip install --no-cache-dir --upgrade comet_ml`\n",
      "COMET INFO: Experiment is live on comet.ml https://www.comet.ml/polabs/crypto-dashboard/b75f5bfb35a74eab8d2190f8838c0c4c\n",
      "\n",
      "COMET INFO: Experiment is live on comet.ml https://www.comet.ml/polabs/crypto-dashboard/b75f5bfb35a74eab8d2190f8838c0c4c\n",
      "\n",
      "COMET INFO: old comet version (1.0.42) detected. current: 1.0.43 please update your comet lib with command: `pip install --no-cache-dir --upgrade comet_ml`\n",
      "COMET INFO: Experiment is live on comet.ml https://www.comet.ml/polabs/crypto-dashboard/1fc0d60e677b484a801305cb626e8fae\n",
      "\n",
      "COMET INFO: Experiment is live on comet.ml https://www.comet.ml/polabs/crypto-dashboard/1fc0d60e677b484a801305cb626e8fae\n",
      "\n",
      "COMET INFO: old comet version (1.0.42) detected. current: 1.0.43 please update your comet lib with command: `pip install --no-cache-dir --upgrade comet_ml`\n",
      "COMET INFO: Experiment is live on comet.ml https://www.comet.ml/polabs/crypto-dashboard/f6283e37053c443c93afd0ad4b526118\n",
      "\n",
      "COMET INFO: Experiment is live on comet.ml https://www.comet.ml/polabs/crypto-dashboard/f6283e37053c443c93afd0ad4b526118\n",
      "\n",
      "COMET INFO: old comet version (1.0.42) detected. current: 1.0.43 please update your comet lib with command: `pip install --no-cache-dir --upgrade comet_ml`\n",
      "COMET INFO: Experiment is live on comet.ml https://www.comet.ml/polabs/crypto-dashboard/af79fb0f87ae4af280fa6076f75872cc\n",
      "\n",
      "COMET INFO: Experiment is live on comet.ml https://www.comet.ml/polabs/crypto-dashboard/af79fb0f87ae4af280fa6076f75872cc\n",
      "\n",
      "COMET INFO: old comet version (1.0.42) detected. current: 1.0.43 please update your comet lib with command: `pip install --no-cache-dir --upgrade comet_ml`\n",
      "COMET INFO: Experiment is live on comet.ml https://www.comet.ml/polabs/crypto-dashboard/32a6835171dc42c39da32c4b69b77074\n",
      "\n",
      "COMET INFO: Experiment is live on comet.ml https://www.comet.ml/polabs/crypto-dashboard/32a6835171dc42c39da32c4b69b77074\n",
      "\n",
      "COMET INFO: old comet version (1.0.42) detected. current: 1.0.43 please update your comet lib with command: `pip install --no-cache-dir --upgrade comet_ml`\n",
      "COMET INFO: Experiment is live on comet.ml https://www.comet.ml/polabs/crypto-dashboard/b2c2df711d864c25accb067d44916b95\n",
      "\n",
      "COMET INFO: Experiment is live on comet.ml https://www.comet.ml/polabs/crypto-dashboard/b2c2df711d864c25accb067d44916b95\n",
      "\n",
      "COMET INFO: old comet version (1.0.42) detected. current: 1.0.43 please update your comet lib with command: `pip install --no-cache-dir --upgrade comet_ml`\n",
      "COMET INFO: Experiment is live on comet.ml https://www.comet.ml/polabs/crypto-dashboard/8469bcb65aca4409b5a0f767cf7cec5b\n",
      "\n",
      "COMET INFO: Experiment is live on comet.ml https://www.comet.ml/polabs/crypto-dashboard/8469bcb65aca4409b5a0f767cf7cec5b\n",
      "\n",
      "COMET INFO: old comet version (1.0.42) detected. current: 1.0.43 please update your comet lib with command: `pip install --no-cache-dir --upgrade comet_ml`\n",
      "COMET INFO: Experiment is live on comet.ml https://www.comet.ml/polabs/crypto-dashboard/da776efcfa194288a8dc3b8116669ffd\n",
      "\n",
      "COMET INFO: Experiment is live on comet.ml https://www.comet.ml/polabs/crypto-dashboard/da776efcfa194288a8dc3b8116669ffd\n",
      "\n",
      "COMET INFO: old comet version (1.0.42) detected. current: 1.0.43 please update your comet lib with command: `pip install --no-cache-dir --upgrade comet_ml`\n",
      "COMET INFO: Experiment is live on comet.ml https://www.comet.ml/polabs/crypto-dashboard/650e39c6a9af406ebfddfc532984ada7\n",
      "\n",
      "COMET INFO: Experiment is live on comet.ml https://www.comet.ml/polabs/crypto-dashboard/650e39c6a9af406ebfddfc532984ada7\n",
      "\n",
      "COMET INFO: old comet version (1.0.42) detected. current: 1.0.43 please update your comet lib with command: `pip install --no-cache-dir --upgrade comet_ml`\n",
      "COMET INFO: Experiment is live on comet.ml https://www.comet.ml/polabs/crypto-dashboard/039c6e5c12f24001a842f98aa48791c1\n",
      "\n",
      "COMET INFO: Experiment is live on comet.ml https://www.comet.ml/polabs/crypto-dashboard/039c6e5c12f24001a842f98aa48791c1\n",
      "\n",
      "COMET INFO: old comet version (1.0.42) detected. current: 1.0.43 please update your comet lib with command: `pip install --no-cache-dir --upgrade comet_ml`\n",
      "COMET INFO: Experiment is live on comet.ml https://www.comet.ml/polabs/crypto-dashboard/c301b772967f40ddaa4dd564656d4fcb\n",
      "\n",
      "COMET INFO: Experiment is live on comet.ml https://www.comet.ml/polabs/crypto-dashboard/c301b772967f40ddaa4dd564656d4fcb\n",
      "\n",
      "COMET INFO: old comet version (1.0.42) detected. current: 1.0.43 please update your comet lib with command: `pip install --no-cache-dir --upgrade comet_ml`\n",
      "COMET INFO: Experiment is live on comet.ml https://www.comet.ml/polabs/crypto-dashboard/e9d55df32a644f5094ab318e57cc8799\n",
      "\n",
      "COMET INFO: Experiment is live on comet.ml https://www.comet.ml/polabs/crypto-dashboard/e9d55df32a644f5094ab318e57cc8799\n",
      "\n",
      "COMET INFO: old comet version (1.0.42) detected. current: 1.0.43 please update your comet lib with command: `pip install --no-cache-dir --upgrade comet_ml`\n",
      "COMET INFO: Experiment is live on comet.ml https://www.comet.ml/polabs/crypto-dashboard/3a66552358c9400ab264b64f17a338c5\n",
      "\n",
      "COMET INFO: Experiment is live on comet.ml https://www.comet.ml/polabs/crypto-dashboard/3a66552358c9400ab264b64f17a338c5\n",
      "\n",
      "COMET INFO: old comet version (1.0.42) detected. current: 1.0.43 please update your comet lib with command: `pip install --no-cache-dir --upgrade comet_ml`\n",
      "COMET INFO: Experiment is live on comet.ml https://www.comet.ml/polabs/crypto-dashboard/1fe408e1d8a44cd8818c40a91d6e2d8d\n",
      "\n",
      "COMET INFO: Experiment is live on comet.ml https://www.comet.ml/polabs/crypto-dashboard/1fe408e1d8a44cd8818c40a91d6e2d8d\n",
      "\n",
      "COMET INFO: old comet version (1.0.42) detected. current: 1.0.43 please update your comet lib with command: `pip install --no-cache-dir --upgrade comet_ml`\n",
      "COMET INFO: Experiment is live on comet.ml https://www.comet.ml/polabs/crypto-dashboard/6b96241442334e1681c0e5850d82c7c3\n",
      "\n",
      "COMET INFO: Experiment is live on comet.ml https://www.comet.ml/polabs/crypto-dashboard/6b96241442334e1681c0e5850d82c7c3\n",
      "\n",
      "COMET INFO: old comet version (1.0.42) detected. current: 1.0.43 please update your comet lib with command: `pip install --no-cache-dir --upgrade comet_ml`\n",
      "COMET INFO: Experiment is live on comet.ml https://www.comet.ml/polabs/crypto-dashboard/3674e0855ffa45b784bd70fb2dd81e00\n",
      "\n",
      "COMET INFO: Experiment is live on comet.ml https://www.comet.ml/polabs/crypto-dashboard/3674e0855ffa45b784bd70fb2dd81e00\n",
      "\n",
      "COMET INFO: old comet version (1.0.42) detected. current: 1.0.43 please update your comet lib with command: `pip install --no-cache-dir --upgrade comet_ml`\n",
      "COMET INFO: Experiment is live on comet.ml https://www.comet.ml/polabs/crypto-dashboard/46a1af64b7f341aa8ae4f67bb8ff5d3f\n",
      "\n",
      "COMET INFO: Experiment is live on comet.ml https://www.comet.ml/polabs/crypto-dashboard/46a1af64b7f341aa8ae4f67bb8ff5d3f\n",
      "\n",
      "COMET INFO: old comet version (1.0.42) detected. current: 1.0.43 please update your comet lib with command: `pip install --no-cache-dir --upgrade comet_ml`\n",
      "COMET INFO: Experiment is live on comet.ml https://www.comet.ml/polabs/crypto-dashboard/f68976b302054af6b615486ae2ae35ea\n",
      "\n",
      "COMET INFO: Experiment is live on comet.ml https://www.comet.ml/polabs/crypto-dashboard/f68976b302054af6b615486ae2ae35ea\n",
      "\n",
      "COMET INFO: old comet version (1.0.42) detected. current: 1.0.43 please update your comet lib with command: `pip install --no-cache-dir --upgrade comet_ml`\n",
      "COMET INFO: Experiment is live on comet.ml https://www.comet.ml/polabs/crypto-dashboard/35f570c2411b4b3ab7c1e0f667c60412\n",
      "\n",
      "COMET INFO: Experiment is live on comet.ml https://www.comet.ml/polabs/crypto-dashboard/35f570c2411b4b3ab7c1e0f667c60412\n",
      "\n"
     ]
    },
    {
     "name": "stderr",
     "output_type": "stream",
     "text": [
      "COMET INFO: old comet version (1.0.42) detected. current: 1.0.43 please update your comet lib with command: `pip install --no-cache-dir --upgrade comet_ml`\n",
      "COMET INFO: Experiment is live on comet.ml https://www.comet.ml/polabs/crypto-dashboard/461152badf5446059a59750436235462\n",
      "\n",
      "COMET INFO: Experiment is live on comet.ml https://www.comet.ml/polabs/crypto-dashboard/461152badf5446059a59750436235462\n",
      "\n",
      "COMET INFO: old comet version (1.0.42) detected. current: 1.0.43 please update your comet lib with command: `pip install --no-cache-dir --upgrade comet_ml`\n",
      "COMET INFO: Experiment is live on comet.ml https://www.comet.ml/polabs/crypto-dashboard/4489a41335c04c1cafdfb87a47129dbe\n",
      "\n",
      "COMET INFO: Experiment is live on comet.ml https://www.comet.ml/polabs/crypto-dashboard/4489a41335c04c1cafdfb87a47129dbe\n",
      "\n",
      "COMET INFO: old comet version (1.0.42) detected. current: 1.0.43 please update your comet lib with command: `pip install --no-cache-dir --upgrade comet_ml`\n",
      "COMET INFO: Experiment is live on comet.ml https://www.comet.ml/polabs/crypto-dashboard/fa45d09f14174e4081b2989b9b0da8d4\n",
      "\n",
      "COMET INFO: Experiment is live on comet.ml https://www.comet.ml/polabs/crypto-dashboard/fa45d09f14174e4081b2989b9b0da8d4\n",
      "\n",
      "COMET INFO: old comet version (1.0.42) detected. current: 1.0.43 please update your comet lib with command: `pip install --no-cache-dir --upgrade comet_ml`\n",
      "COMET INFO: Experiment is live on comet.ml https://www.comet.ml/polabs/crypto-dashboard/0293b92048fb42c89f60671e9aa5c7ee\n",
      "\n",
      "COMET INFO: Experiment is live on comet.ml https://www.comet.ml/polabs/crypto-dashboard/0293b92048fb42c89f60671e9aa5c7ee\n",
      "\n",
      "COMET INFO: old comet version (1.0.42) detected. current: 1.0.43 please update your comet lib with command: `pip install --no-cache-dir --upgrade comet_ml`\n",
      "COMET INFO: Experiment is live on comet.ml https://www.comet.ml/polabs/crypto-dashboard/67cdef235d1f40549e4420d149d1d8bf\n",
      "\n",
      "COMET INFO: Experiment is live on comet.ml https://www.comet.ml/polabs/crypto-dashboard/67cdef235d1f40549e4420d149d1d8bf\n",
      "\n",
      "COMET INFO: old comet version (1.0.42) detected. current: 1.0.43 please update your comet lib with command: `pip install --no-cache-dir --upgrade comet_ml`\n",
      "COMET INFO: Experiment is live on comet.ml https://www.comet.ml/polabs/crypto-dashboard/280ca4c3393d47fbaff643626ee1f476\n",
      "\n",
      "COMET INFO: Experiment is live on comet.ml https://www.comet.ml/polabs/crypto-dashboard/280ca4c3393d47fbaff643626ee1f476\n",
      "\n",
      "COMET INFO: old comet version (1.0.42) detected. current: 1.0.43 please update your comet lib with command: `pip install --no-cache-dir --upgrade comet_ml`\n",
      "COMET INFO: Experiment is live on comet.ml https://www.comet.ml/polabs/crypto-dashboard/1018d81bf0cd4ef2a9ef9fd89e4eef23\n",
      "\n",
      "COMET INFO: Experiment is live on comet.ml https://www.comet.ml/polabs/crypto-dashboard/1018d81bf0cd4ef2a9ef9fd89e4eef23\n",
      "\n",
      "COMET INFO: old comet version (1.0.42) detected. current: 1.0.43 please update your comet lib with command: `pip install --no-cache-dir --upgrade comet_ml`\n",
      "COMET INFO: Experiment is live on comet.ml https://www.comet.ml/polabs/crypto-dashboard/7ddc9c92eaf3440baee30f4a347d774b\n",
      "\n",
      "COMET INFO: Experiment is live on comet.ml https://www.comet.ml/polabs/crypto-dashboard/7ddc9c92eaf3440baee30f4a347d774b\n",
      "\n",
      "COMET INFO: old comet version (1.0.42) detected. current: 1.0.43 please update your comet lib with command: `pip install --no-cache-dir --upgrade comet_ml`\n",
      "COMET INFO: Experiment is live on comet.ml https://www.comet.ml/polabs/crypto-dashboard/2b9797424a7a4b4fb85034240ddee71b\n",
      "\n",
      "COMET INFO: Experiment is live on comet.ml https://www.comet.ml/polabs/crypto-dashboard/2b9797424a7a4b4fb85034240ddee71b\n",
      "\n",
      "COMET INFO: old comet version (1.0.42) detected. current: 1.0.43 please update your comet lib with command: `pip install --no-cache-dir --upgrade comet_ml`\n",
      "COMET INFO: Experiment is live on comet.ml https://www.comet.ml/polabs/crypto-dashboard/2d896312a0f84e01b53326c4fa7396b9\n",
      "\n",
      "COMET INFO: Experiment is live on comet.ml https://www.comet.ml/polabs/crypto-dashboard/2d896312a0f84e01b53326c4fa7396b9\n",
      "\n",
      "COMET INFO: old comet version (1.0.42) detected. current: 1.0.43 please update your comet lib with command: `pip install --no-cache-dir --upgrade comet_ml`\n",
      "COMET INFO: Experiment is live on comet.ml https://www.comet.ml/polabs/crypto-dashboard/e27672ce3bf94e6780f982292780cd4d\n",
      "\n",
      "COMET INFO: Experiment is live on comet.ml https://www.comet.ml/polabs/crypto-dashboard/e27672ce3bf94e6780f982292780cd4d\n",
      "\n",
      "COMET INFO: old comet version (1.0.42) detected. current: 1.0.43 please update your comet lib with command: `pip install --no-cache-dir --upgrade comet_ml`\n",
      "COMET INFO: Experiment is live on comet.ml https://www.comet.ml/polabs/crypto-dashboard/36f7a99f7e034db2810957e80e456b77\n",
      "\n",
      "COMET INFO: Experiment is live on comet.ml https://www.comet.ml/polabs/crypto-dashboard/36f7a99f7e034db2810957e80e456b77\n",
      "\n",
      "COMET INFO: old comet version (1.0.42) detected. current: 1.0.43 please update your comet lib with command: `pip install --no-cache-dir --upgrade comet_ml`\n",
      "COMET INFO: Experiment is live on comet.ml https://www.comet.ml/polabs/crypto-dashboard/40272e3c06644ce497ca1747493907d0\n",
      "\n",
      "COMET INFO: Experiment is live on comet.ml https://www.comet.ml/polabs/crypto-dashboard/40272e3c06644ce497ca1747493907d0\n",
      "\n",
      "COMET INFO: old comet version (1.0.42) detected. current: 1.0.43 please update your comet lib with command: `pip install --no-cache-dir --upgrade comet_ml`\n",
      "COMET INFO: Experiment is live on comet.ml https://www.comet.ml/polabs/crypto-dashboard/288e196feddb458f92600affe49702fa\n",
      "\n",
      "COMET INFO: Experiment is live on comet.ml https://www.comet.ml/polabs/crypto-dashboard/288e196feddb458f92600affe49702fa\n",
      "\n",
      "COMET INFO: old comet version (1.0.42) detected. current: 1.0.43 please update your comet lib with command: `pip install --no-cache-dir --upgrade comet_ml`\n",
      "COMET INFO: Experiment is live on comet.ml https://www.comet.ml/polabs/crypto-dashboard/6b21fda62b8247f6aa186c12529567dc\n",
      "\n",
      "COMET INFO: Experiment is live on comet.ml https://www.comet.ml/polabs/crypto-dashboard/6b21fda62b8247f6aa186c12529567dc\n",
      "\n",
      "COMET INFO: old comet version (1.0.42) detected. current: 1.0.43 please update your comet lib with command: `pip install --no-cache-dir --upgrade comet_ml`\n",
      "COMET INFO: Experiment is live on comet.ml https://www.comet.ml/polabs/crypto-dashboard/bb90c834b7ba4af0906497a3d09cc9c6\n",
      "\n",
      "COMET INFO: Experiment is live on comet.ml https://www.comet.ml/polabs/crypto-dashboard/bb90c834b7ba4af0906497a3d09cc9c6\n",
      "\n",
      "COMET INFO: old comet version (1.0.42) detected. current: 1.0.43 please update your comet lib with command: `pip install --no-cache-dir --upgrade comet_ml`\n",
      "COMET INFO: Experiment is live on comet.ml https://www.comet.ml/polabs/crypto-dashboard/81df25296c5145f7ac62e8e93ae64e08\n",
      "\n",
      "COMET INFO: Experiment is live on comet.ml https://www.comet.ml/polabs/crypto-dashboard/81df25296c5145f7ac62e8e93ae64e08\n",
      "\n",
      "COMET INFO: old comet version (1.0.42) detected. current: 1.0.43 please update your comet lib with command: `pip install --no-cache-dir --upgrade comet_ml`\n",
      "COMET INFO: Experiment is live on comet.ml https://www.comet.ml/polabs/crypto-dashboard/f561a2b9cf3c4ecaa60029385e50b258\n",
      "\n",
      "COMET INFO: Experiment is live on comet.ml https://www.comet.ml/polabs/crypto-dashboard/f561a2b9cf3c4ecaa60029385e50b258\n",
      "\n",
      "COMET INFO: old comet version (1.0.42) detected. current: 1.0.43 please update your comet lib with command: `pip install --no-cache-dir --upgrade comet_ml`\n",
      "COMET INFO: Experiment is live on comet.ml https://www.comet.ml/polabs/crypto-dashboard/ec82c7d08420481ea6e461020a855972\n",
      "\n",
      "COMET INFO: Experiment is live on comet.ml https://www.comet.ml/polabs/crypto-dashboard/ec82c7d08420481ea6e461020a855972\n",
      "\n",
      "COMET INFO: old comet version (1.0.42) detected. current: 1.0.43 please update your comet lib with command: `pip install --no-cache-dir --upgrade comet_ml`\n",
      "COMET INFO: Experiment is live on comet.ml https://www.comet.ml/polabs/crypto-dashboard/bf9c511a99d444bbb16e54082dcc40f8\n",
      "\n",
      "COMET INFO: Experiment is live on comet.ml https://www.comet.ml/polabs/crypto-dashboard/bf9c511a99d444bbb16e54082dcc40f8\n",
      "\n",
      "COMET INFO: old comet version (1.0.42) detected. current: 1.0.43 please update your comet lib with command: `pip install --no-cache-dir --upgrade comet_ml`\n",
      "COMET INFO: Experiment is live on comet.ml https://www.comet.ml/polabs/crypto-dashboard/4e3439d7560249e482eeb2c82dabcf62\n",
      "\n"
     ]
    },
    {
     "name": "stderr",
     "output_type": "stream",
     "text": [
      "COMET INFO: Experiment is live on comet.ml https://www.comet.ml/polabs/crypto-dashboard/4e3439d7560249e482eeb2c82dabcf62\n",
      "\n",
      "COMET INFO: old comet version (1.0.42) detected. current: 1.0.43 please update your comet lib with command: `pip install --no-cache-dir --upgrade comet_ml`\n",
      "COMET INFO: Experiment is live on comet.ml https://www.comet.ml/polabs/crypto-dashboard/170b0eb00b134926869edded30f52123\n",
      "\n",
      "COMET INFO: Experiment is live on comet.ml https://www.comet.ml/polabs/crypto-dashboard/170b0eb00b134926869edded30f52123\n",
      "\n",
      "COMET INFO: old comet version (1.0.42) detected. current: 1.0.43 please update your comet lib with command: `pip install --no-cache-dir --upgrade comet_ml`\n",
      "COMET INFO: Experiment is live on comet.ml https://www.comet.ml/polabs/crypto-dashboard/23190712af674f529e384689e4c640f0\n",
      "\n",
      "COMET INFO: Experiment is live on comet.ml https://www.comet.ml/polabs/crypto-dashboard/23190712af674f529e384689e4c640f0\n",
      "\n",
      "COMET INFO: old comet version (1.0.42) detected. current: 1.0.43 please update your comet lib with command: `pip install --no-cache-dir --upgrade comet_ml`\n",
      "COMET INFO: Experiment is live on comet.ml https://www.comet.ml/polabs/crypto-dashboard/f543076346fc42e3ab79edf7cba5b19e\n",
      "\n",
      "COMET INFO: Experiment is live on comet.ml https://www.comet.ml/polabs/crypto-dashboard/f543076346fc42e3ab79edf7cba5b19e\n",
      "\n",
      "COMET INFO: old comet version (1.0.42) detected. current: 1.0.43 please update your comet lib with command: `pip install --no-cache-dir --upgrade comet_ml`\n",
      "COMET INFO: Experiment is live on comet.ml https://www.comet.ml/polabs/crypto-dashboard/a05340b38c9e4e97a1d5c4802f5d73a3\n",
      "\n",
      "COMET INFO: Experiment is live on comet.ml https://www.comet.ml/polabs/crypto-dashboard/a05340b38c9e4e97a1d5c4802f5d73a3\n",
      "\n",
      "COMET INFO: old comet version (1.0.42) detected. current: 1.0.43 please update your comet lib with command: `pip install --no-cache-dir --upgrade comet_ml`\n",
      "COMET INFO: Experiment is live on comet.ml https://www.comet.ml/polabs/crypto-dashboard/412a9a65fb7e4154bed168c80a1915b8\n",
      "\n",
      "COMET INFO: Experiment is live on comet.ml https://www.comet.ml/polabs/crypto-dashboard/412a9a65fb7e4154bed168c80a1915b8\n",
      "\n",
      "COMET INFO: old comet version (1.0.42) detected. current: 1.0.43 please update your comet lib with command: `pip install --no-cache-dir --upgrade comet_ml`\n",
      "COMET INFO: Experiment is live on comet.ml https://www.comet.ml/polabs/crypto-dashboard/b9d602b6318f480894865b4a38697147\n",
      "\n",
      "COMET INFO: Experiment is live on comet.ml https://www.comet.ml/polabs/crypto-dashboard/b9d602b6318f480894865b4a38697147\n",
      "\n",
      "COMET INFO: old comet version (1.0.42) detected. current: 1.0.43 please update your comet lib with command: `pip install --no-cache-dir --upgrade comet_ml`\n",
      "COMET INFO: Experiment is live on comet.ml https://www.comet.ml/polabs/crypto-dashboard/2ab1cb593afa4f9caa03992af9f84408\n",
      "\n",
      "COMET INFO: Experiment is live on comet.ml https://www.comet.ml/polabs/crypto-dashboard/2ab1cb593afa4f9caa03992af9f84408\n",
      "\n",
      "COMET INFO: old comet version (1.0.42) detected. current: 1.0.43 please update your comet lib with command: `pip install --no-cache-dir --upgrade comet_ml`\n",
      "COMET INFO: Experiment is live on comet.ml https://www.comet.ml/polabs/crypto-dashboard/ad523e698eb24c41920cafb85c07cbeb\n",
      "\n",
      "COMET INFO: Experiment is live on comet.ml https://www.comet.ml/polabs/crypto-dashboard/ad523e698eb24c41920cafb85c07cbeb\n",
      "\n",
      "COMET INFO: old comet version (1.0.42) detected. current: 1.0.43 please update your comet lib with command: `pip install --no-cache-dir --upgrade comet_ml`\n",
      "COMET INFO: Experiment is live on comet.ml https://www.comet.ml/polabs/crypto-dashboard/7dc73543e927469597479a97e82e7220\n",
      "\n",
      "COMET INFO: Experiment is live on comet.ml https://www.comet.ml/polabs/crypto-dashboard/7dc73543e927469597479a97e82e7220\n",
      "\n",
      "COMET INFO: old comet version (1.0.42) detected. current: 1.0.43 please update your comet lib with command: `pip install --no-cache-dir --upgrade comet_ml`\n",
      "COMET INFO: Experiment is live on comet.ml https://www.comet.ml/polabs/crypto-dashboard/fe100a6e10ca48e183db65324752748e\n",
      "\n",
      "COMET INFO: Experiment is live on comet.ml https://www.comet.ml/polabs/crypto-dashboard/fe100a6e10ca48e183db65324752748e\n",
      "\n",
      "COMET INFO: old comet version (1.0.42) detected. current: 1.0.43 please update your comet lib with command: `pip install --no-cache-dir --upgrade comet_ml`\n",
      "COMET INFO: Experiment is live on comet.ml https://www.comet.ml/polabs/crypto-dashboard/b37aaa6edd4e49359b7b0f7a303da0ae\n",
      "\n",
      "COMET INFO: Experiment is live on comet.ml https://www.comet.ml/polabs/crypto-dashboard/b37aaa6edd4e49359b7b0f7a303da0ae\n",
      "\n",
      "COMET INFO: old comet version (1.0.42) detected. current: 1.0.43 please update your comet lib with command: `pip install --no-cache-dir --upgrade comet_ml`\n",
      "COMET INFO: Experiment is live on comet.ml https://www.comet.ml/polabs/crypto-dashboard/310185c4fbe645c1a0a82892390927ee\n",
      "\n",
      "COMET INFO: Experiment is live on comet.ml https://www.comet.ml/polabs/crypto-dashboard/310185c4fbe645c1a0a82892390927ee\n",
      "\n",
      "COMET INFO: old comet version (1.0.42) detected. current: 1.0.43 please update your comet lib with command: `pip install --no-cache-dir --upgrade comet_ml`\n",
      "COMET INFO: Experiment is live on comet.ml https://www.comet.ml/polabs/crypto-dashboard/c1348ef85c794e0596ed97ae18d0f38a\n",
      "\n",
      "COMET INFO: Experiment is live on comet.ml https://www.comet.ml/polabs/crypto-dashboard/c1348ef85c794e0596ed97ae18d0f38a\n",
      "\n",
      "COMET INFO: old comet version (1.0.42) detected. current: 1.0.43 please update your comet lib with command: `pip install --no-cache-dir --upgrade comet_ml`\n",
      "COMET INFO: Experiment is live on comet.ml https://www.comet.ml/polabs/crypto-dashboard/21232b721a2240aabdc90f1823d1be28\n",
      "\n",
      "COMET INFO: Experiment is live on comet.ml https://www.comet.ml/polabs/crypto-dashboard/21232b721a2240aabdc90f1823d1be28\n",
      "\n",
      "COMET INFO: old comet version (1.0.42) detected. current: 1.0.43 please update your comet lib with command: `pip install --no-cache-dir --upgrade comet_ml`\n",
      "COMET INFO: Experiment is live on comet.ml https://www.comet.ml/polabs/crypto-dashboard/8f3aa011ed5a4edeaaf533fd62bf4b1f\n",
      "\n",
      "COMET INFO: Experiment is live on comet.ml https://www.comet.ml/polabs/crypto-dashboard/8f3aa011ed5a4edeaaf533fd62bf4b1f\n",
      "\n",
      "COMET INFO: old comet version (1.0.42) detected. current: 1.0.43 please update your comet lib with command: `pip install --no-cache-dir --upgrade comet_ml`\n",
      "COMET INFO: Experiment is live on comet.ml https://www.comet.ml/polabs/crypto-dashboard/fa50c1deb2bb4828ae6e85a56c255818\n",
      "\n",
      "COMET INFO: Experiment is live on comet.ml https://www.comet.ml/polabs/crypto-dashboard/fa50c1deb2bb4828ae6e85a56c255818\n",
      "\n",
      "COMET INFO: old comet version (1.0.42) detected. current: 1.0.43 please update your comet lib with command: `pip install --no-cache-dir --upgrade comet_ml`\n",
      "COMET INFO: Experiment is live on comet.ml https://www.comet.ml/polabs/crypto-dashboard/6a9c4912ebfa466fbcea019f86856a04\n",
      "\n",
      "COMET INFO: Experiment is live on comet.ml https://www.comet.ml/polabs/crypto-dashboard/6a9c4912ebfa466fbcea019f86856a04\n",
      "\n",
      "COMET INFO: old comet version (1.0.42) detected. current: 1.0.43 please update your comet lib with command: `pip install --no-cache-dir --upgrade comet_ml`\n",
      "COMET INFO: Experiment is live on comet.ml https://www.comet.ml/polabs/crypto-dashboard/edd114e3d31947348b214ac49ece77fd\n",
      "\n"
     ]
    }
   ],
   "source": [
    "#1. Logistic regression\n",
    "scaler = preprocessing.StandardScaler().fit(XY_train[1])\n",
    "XY_train_scale = scaler.transform(XY_train[1])        #print(pd.DataFrame(XY_train_scale).head())\n",
    "XY_test_scale = scaler.transform(XY_test[1])        #print(pd.DataFrame(XY_test_scale).head())\n",
    "        \n",
    "param_grid = {'penalty':['l1', 'l2'],\n",
    "            'C':[0.0001, 0.001, 0.01, 0.1, 1, 5, 10, 100 ], \n",
    "            'tol':[0.001, 0.01, 0.1, 1, 10]}    \n",
    "\n",
    "Model_logistic = LogisticRegression(verbose=2)\n",
    "CV_logistic = GridSearchCV(Model_logistic, param_grid=param_grid, cv = 10, n_jobs=-1)\n",
    "CV_logistic.fit(XY_train_scale, XY_train[0].values.ravel())\n",
    "y_pred = CV_logistic.predict(XY_test_scale)\n",
    "\n",
    "print(\"\\nResults\\nConfusion matrix \\n {}\".format(confusion_matrix(XY_test[0], y_pred)))\n",
    "f1 = f1_score(XY_test[0], y_pred)\n",
    "precision = precision_score(XY_test[0], y_pred)\n",
    "recall = recall_score(XY_test[0], y_pred)\n",
    "\n",
    "print(\"F1 score is {:6.3f}\".format(f1))\n",
    "print(\"Precision score is {:6.3f}\".format(precision))\n",
    "print(\"Recall score is {:6.3f}\".format(recall))\n",
    "\n",
    "for i in range(len(CV_logistic.cv_results_['params'])):\n",
    "    exp = Experiment(api_key=cometkey.loc[0, 'cometapikey'], project_name=\"Crypto_Dashboard\")\n",
    "    for k,v in CV_logistic.cv_results_.items():\n",
    "            if k == \"params\":\n",
    "                exp.log_parameters(v[i])\n",
    "            else:\n",
    "                exp.log_metric(k,v[i])"
   ]
  },
  {
   "cell_type": "code",
   "execution_count": 11,
   "metadata": {},
   "outputs": [
    {
     "name": "stderr",
     "output_type": "stream",
     "text": [
      "COMET INFO: Experiment is live on comet.ml https://www.comet.ml/polabs/crypto-dashboard/edd114e3d31947348b214ac49ece77fd\n",
      "\n"
     ]
    },
    {
     "name": "stdout",
     "output_type": "stream",
     "text": [
      "\n",
      "Results\n",
      "Confusion matrix \n",
      " [[ 86 262]\n",
      " [  8 212]]\n",
      "F1 score is  0.611\n",
      "Precision score is  0.447\n",
      "Recall score is  0.964\n"
     ]
    },
    {
     "name": "stderr",
     "output_type": "stream",
     "text": [
      "COMET INFO: old comet version (1.0.42) detected. current: 1.0.43 please update your comet lib with command: `pip install --no-cache-dir --upgrade comet_ml`\n",
      "COMET INFO: Experiment is live on comet.ml https://www.comet.ml/polabs/crypto-dashboard/3a1105c61733452d8484ec75b17a21ce\n",
      "\n",
      "COMET INFO: Experiment is live on comet.ml https://www.comet.ml/polabs/crypto-dashboard/3a1105c61733452d8484ec75b17a21ce\n",
      "\n",
      "COMET INFO: old comet version (1.0.42) detected. current: 1.0.43 please update your comet lib with command: `pip install --no-cache-dir --upgrade comet_ml`\n",
      "COMET INFO: Experiment is live on comet.ml https://www.comet.ml/polabs/crypto-dashboard/5e2966c2229f4fea9462533780ca45bc\n",
      "\n",
      "COMET INFO: Experiment is live on comet.ml https://www.comet.ml/polabs/crypto-dashboard/5e2966c2229f4fea9462533780ca45bc\n",
      "\n",
      "COMET INFO: old comet version (1.0.42) detected. current: 1.0.43 please update your comet lib with command: `pip install --no-cache-dir --upgrade comet_ml`\n",
      "COMET INFO: Experiment is live on comet.ml https://www.comet.ml/polabs/crypto-dashboard/a77b3942a20646e5989837df0a91c5ae\n",
      "\n",
      "COMET INFO: Experiment is live on comet.ml https://www.comet.ml/polabs/crypto-dashboard/a77b3942a20646e5989837df0a91c5ae\n",
      "\n",
      "COMET INFO: old comet version (1.0.42) detected. current: 1.0.43 please update your comet lib with command: `pip install --no-cache-dir --upgrade comet_ml`\n",
      "COMET INFO: Experiment is live on comet.ml https://www.comet.ml/polabs/crypto-dashboard/f255841532d444c6b6dc8b133e94ff92\n",
      "\n",
      "COMET INFO: Experiment is live on comet.ml https://www.comet.ml/polabs/crypto-dashboard/f255841532d444c6b6dc8b133e94ff92\n",
      "\n",
      "COMET INFO: old comet version (1.0.42) detected. current: 1.0.43 please update your comet lib with command: `pip install --no-cache-dir --upgrade comet_ml`\n",
      "COMET INFO: Experiment is live on comet.ml https://www.comet.ml/polabs/crypto-dashboard/a2062676bff14a078446873dbd6c8521\n",
      "\n",
      "COMET INFO: Experiment is live on comet.ml https://www.comet.ml/polabs/crypto-dashboard/a2062676bff14a078446873dbd6c8521\n",
      "\n",
      "COMET INFO: old comet version (1.0.42) detected. current: 1.0.43 please update your comet lib with command: `pip install --no-cache-dir --upgrade comet_ml`\n",
      "COMET INFO: Experiment is live on comet.ml https://www.comet.ml/polabs/crypto-dashboard/7e04936f34e241afb823285dc325ff00\n",
      "\n",
      "COMET INFO: Experiment is live on comet.ml https://www.comet.ml/polabs/crypto-dashboard/7e04936f34e241afb823285dc325ff00\n",
      "\n",
      "COMET INFO: old comet version (1.0.42) detected. current: 1.0.43 please update your comet lib with command: `pip install --no-cache-dir --upgrade comet_ml`\n",
      "COMET INFO: Experiment is live on comet.ml https://www.comet.ml/polabs/crypto-dashboard/d774c6d9ac2d4e0f92cfec90135f1ad1\n",
      "\n",
      "COMET INFO: Experiment is live on comet.ml https://www.comet.ml/polabs/crypto-dashboard/d774c6d9ac2d4e0f92cfec90135f1ad1\n",
      "\n",
      "COMET INFO: old comet version (1.0.42) detected. current: 1.0.43 please update your comet lib with command: `pip install --no-cache-dir --upgrade comet_ml`\n",
      "COMET INFO: Experiment is live on comet.ml https://www.comet.ml/polabs/crypto-dashboard/ee3d87c3a9834fabbeb649bc52e89d4d\n",
      "\n",
      "COMET INFO: Experiment is live on comet.ml https://www.comet.ml/polabs/crypto-dashboard/ee3d87c3a9834fabbeb649bc52e89d4d\n",
      "\n",
      "COMET INFO: old comet version (1.0.42) detected. current: 1.0.43 please update your comet lib with command: `pip install --no-cache-dir --upgrade comet_ml`\n",
      "COMET INFO: Experiment is live on comet.ml https://www.comet.ml/polabs/crypto-dashboard/d1ab645e1e414a98ad1ab81dc491020e\n",
      "\n",
      "COMET INFO: Experiment is live on comet.ml https://www.comet.ml/polabs/crypto-dashboard/d1ab645e1e414a98ad1ab81dc491020e\n",
      "\n",
      "COMET INFO: old comet version (1.0.42) detected. current: 1.0.43 please update your comet lib with command: `pip install --no-cache-dir --upgrade comet_ml`\n",
      "COMET INFO: Experiment is live on comet.ml https://www.comet.ml/polabs/crypto-dashboard/5a127506fe704ea3a1c8160183445b89\n",
      "\n",
      "COMET INFO: Experiment is live on comet.ml https://www.comet.ml/polabs/crypto-dashboard/5a127506fe704ea3a1c8160183445b89\n",
      "\n",
      "COMET INFO: old comet version (1.0.42) detected. current: 1.0.43 please update your comet lib with command: `pip install --no-cache-dir --upgrade comet_ml`\n",
      "COMET INFO: Experiment is live on comet.ml https://www.comet.ml/polabs/crypto-dashboard/6e65f223714043b7968605e4c51d90d2\n",
      "\n",
      "COMET INFO: Experiment is live on comet.ml https://www.comet.ml/polabs/crypto-dashboard/6e65f223714043b7968605e4c51d90d2\n",
      "\n",
      "COMET INFO: old comet version (1.0.42) detected. current: 1.0.43 please update your comet lib with command: `pip install --no-cache-dir --upgrade comet_ml`\n",
      "COMET INFO: Experiment is live on comet.ml https://www.comet.ml/polabs/crypto-dashboard/1570b28c01ef4e11b47abbaefe7510d3\n",
      "\n",
      "COMET INFO: Experiment is live on comet.ml https://www.comet.ml/polabs/crypto-dashboard/1570b28c01ef4e11b47abbaefe7510d3\n",
      "\n",
      "COMET INFO: old comet version (1.0.42) detected. current: 1.0.43 please update your comet lib with command: `pip install --no-cache-dir --upgrade comet_ml`\n",
      "COMET INFO: Experiment is live on comet.ml https://www.comet.ml/polabs/crypto-dashboard/b5effe4527bc4e87bd07ed82487e47ce\n",
      "\n",
      "COMET INFO: Experiment is live on comet.ml https://www.comet.ml/polabs/crypto-dashboard/b5effe4527bc4e87bd07ed82487e47ce\n",
      "\n",
      "COMET INFO: old comet version (1.0.42) detected. current: 1.0.43 please update your comet lib with command: `pip install --no-cache-dir --upgrade comet_ml`\n",
      "COMET INFO: Experiment is live on comet.ml https://www.comet.ml/polabs/crypto-dashboard/5e221a96aa694b7a82baafd65a31c77f\n",
      "\n",
      "COMET INFO: Experiment is live on comet.ml https://www.comet.ml/polabs/crypto-dashboard/5e221a96aa694b7a82baafd65a31c77f\n",
      "\n",
      "COMET INFO: old comet version (1.0.42) detected. current: 1.0.43 please update your comet lib with command: `pip install --no-cache-dir --upgrade comet_ml`\n",
      "COMET INFO: Experiment is live on comet.ml https://www.comet.ml/polabs/crypto-dashboard/33d58334b0384cd38420504bce79d629\n",
      "\n",
      "COMET INFO: Experiment is live on comet.ml https://www.comet.ml/polabs/crypto-dashboard/33d58334b0384cd38420504bce79d629\n",
      "\n",
      "COMET INFO: old comet version (1.0.42) detected. current: 1.0.43 please update your comet lib with command: `pip install --no-cache-dir --upgrade comet_ml`\n",
      "COMET INFO: Experiment is live on comet.ml https://www.comet.ml/polabs/crypto-dashboard/21878853589044f1aeaf211340f211a7\n",
      "\n",
      "COMET INFO: Experiment is live on comet.ml https://www.comet.ml/polabs/crypto-dashboard/21878853589044f1aeaf211340f211a7\n",
      "\n",
      "COMET INFO: old comet version (1.0.42) detected. current: 1.0.43 please update your comet lib with command: `pip install --no-cache-dir --upgrade comet_ml`\n",
      "COMET INFO: Experiment is live on comet.ml https://www.comet.ml/polabs/crypto-dashboard/9b6924de11b3486da8d68247f9d6afd9\n",
      "\n",
      "COMET INFO: Experiment is live on comet.ml https://www.comet.ml/polabs/crypto-dashboard/9b6924de11b3486da8d68247f9d6afd9\n",
      "\n",
      "COMET INFO: old comet version (1.0.42) detected. current: 1.0.43 please update your comet lib with command: `pip install --no-cache-dir --upgrade comet_ml`\n",
      "COMET INFO: Experiment is live on comet.ml https://www.comet.ml/polabs/crypto-dashboard/c8a6b5cfce0548948c6cdc73e5fd38ad\n",
      "\n",
      "COMET INFO: Experiment is live on comet.ml https://www.comet.ml/polabs/crypto-dashboard/c8a6b5cfce0548948c6cdc73e5fd38ad\n",
      "\n",
      "COMET INFO: old comet version (1.0.42) detected. current: 1.0.43 please update your comet lib with command: `pip install --no-cache-dir --upgrade comet_ml`\n",
      "COMET INFO: Experiment is live on comet.ml https://www.comet.ml/polabs/crypto-dashboard/33844ec6081d4581b3a52970f42b7806\n",
      "\n",
      "COMET INFO: Experiment is live on comet.ml https://www.comet.ml/polabs/crypto-dashboard/33844ec6081d4581b3a52970f42b7806\n",
      "\n",
      "COMET INFO: old comet version (1.0.42) detected. current: 1.0.43 please update your comet lib with command: `pip install --no-cache-dir --upgrade comet_ml`\n",
      "COMET INFO: Experiment is live on comet.ml https://www.comet.ml/polabs/crypto-dashboard/04ebb39c5d1940fd94d56309edaafbe1\n",
      "\n",
      "COMET INFO: Experiment is live on comet.ml https://www.comet.ml/polabs/crypto-dashboard/04ebb39c5d1940fd94d56309edaafbe1\n",
      "\n",
      "COMET INFO: old comet version (1.0.42) detected. current: 1.0.43 please update your comet lib with command: `pip install --no-cache-dir --upgrade comet_ml`\n",
      "COMET INFO: Experiment is live on comet.ml https://www.comet.ml/polabs/crypto-dashboard/6b70985275d646d88b845cb3df2c1795\n",
      "\n"
     ]
    },
    {
     "name": "stderr",
     "output_type": "stream",
     "text": [
      "COMET INFO: Experiment is live on comet.ml https://www.comet.ml/polabs/crypto-dashboard/6b70985275d646d88b845cb3df2c1795\n",
      "\n",
      "COMET INFO: old comet version (1.0.42) detected. current: 1.0.43 please update your comet lib with command: `pip install --no-cache-dir --upgrade comet_ml`\n",
      "COMET INFO: Experiment is live on comet.ml https://www.comet.ml/polabs/crypto-dashboard/dc0502a2e8534097a45e2d9e2fadd4e6\n",
      "\n",
      "COMET INFO: Experiment is live on comet.ml https://www.comet.ml/polabs/crypto-dashboard/dc0502a2e8534097a45e2d9e2fadd4e6\n",
      "\n",
      "COMET INFO: old comet version (1.0.42) detected. current: 1.0.43 please update your comet lib with command: `pip install --no-cache-dir --upgrade comet_ml`\n",
      "COMET INFO: Experiment is live on comet.ml https://www.comet.ml/polabs/crypto-dashboard/c53ddd068ad84916bd742155453a1d33\n",
      "\n",
      "COMET INFO: Experiment is live on comet.ml https://www.comet.ml/polabs/crypto-dashboard/c53ddd068ad84916bd742155453a1d33\n",
      "\n",
      "COMET INFO: old comet version (1.0.42) detected. current: 1.0.43 please update your comet lib with command: `pip install --no-cache-dir --upgrade comet_ml`\n",
      "COMET INFO: Experiment is live on comet.ml https://www.comet.ml/polabs/crypto-dashboard/51ccd9ba7398414daacd856bdc6352d3\n",
      "\n",
      "COMET INFO: Experiment is live on comet.ml https://www.comet.ml/polabs/crypto-dashboard/51ccd9ba7398414daacd856bdc6352d3\n",
      "\n",
      "COMET INFO: old comet version (1.0.42) detected. current: 1.0.43 please update your comet lib with command: `pip install --no-cache-dir --upgrade comet_ml`\n",
      "COMET ERROR: File could not be uploaded\n",
      "COMET INFO: Experiment is live on comet.ml https://www.comet.ml/polabs/crypto-dashboard/0c06e99f09d2467d89927162867fc72e\n",
      "\n",
      "COMET INFO: Experiment is live on comet.ml https://www.comet.ml/polabs/crypto-dashboard/0c06e99f09d2467d89927162867fc72e\n",
      "\n",
      "COMET INFO: old comet version (1.0.42) detected. current: 1.0.43 please update your comet lib with command: `pip install --no-cache-dir --upgrade comet_ml`\n",
      "COMET INFO: Experiment is live on comet.ml https://www.comet.ml/polabs/crypto-dashboard/254159f9b63c403ab49e9302b1c6ba92\n",
      "\n",
      "COMET INFO: Experiment is live on comet.ml https://www.comet.ml/polabs/crypto-dashboard/254159f9b63c403ab49e9302b1c6ba92\n",
      "\n",
      "COMET INFO: old comet version (1.0.42) detected. current: 1.0.43 please update your comet lib with command: `pip install --no-cache-dir --upgrade comet_ml`\n",
      "COMET INFO: Experiment is live on comet.ml https://www.comet.ml/polabs/crypto-dashboard/19df2f8d706e4f52a5ebd3f1276a3ebf\n",
      "\n",
      "COMET INFO: Experiment is live on comet.ml https://www.comet.ml/polabs/crypto-dashboard/19df2f8d706e4f52a5ebd3f1276a3ebf\n",
      "\n",
      "COMET INFO: old comet version (1.0.42) detected. current: 1.0.43 please update your comet lib with command: `pip install --no-cache-dir --upgrade comet_ml`\n",
      "COMET INFO: Experiment is live on comet.ml https://www.comet.ml/polabs/crypto-dashboard/92d13cb0c5a24007baa3b8b5e5370e98\n",
      "\n",
      "COMET INFO: Experiment is live on comet.ml https://www.comet.ml/polabs/crypto-dashboard/92d13cb0c5a24007baa3b8b5e5370e98\n",
      "\n",
      "COMET INFO: old comet version (1.0.42) detected. current: 1.0.43 please update your comet lib with command: `pip install --no-cache-dir --upgrade comet_ml`\n",
      "COMET INFO: Experiment is live on comet.ml https://www.comet.ml/polabs/crypto-dashboard/865b843274c7468c8d0b9714e1cb6473\n",
      "\n",
      "COMET INFO: Experiment is live on comet.ml https://www.comet.ml/polabs/crypto-dashboard/865b843274c7468c8d0b9714e1cb6473\n",
      "\n",
      "COMET INFO: old comet version (1.0.42) detected. current: 1.0.43 please update your comet lib with command: `pip install --no-cache-dir --upgrade comet_ml`\n",
      "COMET INFO: Experiment is live on comet.ml https://www.comet.ml/polabs/crypto-dashboard/106fbc3276944f67990f96ecd88c9407\n",
      "\n",
      "COMET INFO: Experiment is live on comet.ml https://www.comet.ml/polabs/crypto-dashboard/106fbc3276944f67990f96ecd88c9407\n",
      "\n",
      "COMET INFO: old comet version (1.0.42) detected. current: 1.0.43 please update your comet lib with command: `pip install --no-cache-dir --upgrade comet_ml`\n",
      "COMET INFO: Experiment is live on comet.ml https://www.comet.ml/polabs/crypto-dashboard/92ddd52cee6f4dcabc273f7b2fe005bc\n",
      "\n",
      "COMET INFO: Experiment is live on comet.ml https://www.comet.ml/polabs/crypto-dashboard/92ddd52cee6f4dcabc273f7b2fe005bc\n",
      "\n",
      "COMET INFO: old comet version (1.0.42) detected. current: 1.0.43 please update your comet lib with command: `pip install --no-cache-dir --upgrade comet_ml`\n",
      "COMET INFO: Experiment is live on comet.ml https://www.comet.ml/polabs/crypto-dashboard/6d94707dced14e9e979973b4051d20e0\n",
      "\n",
      "COMET INFO: Experiment is live on comet.ml https://www.comet.ml/polabs/crypto-dashboard/6d94707dced14e9e979973b4051d20e0\n",
      "\n",
      "COMET INFO: old comet version (1.0.42) detected. current: 1.0.43 please update your comet lib with command: `pip install --no-cache-dir --upgrade comet_ml`\n",
      "COMET INFO: Experiment is live on comet.ml https://www.comet.ml/polabs/crypto-dashboard/494b5997871a4808af1cad09166e9f0c\n",
      "\n",
      "COMET INFO: Experiment is live on comet.ml https://www.comet.ml/polabs/crypto-dashboard/494b5997871a4808af1cad09166e9f0c\n",
      "\n",
      "COMET INFO: old comet version (1.0.42) detected. current: 1.0.43 please update your comet lib with command: `pip install --no-cache-dir --upgrade comet_ml`\n",
      "COMET INFO: Experiment is live on comet.ml https://www.comet.ml/polabs/crypto-dashboard/bcd5189ac75f4694975d6a2dfc6328fe\n",
      "\n",
      "COMET INFO: Experiment is live on comet.ml https://www.comet.ml/polabs/crypto-dashboard/bcd5189ac75f4694975d6a2dfc6328fe\n",
      "\n",
      "COMET INFO: old comet version (1.0.42) detected. current: 1.0.43 please update your comet lib with command: `pip install --no-cache-dir --upgrade comet_ml`\n",
      "COMET INFO: Experiment is live on comet.ml https://www.comet.ml/polabs/crypto-dashboard/a3e975dfdf3f480cb0ee5b71507ca5ab\n",
      "\n",
      "COMET INFO: Experiment is live on comet.ml https://www.comet.ml/polabs/crypto-dashboard/a3e975dfdf3f480cb0ee5b71507ca5ab\n",
      "\n",
      "COMET INFO: old comet version (1.0.42) detected. current: 1.0.43 please update your comet lib with command: `pip install --no-cache-dir --upgrade comet_ml`\n",
      "COMET INFO: Experiment is live on comet.ml https://www.comet.ml/polabs/crypto-dashboard/681c18750bdd46ae977faedad3d88bb4\n",
      "\n",
      "COMET INFO: Experiment is live on comet.ml https://www.comet.ml/polabs/crypto-dashboard/681c18750bdd46ae977faedad3d88bb4\n",
      "\n",
      "COMET INFO: old comet version (1.0.42) detected. current: 1.0.43 please update your comet lib with command: `pip install --no-cache-dir --upgrade comet_ml`\n",
      "COMET INFO: Experiment is live on comet.ml https://www.comet.ml/polabs/crypto-dashboard/4266d377dabd421792b772432c1c6c90\n",
      "\n",
      "COMET INFO: Experiment is live on comet.ml https://www.comet.ml/polabs/crypto-dashboard/4266d377dabd421792b772432c1c6c90\n",
      "\n",
      "COMET INFO: old comet version (1.0.42) detected. current: 1.0.43 please update your comet lib with command: `pip install --no-cache-dir --upgrade comet_ml`\n",
      "COMET INFO: Experiment is live on comet.ml https://www.comet.ml/polabs/crypto-dashboard/8ebd4d124f1a408e8f3fea7b63d4d163\n",
      "\n",
      "COMET INFO: Experiment is live on comet.ml https://www.comet.ml/polabs/crypto-dashboard/8ebd4d124f1a408e8f3fea7b63d4d163\n",
      "\n",
      "COMET INFO: old comet version (1.0.42) detected. current: 1.0.43 please update your comet lib with command: `pip install --no-cache-dir --upgrade comet_ml`\n",
      "COMET INFO: Experiment is live on comet.ml https://www.comet.ml/polabs/crypto-dashboard/90c8ebcd257247c9898c64f7502e547b\n",
      "\n",
      "COMET INFO: Experiment is live on comet.ml https://www.comet.ml/polabs/crypto-dashboard/90c8ebcd257247c9898c64f7502e547b\n",
      "\n",
      "COMET INFO: old comet version (1.0.42) detected. current: 1.0.43 please update your comet lib with command: `pip install --no-cache-dir --upgrade comet_ml`\n",
      "COMET INFO: Experiment is live on comet.ml https://www.comet.ml/polabs/crypto-dashboard/2ff4ef0978164ae491bec3d1b1538d14\n",
      "\n",
      "COMET INFO: Experiment is live on comet.ml https://www.comet.ml/polabs/crypto-dashboard/2ff4ef0978164ae491bec3d1b1538d14\n",
      "\n",
      "COMET INFO: old comet version (1.0.42) detected. current: 1.0.43 please update your comet lib with command: `pip install --no-cache-dir --upgrade comet_ml`\n",
      "COMET INFO: Experiment is live on comet.ml https://www.comet.ml/polabs/crypto-dashboard/f0e2bb4122394499814b4ff3cc94f200\n",
      "\n",
      "COMET INFO: Experiment is live on comet.ml https://www.comet.ml/polabs/crypto-dashboard/f0e2bb4122394499814b4ff3cc94f200\n",
      "\n",
      "COMET INFO: old comet version (1.0.42) detected. current: 1.0.43 please update your comet lib with command: `pip install --no-cache-dir --upgrade comet_ml`\n"
     ]
    },
    {
     "name": "stderr",
     "output_type": "stream",
     "text": [
      "COMET INFO: Experiment is live on comet.ml https://www.comet.ml/polabs/crypto-dashboard/728a8e666d374dc4866a23d04967635e\n",
      "\n",
      "COMET INFO: Experiment is live on comet.ml https://www.comet.ml/polabs/crypto-dashboard/728a8e666d374dc4866a23d04967635e\n",
      "\n",
      "COMET INFO: old comet version (1.0.42) detected. current: 1.0.43 please update your comet lib with command: `pip install --no-cache-dir --upgrade comet_ml`\n",
      "COMET INFO: Experiment is live on comet.ml https://www.comet.ml/polabs/crypto-dashboard/beb5ef47205f4a9da45e568e22477ecc\n",
      "\n",
      "COMET INFO: Experiment is live on comet.ml https://www.comet.ml/polabs/crypto-dashboard/beb5ef47205f4a9da45e568e22477ecc\n",
      "\n",
      "COMET INFO: old comet version (1.0.42) detected. current: 1.0.43 please update your comet lib with command: `pip install --no-cache-dir --upgrade comet_ml`\n",
      "COMET INFO: Experiment is live on comet.ml https://www.comet.ml/polabs/crypto-dashboard/dd77688333d84163a17cff27321fb5b2\n",
      "\n",
      "COMET INFO: Experiment is live on comet.ml https://www.comet.ml/polabs/crypto-dashboard/dd77688333d84163a17cff27321fb5b2\n",
      "\n",
      "COMET INFO: old comet version (1.0.42) detected. current: 1.0.43 please update your comet lib with command: `pip install --no-cache-dir --upgrade comet_ml`\n",
      "COMET INFO: Experiment is live on comet.ml https://www.comet.ml/polabs/crypto-dashboard/c9f54a5e3264418a80a804a0c9acdb12\n",
      "\n",
      "COMET INFO: Experiment is live on comet.ml https://www.comet.ml/polabs/crypto-dashboard/c9f54a5e3264418a80a804a0c9acdb12\n",
      "\n",
      "COMET INFO: old comet version (1.0.42) detected. current: 1.0.43 please update your comet lib with command: `pip install --no-cache-dir --upgrade comet_ml`\n",
      "COMET INFO: Experiment is live on comet.ml https://www.comet.ml/polabs/crypto-dashboard/8fbf7549deb04e2481b826f79403e36d\n",
      "\n",
      "COMET INFO: Experiment is live on comet.ml https://www.comet.ml/polabs/crypto-dashboard/8fbf7549deb04e2481b826f79403e36d\n",
      "\n",
      "COMET INFO: old comet version (1.0.42) detected. current: 1.0.43 please update your comet lib with command: `pip install --no-cache-dir --upgrade comet_ml`\n",
      "COMET INFO: Experiment is live on comet.ml https://www.comet.ml/polabs/crypto-dashboard/3c8d94c225614b28ba5ecaa2336777d0\n",
      "\n",
      "COMET INFO: Experiment is live on comet.ml https://www.comet.ml/polabs/crypto-dashboard/3c8d94c225614b28ba5ecaa2336777d0\n",
      "\n",
      "COMET INFO: old comet version (1.0.42) detected. current: 1.0.43 please update your comet lib with command: `pip install --no-cache-dir --upgrade comet_ml`\n",
      "COMET INFO: Experiment is live on comet.ml https://www.comet.ml/polabs/crypto-dashboard/138e82ebffdd46d49043e58d0f441dae\n",
      "\n",
      "COMET INFO: Experiment is live on comet.ml https://www.comet.ml/polabs/crypto-dashboard/138e82ebffdd46d49043e58d0f441dae\n",
      "\n",
      "COMET INFO: old comet version (1.0.42) detected. current: 1.0.43 please update your comet lib with command: `pip install --no-cache-dir --upgrade comet_ml`\n",
      "COMET INFO: Experiment is live on comet.ml https://www.comet.ml/polabs/crypto-dashboard/c98e3ec8144d4c4b81d842fccaee20b6\n",
      "\n",
      "COMET INFO: Experiment is live on comet.ml https://www.comet.ml/polabs/crypto-dashboard/c98e3ec8144d4c4b81d842fccaee20b6\n",
      "\n",
      "COMET INFO: old comet version (1.0.42) detected. current: 1.0.43 please update your comet lib with command: `pip install --no-cache-dir --upgrade comet_ml`\n",
      "COMET INFO: Experiment is live on comet.ml https://www.comet.ml/polabs/crypto-dashboard/917c7aa9ac5a4a2c8b6a34c803e7837c\n",
      "\n",
      "COMET INFO: Experiment is live on comet.ml https://www.comet.ml/polabs/crypto-dashboard/917c7aa9ac5a4a2c8b6a34c803e7837c\n",
      "\n",
      "COMET INFO: old comet version (1.0.42) detected. current: 1.0.43 please update your comet lib with command: `pip install --no-cache-dir --upgrade comet_ml`\n",
      "COMET INFO: Experiment is live on comet.ml https://www.comet.ml/polabs/crypto-dashboard/9c9a94c1ca154e2f9f96f80a6a5111cd\n",
      "\n",
      "COMET INFO: Experiment is live on comet.ml https://www.comet.ml/polabs/crypto-dashboard/9c9a94c1ca154e2f9f96f80a6a5111cd\n",
      "\n",
      "COMET INFO: old comet version (1.0.42) detected. current: 1.0.43 please update your comet lib with command: `pip install --no-cache-dir --upgrade comet_ml`\n",
      "COMET INFO: Experiment is live on comet.ml https://www.comet.ml/polabs/crypto-dashboard/c4eb70682e304ffb9424458f950bb737\n",
      "\n",
      "COMET INFO: Experiment is live on comet.ml https://www.comet.ml/polabs/crypto-dashboard/c4eb70682e304ffb9424458f950bb737\n",
      "\n",
      "COMET INFO: old comet version (1.0.42) detected. current: 1.0.43 please update your comet lib with command: `pip install --no-cache-dir --upgrade comet_ml`\n",
      "COMET INFO: Experiment is live on comet.ml https://www.comet.ml/polabs/crypto-dashboard/d503b86f98624c2cb5cd6f8d31a5c80e\n",
      "\n",
      "COMET INFO: Experiment is live on comet.ml https://www.comet.ml/polabs/crypto-dashboard/d503b86f98624c2cb5cd6f8d31a5c80e\n",
      "\n",
      "COMET INFO: old comet version (1.0.42) detected. current: 1.0.43 please update your comet lib with command: `pip install --no-cache-dir --upgrade comet_ml`\n",
      "COMET INFO: Experiment is live on comet.ml https://www.comet.ml/polabs/crypto-dashboard/ae4489916bbe428da66788445edce266\n",
      "\n",
      "COMET INFO: Experiment is live on comet.ml https://www.comet.ml/polabs/crypto-dashboard/ae4489916bbe428da66788445edce266\n",
      "\n",
      "COMET INFO: old comet version (1.0.42) detected. current: 1.0.43 please update your comet lib with command: `pip install --no-cache-dir --upgrade comet_ml`\n",
      "COMET INFO: Experiment is live on comet.ml https://www.comet.ml/polabs/crypto-dashboard/ecb711b308e9436a8689d8ee6fd0fb3c\n",
      "\n",
      "COMET INFO: Experiment is live on comet.ml https://www.comet.ml/polabs/crypto-dashboard/ecb711b308e9436a8689d8ee6fd0fb3c\n",
      "\n",
      "COMET INFO: old comet version (1.0.42) detected. current: 1.0.43 please update your comet lib with command: `pip install --no-cache-dir --upgrade comet_ml`\n",
      "COMET INFO: Experiment is live on comet.ml https://www.comet.ml/polabs/crypto-dashboard/13926a01790348c4ac2f669ad7b91d49\n",
      "\n",
      "COMET INFO: Experiment is live on comet.ml https://www.comet.ml/polabs/crypto-dashboard/13926a01790348c4ac2f669ad7b91d49\n",
      "\n",
      "COMET INFO: old comet version (1.0.42) detected. current: 1.0.43 please update your comet lib with command: `pip install --no-cache-dir --upgrade comet_ml`\n",
      "COMET INFO: Experiment is live on comet.ml https://www.comet.ml/polabs/crypto-dashboard/14ea3c851cb74dad8aa430f18e9bf658\n",
      "\n",
      "COMET INFO: Experiment is live on comet.ml https://www.comet.ml/polabs/crypto-dashboard/14ea3c851cb74dad8aa430f18e9bf658\n",
      "\n",
      "COMET INFO: old comet version (1.0.42) detected. current: 1.0.43 please update your comet lib with command: `pip install --no-cache-dir --upgrade comet_ml`\n",
      "COMET INFO: Experiment is live on comet.ml https://www.comet.ml/polabs/crypto-dashboard/d5af41c7afc949638310419518239395\n",
      "\n",
      "COMET INFO: Experiment is live on comet.ml https://www.comet.ml/polabs/crypto-dashboard/d5af41c7afc949638310419518239395\n",
      "\n",
      "COMET INFO: old comet version (1.0.42) detected. current: 1.0.43 please update your comet lib with command: `pip install --no-cache-dir --upgrade comet_ml`\n",
      "COMET INFO: Experiment is live on comet.ml https://www.comet.ml/polabs/crypto-dashboard/c36010740d8549e4bcaae7ed0d812a2c\n",
      "\n",
      "COMET INFO: Experiment is live on comet.ml https://www.comet.ml/polabs/crypto-dashboard/c36010740d8549e4bcaae7ed0d812a2c\n",
      "\n",
      "COMET INFO: old comet version (1.0.42) detected. current: 1.0.43 please update your comet lib with command: `pip install --no-cache-dir --upgrade comet_ml`\n",
      "COMET INFO: Experiment is live on comet.ml https://www.comet.ml/polabs/crypto-dashboard/248d66ca59ff448bb89bb7c18e654484\n",
      "\n",
      "COMET INFO: Experiment is live on comet.ml https://www.comet.ml/polabs/crypto-dashboard/248d66ca59ff448bb89bb7c18e654484\n",
      "\n",
      "COMET INFO: old comet version (1.0.42) detected. current: 1.0.43 please update your comet lib with command: `pip install --no-cache-dir --upgrade comet_ml`\n",
      "COMET INFO: Experiment is live on comet.ml https://www.comet.ml/polabs/crypto-dashboard/0b174de6de5b487cad08aaaf8d1faa5c\n",
      "\n",
      "COMET INFO: Experiment is live on comet.ml https://www.comet.ml/polabs/crypto-dashboard/0b174de6de5b487cad08aaaf8d1faa5c\n",
      "\n",
      "COMET INFO: old comet version (1.0.42) detected. current: 1.0.43 please update your comet lib with command: `pip install --no-cache-dir --upgrade comet_ml`\n",
      "COMET INFO: Experiment is live on comet.ml https://www.comet.ml/polabs/crypto-dashboard/660018fd221c4a50bf02aaf24d9ab7d6\n",
      "\n",
      "COMET INFO: Experiment is live on comet.ml https://www.comet.ml/polabs/crypto-dashboard/660018fd221c4a50bf02aaf24d9ab7d6\n",
      "\n"
     ]
    },
    {
     "name": "stderr",
     "output_type": "stream",
     "text": [
      "COMET INFO: old comet version (1.0.42) detected. current: 1.0.43 please update your comet lib with command: `pip install --no-cache-dir --upgrade comet_ml`\n",
      "COMET INFO: Experiment is live on comet.ml https://www.comet.ml/polabs/crypto-dashboard/656a4a4fa06749c28159a6f4daa3afb6\n",
      "\n",
      "COMET INFO: Experiment is live on comet.ml https://www.comet.ml/polabs/crypto-dashboard/656a4a4fa06749c28159a6f4daa3afb6\n",
      "\n",
      "COMET INFO: old comet version (1.0.42) detected. current: 1.0.43 please update your comet lib with command: `pip install --no-cache-dir --upgrade comet_ml`\n",
      "COMET INFO: Experiment is live on comet.ml https://www.comet.ml/polabs/crypto-dashboard/97859169147a4d38b3d5c78bde56ac98\n",
      "\n",
      "COMET INFO: Experiment is live on comet.ml https://www.comet.ml/polabs/crypto-dashboard/97859169147a4d38b3d5c78bde56ac98\n",
      "\n",
      "COMET INFO: old comet version (1.0.42) detected. current: 1.0.43 please update your comet lib with command: `pip install --no-cache-dir --upgrade comet_ml`\n",
      "COMET INFO: Experiment is live on comet.ml https://www.comet.ml/polabs/crypto-dashboard/eb3bf252325e42f5be6acd89b5ed765f\n",
      "\n",
      "COMET INFO: Experiment is live on comet.ml https://www.comet.ml/polabs/crypto-dashboard/eb3bf252325e42f5be6acd89b5ed765f\n",
      "\n",
      "COMET INFO: old comet version (1.0.42) detected. current: 1.0.43 please update your comet lib with command: `pip install --no-cache-dir --upgrade comet_ml`\n",
      "COMET INFO: Experiment is live on comet.ml https://www.comet.ml/polabs/crypto-dashboard/e35133865ddb464b98ee6b0eac4f41ba\n",
      "\n",
      "COMET INFO: Experiment is live on comet.ml https://www.comet.ml/polabs/crypto-dashboard/e35133865ddb464b98ee6b0eac4f41ba\n",
      "\n",
      "COMET INFO: old comet version (1.0.42) detected. current: 1.0.43 please update your comet lib with command: `pip install --no-cache-dir --upgrade comet_ml`\n",
      "COMET INFO: Experiment is live on comet.ml https://www.comet.ml/polabs/crypto-dashboard/6a28837de0aa438a96485f4a8245b697\n",
      "\n",
      "COMET INFO: Experiment is live on comet.ml https://www.comet.ml/polabs/crypto-dashboard/6a28837de0aa438a96485f4a8245b697\n",
      "\n",
      "COMET INFO: old comet version (1.0.42) detected. current: 1.0.43 please update your comet lib with command: `pip install --no-cache-dir --upgrade comet_ml`\n",
      "COMET INFO: Experiment is live on comet.ml https://www.comet.ml/polabs/crypto-dashboard/6f633020d9884adc870f3fc1c99d0bfd\n",
      "\n",
      "COMET INFO: Experiment is live on comet.ml https://www.comet.ml/polabs/crypto-dashboard/6f633020d9884adc870f3fc1c99d0bfd\n",
      "\n",
      "COMET INFO: old comet version (1.0.42) detected. current: 1.0.43 please update your comet lib with command: `pip install --no-cache-dir --upgrade comet_ml`\n",
      "COMET INFO: Experiment is live on comet.ml https://www.comet.ml/polabs/crypto-dashboard/a06dbc092e7a4d3b992c498274456827\n",
      "\n",
      "COMET INFO: Experiment is live on comet.ml https://www.comet.ml/polabs/crypto-dashboard/a06dbc092e7a4d3b992c498274456827\n",
      "\n",
      "COMET INFO: old comet version (1.0.42) detected. current: 1.0.43 please update your comet lib with command: `pip install --no-cache-dir --upgrade comet_ml`\n",
      "COMET INFO: Experiment is live on comet.ml https://www.comet.ml/polabs/crypto-dashboard/12cc8bbcca44450fa268bae1f4e65b0d\n",
      "\n",
      "COMET INFO: Experiment is live on comet.ml https://www.comet.ml/polabs/crypto-dashboard/12cc8bbcca44450fa268bae1f4e65b0d\n",
      "\n",
      "COMET INFO: old comet version (1.0.42) detected. current: 1.0.43 please update your comet lib with command: `pip install --no-cache-dir --upgrade comet_ml`\n",
      "COMET INFO: Experiment is live on comet.ml https://www.comet.ml/polabs/crypto-dashboard/1d121d8d979341f09dd17a0961f8d276\n",
      "\n",
      "COMET INFO: Experiment is live on comet.ml https://www.comet.ml/polabs/crypto-dashboard/1d121d8d979341f09dd17a0961f8d276\n",
      "\n",
      "COMET INFO: old comet version (1.0.42) detected. current: 1.0.43 please update your comet lib with command: `pip install --no-cache-dir --upgrade comet_ml`\n",
      "COMET INFO: Experiment is live on comet.ml https://www.comet.ml/polabs/crypto-dashboard/5eeb487fc03b43e088f40e08b7ebaf2c\n",
      "\n",
      "COMET INFO: Experiment is live on comet.ml https://www.comet.ml/polabs/crypto-dashboard/5eeb487fc03b43e088f40e08b7ebaf2c\n",
      "\n",
      "COMET INFO: old comet version (1.0.42) detected. current: 1.0.43 please update your comet lib with command: `pip install --no-cache-dir --upgrade comet_ml`\n",
      "COMET INFO: Experiment is live on comet.ml https://www.comet.ml/polabs/crypto-dashboard/8d1f5d9cb8284674ac200ad1b830115d\n",
      "\n",
      "COMET INFO: Experiment is live on comet.ml https://www.comet.ml/polabs/crypto-dashboard/8d1f5d9cb8284674ac200ad1b830115d\n",
      "\n",
      "COMET INFO: old comet version (1.0.42) detected. current: 1.0.43 please update your comet lib with command: `pip install --no-cache-dir --upgrade comet_ml`\n",
      "COMET INFO: Experiment is live on comet.ml https://www.comet.ml/polabs/crypto-dashboard/e2a4ec28dca24a8ca314052605d8ef0a\n",
      "\n",
      "COMET INFO: Experiment is live on comet.ml https://www.comet.ml/polabs/crypto-dashboard/e2a4ec28dca24a8ca314052605d8ef0a\n",
      "\n",
      "COMET INFO: old comet version (1.0.42) detected. current: 1.0.43 please update your comet lib with command: `pip install --no-cache-dir --upgrade comet_ml`\n",
      "COMET INFO: Experiment is live on comet.ml https://www.comet.ml/polabs/crypto-dashboard/bcc264f6086e4fac93101cb7d383aeed\n",
      "\n",
      "COMET INFO: Experiment is live on comet.ml https://www.comet.ml/polabs/crypto-dashboard/bcc264f6086e4fac93101cb7d383aeed\n",
      "\n",
      "COMET INFO: old comet version (1.0.42) detected. current: 1.0.43 please update your comet lib with command: `pip install --no-cache-dir --upgrade comet_ml`\n",
      "COMET INFO: Experiment is live on comet.ml https://www.comet.ml/polabs/crypto-dashboard/85b8e3277ee44474ae7b4daf71f4e55e\n",
      "\n",
      "COMET INFO: Experiment is live on comet.ml https://www.comet.ml/polabs/crypto-dashboard/85b8e3277ee44474ae7b4daf71f4e55e\n",
      "\n",
      "COMET INFO: old comet version (1.0.42) detected. current: 1.0.43 please update your comet lib with command: `pip install --no-cache-dir --upgrade comet_ml`\n",
      "COMET INFO: Experiment is live on comet.ml https://www.comet.ml/polabs/crypto-dashboard/8e69d065d7d2470381edee854debf6e9\n",
      "\n",
      "COMET INFO: Experiment is live on comet.ml https://www.comet.ml/polabs/crypto-dashboard/8e69d065d7d2470381edee854debf6e9\n",
      "\n",
      "COMET INFO: old comet version (1.0.42) detected. current: 1.0.43 please update your comet lib with command: `pip install --no-cache-dir --upgrade comet_ml`\n",
      "COMET INFO: Experiment is live on comet.ml https://www.comet.ml/polabs/crypto-dashboard/3916059eb2c74045ad077750ca2c1f3c\n",
      "\n",
      "COMET INFO: Experiment is live on comet.ml https://www.comet.ml/polabs/crypto-dashboard/3916059eb2c74045ad077750ca2c1f3c\n",
      "\n",
      "COMET INFO: old comet version (1.0.42) detected. current: 1.0.43 please update your comet lib with command: `pip install --no-cache-dir --upgrade comet_ml`\n",
      "COMET INFO: Experiment is live on comet.ml https://www.comet.ml/polabs/crypto-dashboard/2428a78d01aa47bdb69183227ca47e1d\n",
      "\n",
      "COMET INFO: Experiment is live on comet.ml https://www.comet.ml/polabs/crypto-dashboard/2428a78d01aa47bdb69183227ca47e1d\n",
      "\n",
      "COMET INFO: old comet version (1.0.42) detected. current: 1.0.43 please update your comet lib with command: `pip install --no-cache-dir --upgrade comet_ml`\n",
      "COMET INFO: Experiment is live on comet.ml https://www.comet.ml/polabs/crypto-dashboard/25f206b46e6d4fbc8d700a39cbd00a07\n",
      "\n"
     ]
    }
   ],
   "source": [
    " #2. SVM\n",
    "scaler = preprocessing.StandardScaler().fit(XY_train[1])\n",
    "X_train_scale = scaler.transform(XY_train[1])        #print(pd.DataFrame(XY_train_scale).head())\n",
    "X_test_scale = scaler.transform(XY_test[1])        #print(pd.DataFrame(XY_test_scale).head())\n",
    "Y_train = XY_train[0]\n",
    "Y_test = XY_test[0]\n",
    "\n",
    "param_grid = {'kernel':['linear', 'rbf'],\n",
    "              'gamma':[0.001, 0.01, 0.1, 1, 10], \n",
    "              'C':[0.001, 0.01, 0.1, 1, 10]}\n",
    "\n",
    "Model_svm = svm.SVC(verbose=2)#<-parameteres: C low is less penality of error term (generalizes better), higher C will overfit/stricter, gamma=degree of influence of single training example, low is neighborhood, high is far?\n",
    "CV_svm = GridSearchCV(Model_svm, param_grid=param_grid, cv = 10, n_jobs=-1)\n",
    "CV_svm.fit(X_train_scale, Y_train.values.ravel())\n",
    "y_pred = CV_svm.predict(X_test_scale)\n",
    "\n",
    "print(\"\\nResults\\nConfusion matrix \\n {}\".format(confusion_matrix(XY_test[0].values.ravel(), y_pred)))\n",
    "f1 = f1_score(XY_test[0].values.ravel(), y_pred)\n",
    "precision = precision_score(XY_test[0].values.ravel(), y_pred)\n",
    "recall = recall_score(XY_test[0].values.ravel(), y_pred)\n",
    "\n",
    "print(\"F1 score is {:6.3f}\".format(f1))\n",
    "print(\"Precision score is {:6.3f}\".format(precision))\n",
    "print(\"Recall score is {:6.3f}\".format(recall))\n",
    "\n",
    "for i in range(len(CV_logistic.cv_results_['params'])):\n",
    "    exp = Experiment(api_key=cometkey.loc[0, 'cometapikey'], project_name=\"Crypto_Dashboard\")\n",
    "    for k,v in CV_logistic.cv_results_.items():\n",
    "            if k == \"params\":\n",
    "                exp.log_parameters(v[i])\n",
    "            else:\n",
    "                exp.log_metric(k,v[i])"
   ]
  },
  {
   "cell_type": "code",
   "execution_count": 15,
   "metadata": {},
   "outputs": [
    {
     "name": "stdout",
     "output_type": "stream",
     "text": [
      "building tree 1 of 10\n",
      "building tree 1 of 10\n",
      "building tree 1 of 10\n",
      "building tree 1 of 10\n",
      "building tree 1 of 10\n"
     ]
    },
    {
     "name": "stderr",
     "output_type": "stream",
     "text": [
      "[Parallel(n_jobs=1)]: Done   1 out of   1 | elapsed:    0.0s remaining:    0.0s\n"
     ]
    },
    {
     "name": "stdout",
     "output_type": "stream",
     "text": [
      "building tree 2 of 10\n",
      "building tree 1 of 10\n"
     ]
    },
    {
     "name": "stderr",
     "output_type": "stream",
     "text": [
      "[Parallel(n_jobs=1)]: Done   1 out of   1 | elapsed:    0.0s remaining:    0.0s\n"
     ]
    },
    {
     "name": "stdout",
     "output_type": "stream",
     "text": [
      "building tree 2 of 10\n",
      "building tree 1 of 10\n",
      "building tree 1 of 10\n"
     ]
    },
    {
     "name": "stderr",
     "output_type": "stream",
     "text": [
      "[Parallel(n_jobs=1)]: Done   1 out of   1 | elapsed:    0.0s remaining:    0.0s\n",
      "[Parallel(n_jobs=1)]: Done   1 out of   1 | elapsed:    0.0s remaining:    0.0s\n"
     ]
    },
    {
     "name": "stdout",
     "output_type": "stream",
     "text": [
      "building tree 2 of 10\n",
      "building tree 2 of 10\n"
     ]
    },
    {
     "name": "stderr",
     "output_type": "stream",
     "text": [
      "[Parallel(n_jobs=1)]: Done   1 out of   1 | elapsed:    0.0s remaining:    0.0s\n"
     ]
    },
    {
     "name": "stdout",
     "output_type": "stream",
     "text": [
      "building tree 3 of 10\n"
     ]
    },
    {
     "name": "stderr",
     "output_type": "stream",
     "text": [
      "[Parallel(n_jobs=1)]: Done   1 out of   1 | elapsed:    0.0s remaining:    0.0s\n"
     ]
    },
    {
     "name": "stdout",
     "output_type": "stream",
     "text": [
      "building tree 3 of 10\n",
      "building tree 2 of 10\n",
      "building tree 2 of 10\n",
      "building tree 1 of 10\n"
     ]
    },
    {
     "name": "stderr",
     "output_type": "stream",
     "text": [
      "[Parallel(n_jobs=1)]: Done   1 out of   1 | elapsed:    0.0s remaining:    0.0s\n",
      "[Parallel(n_jobs=1)]: Done   1 out of   1 | elapsed:    0.0s remaining:    0.0s\n"
     ]
    },
    {
     "name": "stdout",
     "output_type": "stream",
     "text": [
      "building tree 2 of 10\n",
      "building tree 1 of 10\n",
      "building tree 1 of 10\n",
      "building tree 3 of 10\n",
      "building tree 2 of 10\n",
      "building tree 1 of 10\n"
     ]
    },
    {
     "name": "stderr",
     "output_type": "stream",
     "text": [
      "[Parallel(n_jobs=1)]: Done   1 out of   1 | elapsed:    0.0s remaining:    0.0s\n"
     ]
    },
    {
     "name": "stdout",
     "output_type": "stream",
     "text": [
      "building tree 3 of 10\n",
      "building tree 1 of 10\n",
      "building tree 3 of 10\n",
      "building tree 4 of 10\n",
      "building tree 3 of 10\n",
      "building tree 1 of 10\n"
     ]
    },
    {
     "name": "stderr",
     "output_type": "stream",
     "text": [
      "[Parallel(n_jobs=1)]: Done   1 out of   1 | elapsed:    0.0s remaining:    0.0s\n"
     ]
    },
    {
     "name": "stdout",
     "output_type": "stream",
     "text": [
      "building tree 2 of 10\n",
      "building tree 3 of 10\n",
      "building tree 3 of 10\n"
     ]
    },
    {
     "name": "stderr",
     "output_type": "stream",
     "text": [
      "[Parallel(n_jobs=1)]: Done   1 out of   1 | elapsed:    0.0s remaining:    0.0s\n"
     ]
    },
    {
     "name": "stdout",
     "output_type": "stream",
     "text": [
      "building tree 4 of 10\n",
      "building tree 5 of 10\n"
     ]
    },
    {
     "name": "stderr",
     "output_type": "stream",
     "text": [
      "[Parallel(n_jobs=1)]: Done   1 out of   1 | elapsed:    0.0s remaining:    0.0s\n"
     ]
    },
    {
     "name": "stdout",
     "output_type": "stream",
     "text": [
      "building tree 2 of 10\n",
      "building tree 4 of 10\n",
      "building tree 4 of 10\n",
      "building tree 4 of 10\n"
     ]
    },
    {
     "name": "stderr",
     "output_type": "stream",
     "text": [
      "[Parallel(n_jobs=1)]: Done   1 out of   1 | elapsed:    0.0s remaining:    0.0s\n"
     ]
    },
    {
     "name": "stdout",
     "output_type": "stream",
     "text": [
      "building tree 4 of 10\n",
      "building tree 3 of 10\n",
      "building tree 4 of 10\n",
      "building tree 1 of 10\n"
     ]
    },
    {
     "name": "stderr",
     "output_type": "stream",
     "text": [
      "[Parallel(n_jobs=1)]: Done   1 out of   1 | elapsed:    0.0s remaining:    0.0s\n"
     ]
    },
    {
     "name": "stdout",
     "output_type": "stream",
     "text": [
      "building tree 2 of 10\n",
      "building tree 2 of 10\n",
      "building tree 2 of 10\n",
      "building tree 4 of 10\n",
      "building tree 1 of 10\n",
      "building tree 2 of 10\n",
      "building tree 5 of 10\n",
      "building tree 5 of 10\n",
      "building tree 4 of 10\n",
      "building tree 5 of 10\n",
      "building tree 5 of 10\n",
      "building tree 5 of 10\n",
      "building tree 6 of 10\n",
      "building tree 6 of 10\n",
      "building tree 3 of 10\n",
      "building tree 3 of 10\n",
      "building tree 5 of 10\n",
      "building tree 3 of 10\n"
     ]
    },
    {
     "name": "stderr",
     "output_type": "stream",
     "text": [
      "[Parallel(n_jobs=1)]: Done   1 out of   1 | elapsed:    0.0s remaining:    0.0s\n"
     ]
    },
    {
     "name": "stdout",
     "output_type": "stream",
     "text": [
      "building tree 2 of 10\n",
      "building tree 3 of 10\n",
      "building tree 6 of 10\n"
     ]
    },
    {
     "name": "stderr",
     "output_type": "stream",
     "text": [
      "[Parallel(n_jobs=1)]: Done   1 out of   1 | elapsed:    0.0s remaining:    0.0s\n"
     ]
    },
    {
     "name": "stdout",
     "output_type": "stream",
     "text": [
      "building tree 2 of 10\n",
      "building tree 5 of 10\n",
      "building tree 7 of 10\n",
      "building tree 7 of 10\n",
      "building tree 7 of 10\n",
      "building tree 4 of 10\n",
      "building tree 3 of 10\n",
      "building tree 6 of 10\n",
      "building tree 5 of 10\n",
      "building tree 3 of 10\n",
      "building tree 6 of 10\n",
      "building tree 4 of 10\n",
      "building tree 4 of 10\n",
      "building tree 3 of 10\n",
      "building tree 8 of 10\n",
      "building tree 6 of 10\n",
      "building tree 6 of 10\n",
      "building tree 8 of 10\n",
      "building tree 4 of 10\n",
      "building tree 6 of 10\n",
      "building tree 6 of 10\n",
      "building tree 5 of 10\n",
      "building tree 7 of 10\n",
      "building tree 5 of 10\n",
      "building tree 7 of 10\n",
      "building tree 4 of 10\n",
      "building tree 7 of 10\n",
      "building tree 5 of 10\n",
      "building tree 9 of 10\n",
      "building tree 8 of 10\n",
      "building tree 5 of 10\n",
      "building tree 7 of 10\n",
      "building tree 9 of 10\n",
      "building tree 6 of 10\n",
      "building tree 8 of 10\n",
      "building tree 8 of 10\n",
      "building tree 6 of 10\n",
      "building tree 7 of 10\n",
      "building tree 8 of 10\n",
      "building tree 4 of 10\n",
      "building tree 10 of 10\n",
      "building tree 7 of 10\n",
      "building tree 7 of 10\n",
      "building tree 6 of 10\n",
      "building tree 9 of 10\n",
      "building tree 7 of 10\n",
      "building tree 4 of 10\n",
      "building tree 10 of 10\n",
      "building tree 6 of 10\n",
      "building tree 8 of 10\n",
      "building tree 9 of 10\n",
      "building tree 9 of 10\n",
      "building tree 9 of 10\n"
     ]
    },
    {
     "name": "stderr",
     "output_type": "stream",
     "text": [
      "[Parallel(n_jobs=1)]: Done  10 out of  10 | elapsed:    0.1s finished\n"
     ]
    },
    {
     "name": "stdout",
     "output_type": "stream",
     "text": [
      "building tree 5 of 10\n",
      "building tree 8 of 10\n",
      "building tree 7 of 10\n",
      "building tree 5 of 10\n",
      "building tree 9 of 10\n",
      "building tree 10 of 10\n"
     ]
    },
    {
     "name": "stderr",
     "output_type": "stream",
     "text": [
      "[Parallel(n_jobs=1)]: Done   1 out of   1 | elapsed:    0.0s remaining:    0.0s\n",
      "[Parallel(n_jobs=1)]: Done  10 out of  10 | elapsed:    0.2s finished\n"
     ]
    },
    {
     "name": "stdout",
     "output_type": "stream",
     "text": [
      "building tree 8 of 10\n",
      "building tree 8 of 10\n",
      "building tree 7 of 10\n",
      "building tree 5 of 10\n",
      "building tree 10 of 10\n"
     ]
    },
    {
     "name": "stderr",
     "output_type": "stream",
     "text": [
      "[Parallel(n_jobs=1)]: Done   1 out of   1 | elapsed:    0.0s remaining:    0.0s\n"
     ]
    },
    {
     "name": "stdout",
     "output_type": "stream",
     "text": [
      "building tree 10 of 10\n",
      "building tree 10 of 10\n"
     ]
    },
    {
     "name": "stderr",
     "output_type": "stream",
     "text": [
      "[Parallel(n_jobs=1)]: Done  10 out of  10 | elapsed:    0.0s finished\n"
     ]
    },
    {
     "name": "stdout",
     "output_type": "stream",
     "text": [
      "building tree 8 of 10\n"
     ]
    },
    {
     "name": "stderr",
     "output_type": "stream",
     "text": [
      "[Parallel(n_jobs=1)]: Done  10 out of  10 | elapsed:    0.0s finished\n"
     ]
    },
    {
     "name": "stdout",
     "output_type": "stream",
     "text": [
      "building tree 9 of 10\n",
      "building tree 6 of 10\n",
      "building tree 10 of 10\n",
      "building tree 9 of 10\n",
      "building tree 8 of 10\n",
      "building tree 6 of 10\n",
      "building tree 8 of 10\n"
     ]
    },
    {
     "name": "stderr",
     "output_type": "stream",
     "text": [
      "[Parallel(n_jobs=1)]: Done  10 out of  10 | elapsed:    0.2s finished\n"
     ]
    },
    {
     "name": "stdout",
     "output_type": "stream",
     "text": [
      "building tree 6 of 10\n",
      "building tree 9 of 10\n",
      "building tree 10 of 10\n"
     ]
    },
    {
     "name": "stderr",
     "output_type": "stream",
     "text": [
      "[Parallel(n_jobs=1)]: Done  10 out of  10 | elapsed:    0.2s finished\n",
      "[Parallel(n_jobs=1)]: Done  10 out of  10 | elapsed:    0.2s finished\n",
      "[Parallel(n_jobs=1)]: Done   1 out of   1 | elapsed:    0.0s remaining:    0.0s\n",
      "[Parallel(n_jobs=1)]: Done   1 out of   1 | elapsed:    0.0s remaining:    0.0s\n",
      "[Parallel(n_jobs=1)]: Done  10 out of  10 | elapsed:    0.0s finished\n",
      "[Parallel(n_jobs=1)]: Done  10 out of  10 | elapsed:    0.2s finished\n",
      "[Parallel(n_jobs=1)]: Done   1 out of   1 | elapsed:    0.0s remaining:    0.0s\n"
     ]
    },
    {
     "name": "stdout",
     "output_type": "stream",
     "text": [
      "building tree 7 of 10\n"
     ]
    },
    {
     "name": "stderr",
     "output_type": "stream",
     "text": [
      "[Parallel(n_jobs=1)]: Done   1 out of   1 | elapsed:    0.0s remaining:    0.0s\n",
      "[Parallel(n_jobs=1)]: Done  10 out of  10 | elapsed:    0.0s finished\n",
      "[Parallel(n_jobs=1)]: Done   1 out of   1 | elapsed:    0.0s remaining:    0.0s\n"
     ]
    },
    {
     "name": "stdout",
     "output_type": "stream",
     "text": [
      "building tree 9 of 10\n"
     ]
    },
    {
     "name": "stderr",
     "output_type": "stream",
     "text": [
      "[Parallel(n_jobs=1)]: Done   1 out of   1 | elapsed:    0.0s remaining:    0.0s\n",
      "[Parallel(n_jobs=1)]: Done  10 out of  10 | elapsed:    0.2s finished\n",
      "[Parallel(n_jobs=1)]: Done  10 out of  10 | elapsed:    0.0s finished\n"
     ]
    },
    {
     "name": "stdout",
     "output_type": "stream",
     "text": [
      "building tree 7 of 10\n",
      "building tree 8 of 10\n"
     ]
    },
    {
     "name": "stderr",
     "output_type": "stream",
     "text": [
      "[Parallel(n_jobs=1)]: Done  10 out of  10 | elapsed:    0.2s finished\n"
     ]
    },
    {
     "name": "stdout",
     "output_type": "stream",
     "text": [
      "building tree 10 of 10\n",
      "building tree 7 of 10\n",
      "building tree 9 of 10\n",
      "building tree 10 of 10\n"
     ]
    },
    {
     "name": "stderr",
     "output_type": "stream",
     "text": [
      "[Parallel(n_jobs=1)]: Done  10 out of  10 | elapsed:    0.0s finished\n",
      "[Parallel(n_jobs=1)]: Done  10 out of  10 | elapsed:    0.0s finished\n"
     ]
    },
    {
     "name": "stdout",
     "output_type": "stream",
     "text": [
      "building tree 9 of 10\n",
      "building tree 10 of 10\n"
     ]
    },
    {
     "name": "stderr",
     "output_type": "stream",
     "text": [
      "[Parallel(n_jobs=1)]: Done   1 out of   1 | elapsed:    0.0s remaining:    0.0s\n"
     ]
    },
    {
     "name": "stdout",
     "output_type": "stream",
     "text": [
      "building tree 8 of 10\n"
     ]
    },
    {
     "name": "stderr",
     "output_type": "stream",
     "text": [
      "[Parallel(n_jobs=1)]: Done   1 out of   1 | elapsed:    0.0s remaining:    0.0s\n"
     ]
    },
    {
     "name": "stdout",
     "output_type": "stream",
     "text": [
      "building tree 10 of 10\n",
      "building tree 9 of 10\n"
     ]
    },
    {
     "name": "stderr",
     "output_type": "stream",
     "text": [
      "[Parallel(n_jobs=1)]: Done   1 out of   1 | elapsed:    0.0s remaining:    0.0s\n"
     ]
    },
    {
     "name": "stdout",
     "output_type": "stream",
     "text": [
      "building tree 10 of 10\n"
     ]
    },
    {
     "name": "stderr",
     "output_type": "stream",
     "text": [
      "[Parallel(n_jobs=1)]: Done  10 out of  10 | elapsed:    0.0s finished\n",
      "[Parallel(n_jobs=1)]: Done  10 out of  10 | elapsed:    0.0s finished\n"
     ]
    },
    {
     "name": "stdout",
     "output_type": "stream",
     "text": [
      "building tree 1 of 10\n"
     ]
    },
    {
     "name": "stderr",
     "output_type": "stream",
     "text": [
      "[Parallel(n_jobs=1)]: Done   1 out of   1 | elapsed:    0.0s remaining:    0.0s\n"
     ]
    },
    {
     "name": "stdout",
     "output_type": "stream",
     "text": [
      "building tree 1 of 10\n",
      "building tree 8 of 10\n"
     ]
    },
    {
     "name": "stderr",
     "output_type": "stream",
     "text": [
      "[Parallel(n_jobs=1)]: Done  10 out of  10 | elapsed:    0.0s finished\n"
     ]
    },
    {
     "name": "stdout",
     "output_type": "stream",
     "text": [
      "building tree 10 of 10\n"
     ]
    },
    {
     "name": "stderr",
     "output_type": "stream",
     "text": [
      "[Parallel(n_jobs=1)]: Done  10 out of  10 | elapsed:    0.2s finished\n",
      "[Parallel(n_jobs=1)]: Done   1 out of   1 | elapsed:    0.0s remaining:    0.0s\n",
      "[Parallel(n_jobs=1)]: Done  10 out of  10 | elapsed:    0.2s finished\n",
      "[Parallel(n_jobs=1)]: Done  10 out of  10 | elapsed:    0.2s finished\n",
      "[Parallel(n_jobs=1)]: Done  10 out of  10 | elapsed:    0.0s finished\n",
      "[Parallel(n_jobs=1)]: Done   1 out of   1 | elapsed:    0.0s remaining:    0.0s\n",
      "[Parallel(n_jobs=1)]: Done  10 out of  10 | elapsed:    0.2s finished\n",
      "[Parallel(n_jobs=1)]: Done  10 out of  10 | elapsed:    0.2s finished\n",
      "[Parallel(n_jobs=1)]: Done   1 out of   1 | elapsed:    0.0s remaining:    0.0s\n",
      "[Parallel(n_jobs=1)]: Done  10 out of  10 | elapsed:    0.0s finished\n",
      "[Parallel(n_jobs=1)]: Done   1 out of   1 | elapsed:    0.0s remaining:    0.0s\n",
      "[Parallel(n_jobs=1)]: Done   1 out of   1 | elapsed:    0.0s remaining:    0.0s\n",
      "[Parallel(n_jobs=1)]: Done  10 out of  10 | elapsed:    0.0s finished\n",
      "[Parallel(n_jobs=1)]: Done   1 out of   1 | elapsed:    0.0s remaining:    0.0s\n",
      "[Parallel(n_jobs=1)]: Done  10 out of  10 | elapsed:    0.0s finished\n"
     ]
    },
    {
     "name": "stdout",
     "output_type": "stream",
     "text": [
      "building tree 9 of 10\n"
     ]
    },
    {
     "name": "stderr",
     "output_type": "stream",
     "text": [
      "[Parallel(n_jobs=1)]: Done   1 out of   1 | elapsed:    0.0s remaining:    0.0s\n",
      "[Parallel(n_jobs=1)]: Done   1 out of   1 | elapsed:    0.0s remaining:    0.0s\n",
      "[Parallel(n_jobs=1)]: Done  10 out of  10 | elapsed:    0.0s finished\n"
     ]
    },
    {
     "name": "stdout",
     "output_type": "stream",
     "text": [
      "building tree 9 of 10\n"
     ]
    },
    {
     "name": "stderr",
     "output_type": "stream",
     "text": [
      "[Parallel(n_jobs=1)]: Done   1 out of   1 | elapsed:    0.0s remaining:    0.0s\n"
     ]
    },
    {
     "name": "stdout",
     "output_type": "stream",
     "text": [
      "building tree 2 of 10\n"
     ]
    },
    {
     "name": "stderr",
     "output_type": "stream",
     "text": [
      "[Parallel(n_jobs=1)]: Done  10 out of  10 | elapsed:    0.0s finished\n",
      "[Parallel(n_jobs=1)]: Done   1 out of   1 | elapsed:    0.0s remaining:    0.0s\n",
      "[Parallel(n_jobs=1)]: Done  10 out of  10 | elapsed:    0.0s finished\n",
      "[Parallel(n_jobs=1)]: Done  10 out of  10 | elapsed:    0.0s finished\n"
     ]
    },
    {
     "name": "stdout",
     "output_type": "stream",
     "text": [
      "building tree 1 of 10\n",
      "building tree 1 of 10\n",
      "building tree 1 of 10\n"
     ]
    },
    {
     "name": "stderr",
     "output_type": "stream",
     "text": [
      "[Parallel(n_jobs=1)]: Done  10 out of  10 | elapsed:    0.2s finished\n",
      "[Parallel(n_jobs=1)]: Done   1 out of   1 | elapsed:    0.0s remaining:    0.0s\n",
      "[Parallel(n_jobs=1)]: Done  10 out of  10 | elapsed:    0.0s finished\n",
      "[Parallel(n_jobs=1)]: Done  10 out of  10 | elapsed:    0.0s finished\n"
     ]
    },
    {
     "name": "stdout",
     "output_type": "stream",
     "text": [
      "building tree 10 of 10\n"
     ]
    },
    {
     "name": "stderr",
     "output_type": "stream",
     "text": [
      "[Parallel(n_jobs=1)]: Done   1 out of   1 | elapsed:    0.0s remaining:    0.0s\n",
      "[Parallel(n_jobs=1)]: Done  10 out of  10 | elapsed:    0.0s finished\n"
     ]
    },
    {
     "name": "stdout",
     "output_type": "stream",
     "text": [
      "building tree 3 of 10\n"
     ]
    },
    {
     "name": "stderr",
     "output_type": "stream",
     "text": [
      "[Parallel(n_jobs=1)]: Done   1 out of   1 | elapsed:    0.0s remaining:    0.0s\n",
      "[Parallel(n_jobs=1)]: Done   1 out of   1 | elapsed:    0.0s remaining:    0.0s\n",
      "[Parallel(n_jobs=1)]: Done   1 out of   1 | elapsed:    0.0s remaining:    0.0s\n"
     ]
    },
    {
     "name": "stdout",
     "output_type": "stream",
     "text": [
      "building tree 2 of 10\n"
     ]
    },
    {
     "name": "stderr",
     "output_type": "stream",
     "text": [
      "[Parallel(n_jobs=1)]: Done  10 out of  10 | elapsed:    0.0s finished\n",
      "[Parallel(n_jobs=1)]: Done  10 out of  10 | elapsed:    0.0s finished\n"
     ]
    },
    {
     "name": "stdout",
     "output_type": "stream",
     "text": [
      "building tree 10 of 10\n"
     ]
    },
    {
     "name": "stderr",
     "output_type": "stream",
     "text": [
      "[Parallel(n_jobs=1)]: Done   1 out of   1 | elapsed:    0.0s remaining:    0.0s\n",
      "[Parallel(n_jobs=1)]: Done   1 out of   1 | elapsed:    0.0s remaining:    0.0s\n",
      "[Parallel(n_jobs=1)]: Done  10 out of  10 | elapsed:    0.0s finished\n",
      "[Parallel(n_jobs=1)]: Done   1 out of   1 | elapsed:    0.1s remaining:    0.0s\n",
      "[Parallel(n_jobs=1)]: Done   1 out of   1 | elapsed:    0.0s remaining:    0.0s\n"
     ]
    },
    {
     "name": "stdout",
     "output_type": "stream",
     "text": [
      "building tree 2 of 10\n",
      "building tree 1 of 10\n",
      "building tree 1 of 10\n"
     ]
    },
    {
     "name": "stderr",
     "output_type": "stream",
     "text": [
      "[Parallel(n_jobs=1)]: Done   1 out of   1 | elapsed:    0.0s remaining:    0.0s\n"
     ]
    },
    {
     "name": "stdout",
     "output_type": "stream",
     "text": [
      "building tree 1 of 10\n"
     ]
    },
    {
     "name": "stderr",
     "output_type": "stream",
     "text": [
      "[Parallel(n_jobs=1)]: Done   1 out of   1 | elapsed:    0.0s remaining:    0.0s\n",
      "[Parallel(n_jobs=1)]: Done  10 out of  10 | elapsed:    0.3s finished\n",
      "[Parallel(n_jobs=1)]: Done  10 out of  10 | elapsed:    0.0s finished\n"
     ]
    },
    {
     "name": "stdout",
     "output_type": "stream",
     "text": [
      "building tree 1 of 10\n",
      "building tree 2 of 10\n",
      "building tree 2 of 10\n"
     ]
    },
    {
     "name": "stderr",
     "output_type": "stream",
     "text": [
      "[Parallel(n_jobs=1)]: Done  10 out of  10 | elapsed:    0.1s finished\n"
     ]
    },
    {
     "name": "stdout",
     "output_type": "stream",
     "text": [
      "building tree 3 of 10\n"
     ]
    },
    {
     "name": "stderr",
     "output_type": "stream",
     "text": [
      "[Parallel(n_jobs=1)]: Done  10 out of  10 | elapsed:    0.1s finished\n"
     ]
    },
    {
     "name": "stdout",
     "output_type": "stream",
     "text": [
      "building tree 3 of 10\n",
      "building tree 4 of 10\n",
      "building tree 1 of 10\n"
     ]
    },
    {
     "name": "stderr",
     "output_type": "stream",
     "text": [
      "[Parallel(n_jobs=1)]: Done   1 out of   1 | elapsed:    0.1s remaining:    0.0s\n",
      "[Parallel(n_jobs=1)]: Done  10 out of  10 | elapsed:    0.3s finished\n",
      "[Parallel(n_jobs=1)]: Done  10 out of  10 | elapsed:    0.1s finished\n",
      "[Parallel(n_jobs=1)]: Done   1 out of   1 | elapsed:    0.0s remaining:    0.0s\n"
     ]
    },
    {
     "name": "stdout",
     "output_type": "stream",
     "text": [
      "building tree 3 of 10\n",
      "building tree 3 of 10\n"
     ]
    },
    {
     "name": "stderr",
     "output_type": "stream",
     "text": [
      "[Parallel(n_jobs=1)]: Done   1 out of   1 | elapsed:    0.0s remaining:    0.0s\n"
     ]
    },
    {
     "name": "stdout",
     "output_type": "stream",
     "text": [
      "building tree 4 of 10\n",
      "building tree 1 of 10\n"
     ]
    },
    {
     "name": "stderr",
     "output_type": "stream",
     "text": [
      "[Parallel(n_jobs=1)]: Done   1 out of   1 | elapsed:    0.0s remaining:    0.0s\n",
      "[Parallel(n_jobs=1)]: Done   1 out of   1 | elapsed:    0.0s remaining:    0.0s\n",
      "[Parallel(n_jobs=1)]: Done   1 out of   1 | elapsed:    0.0s remaining:    0.0s\n"
     ]
    },
    {
     "name": "stdout",
     "output_type": "stream",
     "text": [
      "building tree 5 of 10\n",
      "building tree 4 of 10\n",
      "building tree 1 of 10\n",
      "building tree 2 of 10\n"
     ]
    },
    {
     "name": "stderr",
     "output_type": "stream",
     "text": [
      "[Parallel(n_jobs=1)]: Done   1 out of   1 | elapsed:    0.1s remaining:    0.0s\n"
     ]
    },
    {
     "name": "stdout",
     "output_type": "stream",
     "text": [
      "building tree 4 of 10\n",
      "building tree 1 of 10\n"
     ]
    },
    {
     "name": "stderr",
     "output_type": "stream",
     "text": [
      "[Parallel(n_jobs=1)]: Done  10 out of  10 | elapsed:    0.0s finished\n",
      "[Parallel(n_jobs=1)]: Done  10 out of  10 | elapsed:    0.0s finished\n"
     ]
    },
    {
     "name": "stdout",
     "output_type": "stream",
     "text": [
      "building tree 2 of 10\n",
      "building tree 2 of 10\n",
      "building tree 4 of 10\n",
      "building tree 2 of 10\n"
     ]
    },
    {
     "name": "stderr",
     "output_type": "stream",
     "text": [
      "[Parallel(n_jobs=1)]: Done   1 out of   1 | elapsed:    0.0s remaining:    0.0s\n"
     ]
    },
    {
     "name": "stdout",
     "output_type": "stream",
     "text": [
      "building tree 5 of 10\n",
      "building tree 3 of 10\n",
      "building tree 5 of 10\n",
      "building tree 6 of 10\n",
      "building tree 3 of 10\n",
      "building tree 2 of 10\n"
     ]
    },
    {
     "name": "stderr",
     "output_type": "stream",
     "text": [
      "[Parallel(n_jobs=1)]: Done   1 out of   1 | elapsed:    0.0s remaining:    0.0s\n"
     ]
    },
    {
     "name": "stdout",
     "output_type": "stream",
     "text": [
      "building tree 5 of 10\n",
      "building tree 3 of 10\n",
      "building tree 6 of 10\n",
      "building tree 1 of 10\n"
     ]
    },
    {
     "name": "stderr",
     "output_type": "stream",
     "text": [
      "[Parallel(n_jobs=1)]: Done   1 out of   1 | elapsed:    0.0s remaining:    0.0s\n"
     ]
    },
    {
     "name": "stdout",
     "output_type": "stream",
     "text": [
      "building tree 4 of 10\n"
     ]
    },
    {
     "name": "stderr",
     "output_type": "stream",
     "text": [
      "[Parallel(n_jobs=1)]: Done   1 out of   1 | elapsed:    0.0s remaining:    0.0s\n"
     ]
    },
    {
     "name": "stdout",
     "output_type": "stream",
     "text": [
      "building tree 2 of 10\n",
      "building tree 3 of 10\n",
      "building tree 2 of 10\n",
      "building tree 5 of 10\n"
     ]
    },
    {
     "name": "stderr",
     "output_type": "stream",
     "text": [
      "[Parallel(n_jobs=1)]: Done   1 out of   1 | elapsed:    0.0s remaining:    0.0s\n"
     ]
    },
    {
     "name": "stdout",
     "output_type": "stream",
     "text": [
      "building tree 4 of 10\n",
      "building tree 6 of 10\n",
      "building tree 5 of 10\n",
      "building tree 2 of 10\n",
      "building tree 4 of 10\n"
     ]
    },
    {
     "name": "stderr",
     "output_type": "stream",
     "text": [
      "[Parallel(n_jobs=1)]: Done  10 out of  10 | elapsed:    0.1s finished\n"
     ]
    },
    {
     "name": "stdout",
     "output_type": "stream",
     "text": [
      "building tree 7 of 10\n"
     ]
    },
    {
     "name": "stderr",
     "output_type": "stream",
     "text": [
      "[Parallel(n_jobs=1)]: Done  10 out of  10 | elapsed:    0.1s finished\n",
      "[Parallel(n_jobs=1)]: Done   1 out of   1 | elapsed:    0.1s remaining:    0.0s\n"
     ]
    },
    {
     "name": "stdout",
     "output_type": "stream",
     "text": [
      "building tree 6 of 10\n",
      "building tree 3 of 10\n",
      "building tree 7 of 10\n",
      "building tree 7 of 10\n",
      "building tree 8 of 10\n",
      "building tree 2 of 10\n",
      "building tree 3 of 10\n",
      "building tree 6 of 10\n",
      "building tree 5 of 10\n",
      "building tree 3 of 10\n",
      "building tree 4 of 10\n",
      "building tree 4 of 10\n",
      "building tree 9 of 10\n",
      "building tree 3 of 10\n",
      "building tree 5 of 10\n",
      "building tree 8 of 10\n",
      "building tree 5 of 10\n",
      "building tree 6 of 10\n",
      "building tree 7 of 10\n",
      "building tree 8 of 10\n",
      "building tree 6 of 10\n",
      "building tree 3 of 10\n",
      "building tree 10 of 10\n",
      "building tree 4 of 10\n",
      "building tree 9 of 10\n",
      "building tree 5 of 10\n",
      "building tree 4 of 10\n",
      "building tree 8 of 10\n",
      "building tree 6 of 10\n",
      "building tree 9 of 10\n",
      "building tree 7 of 10\n"
     ]
    },
    {
     "name": "stderr",
     "output_type": "stream",
     "text": [
      "[Parallel(n_jobs=1)]: Done  10 out of  10 | elapsed:    0.3s finished\n"
     ]
    },
    {
     "name": "stdout",
     "output_type": "stream",
     "text": [
      "building tree 7 of 10\n"
     ]
    },
    {
     "name": "stderr",
     "output_type": "stream",
     "text": [
      "[Parallel(n_jobs=1)]: Done   1 out of   1 | elapsed:    0.0s remaining:    0.0s\n"
     ]
    },
    {
     "name": "stdout",
     "output_type": "stream",
     "text": [
      "building tree 6 of 10\n",
      "building tree 10 of 10\n"
     ]
    },
    {
     "name": "stderr",
     "output_type": "stream",
     "text": [
      "[Parallel(n_jobs=1)]: Done  10 out of  10 | elapsed:    0.0s finished\n",
      "[Parallel(n_jobs=1)]: Done   1 out of   1 | elapsed:    0.0s remaining:    0.0s\n"
     ]
    },
    {
     "name": "stdout",
     "output_type": "stream",
     "text": [
      "building tree 6 of 10\n",
      "building tree 7 of 10\n",
      "building tree 4 of 10\n",
      "building tree 8 of 10\n",
      "building tree 4 of 10\n",
      "building tree 10 of 10\n",
      "building tree 7 of 10\n",
      "building tree 5 of 10\n"
     ]
    },
    {
     "name": "stderr",
     "output_type": "stream",
     "text": [
      "[Parallel(n_jobs=1)]: Done  10 out of  10 | elapsed:    0.3s finished\n",
      "[Parallel(n_jobs=1)]: Done  10 out of  10 | elapsed:    0.0s finished\n"
     ]
    },
    {
     "name": "stdout",
     "output_type": "stream",
     "text": [
      "building tree 9 of 10\n"
     ]
    },
    {
     "name": "stderr",
     "output_type": "stream",
     "text": [
      "[Parallel(n_jobs=1)]: Done   1 out of   1 | elapsed:    0.0s remaining:    0.0s\n"
     ]
    },
    {
     "name": "stdout",
     "output_type": "stream",
     "text": [
      "building tree 5 of 10\n",
      "building tree 8 of 10\n",
      "building tree 7 of 10\n",
      "building tree 8 of 10\n",
      "building tree 7 of 10\n"
     ]
    },
    {
     "name": "stderr",
     "output_type": "stream",
     "text": [
      "[Parallel(n_jobs=1)]: Done  10 out of  10 | elapsed:    0.3s finished\n",
      "[Parallel(n_jobs=1)]: Done  10 out of  10 | elapsed:    0.0s finished\n"
     ]
    },
    {
     "name": "stdout",
     "output_type": "stream",
     "text": [
      "building tree 10 of 10\n",
      "building tree 6 of 10\n",
      "building tree 5 of 10\n"
     ]
    },
    {
     "name": "stderr",
     "output_type": "stream",
     "text": [
      "[Parallel(n_jobs=1)]: Done   1 out of   1 | elapsed:    0.0s remaining:    0.0s\n"
     ]
    },
    {
     "name": "stdout",
     "output_type": "stream",
     "text": [
      "building tree 9 of 10\n",
      "building tree 8 of 10\n",
      "building tree 6 of 10\n",
      "building tree 8 of 10\n"
     ]
    },
    {
     "name": "stderr",
     "output_type": "stream",
     "text": [
      "[Parallel(n_jobs=1)]: Done   1 out of   1 | elapsed:    0.0s remaining:    0.0s\n"
     ]
    },
    {
     "name": "stdout",
     "output_type": "stream",
     "text": [
      "building tree 5 of 10\n",
      "building tree 9 of 10\n",
      "building tree 9 of 10\n"
     ]
    },
    {
     "name": "stderr",
     "output_type": "stream",
     "text": [
      "[Parallel(n_jobs=1)]: Done  10 out of  10 | elapsed:    0.3s finished\n",
      "[Parallel(n_jobs=1)]: Done  10 out of  10 | elapsed:    0.0s finished\n",
      "[Parallel(n_jobs=1)]: Done   1 out of   1 | elapsed:    0.0s remaining:    0.0s\n",
      "[Parallel(n_jobs=1)]: Done   1 out of   1 | elapsed:    0.0s remaining:    0.0s\n",
      "[Parallel(n_jobs=1)]: Done  10 out of  10 | elapsed:    0.0s finished\n"
     ]
    },
    {
     "name": "stdout",
     "output_type": "stream",
     "text": [
      "building tree 10 of 10\n",
      "building tree 6 of 10\n",
      "building tree 8 of 10\n",
      "building tree 9 of 10\n"
     ]
    },
    {
     "name": "stderr",
     "output_type": "stream",
     "text": [
      "[Parallel(n_jobs=1)]: Done  10 out of  10 | elapsed:    0.0s finished\n"
     ]
    },
    {
     "name": "stdout",
     "output_type": "stream",
     "text": [
      "building tree 7 of 10\n"
     ]
    },
    {
     "name": "stderr",
     "output_type": "stream",
     "text": [
      "[Parallel(n_jobs=1)]: Done   1 out of   1 | elapsed:    0.0s remaining:    0.0s\n"
     ]
    },
    {
     "name": "stdout",
     "output_type": "stream",
     "text": [
      "building tree 7 of 10\n"
     ]
    },
    {
     "name": "stderr",
     "output_type": "stream",
     "text": [
      "[Parallel(n_jobs=1)]: Done  10 out of  10 | elapsed:    0.0s finished\n"
     ]
    },
    {
     "name": "stdout",
     "output_type": "stream",
     "text": [
      "building tree 6 of 10\n",
      "building tree 9 of 10\n"
     ]
    },
    {
     "name": "stderr",
     "output_type": "stream",
     "text": [
      "[Parallel(n_jobs=1)]: Done  10 out of  10 | elapsed:    0.4s finished\n",
      "[Parallel(n_jobs=1)]: Done  10 out of  10 | elapsed:    0.0s finished\n",
      "[Parallel(n_jobs=1)]: Done   1 out of   1 | elapsed:    0.0s remaining:    0.0s\n"
     ]
    },
    {
     "name": "stdout",
     "output_type": "stream",
     "text": [
      "building tree 7 of 10\n",
      "building tree 10 of 10\n",
      "building tree 10 of 10\n"
     ]
    },
    {
     "name": "stderr",
     "output_type": "stream",
     "text": [
      "[Parallel(n_jobs=1)]: Done  10 out of  10 | elapsed:    0.0s finished\n",
      "[Parallel(n_jobs=1)]: Done   1 out of   1 | elapsed:    0.0s remaining:    0.0s\n"
     ]
    },
    {
     "name": "stdout",
     "output_type": "stream",
     "text": [
      "building tree 7 of 10\n",
      "building tree 10 of 10\n",
      "building tree 9 of 10\n"
     ]
    },
    {
     "name": "stderr",
     "output_type": "stream",
     "text": [
      "[Parallel(n_jobs=1)]: Done  10 out of  10 | elapsed:    0.0s finished\n"
     ]
    },
    {
     "name": "stdout",
     "output_type": "stream",
     "text": [
      "building tree 8 of 10\n",
      "building tree 8 of 10\n",
      "building tree 8 of 10\n",
      "building tree 10 of 10\n"
     ]
    },
    {
     "name": "stderr",
     "output_type": "stream",
     "text": [
      "[Parallel(n_jobs=1)]: Done  10 out of  10 | elapsed:    0.3s finished\n",
      "[Parallel(n_jobs=1)]: Done  10 out of  10 | elapsed:    0.3s finished\n",
      "[Parallel(n_jobs=1)]: Done   1 out of   1 | elapsed:    0.0s remaining:    0.0s\n"
     ]
    },
    {
     "name": "stdout",
     "output_type": "stream",
     "text": [
      "building tree 8 of 10\n"
     ]
    },
    {
     "name": "stderr",
     "output_type": "stream",
     "text": [
      "[Parallel(n_jobs=1)]: Done   1 out of   1 | elapsed:    0.0s remaining:    0.0s\n",
      "[Parallel(n_jobs=1)]: Done  10 out of  10 | elapsed:    0.0s finished\n"
     ]
    },
    {
     "name": "stdout",
     "output_type": "stream",
     "text": [
      "building tree 9 of 10\n",
      "building tree 10 of 10\n",
      "building tree 9 of 10\n"
     ]
    },
    {
     "name": "stderr",
     "output_type": "stream",
     "text": [
      "[Parallel(n_jobs=1)]: Done  10 out of  10 | elapsed:    0.0s finished\n",
      "[Parallel(n_jobs=1)]: Done   1 out of   1 | elapsed:    0.0s remaining:    0.0s\n",
      "[Parallel(n_jobs=1)]: Done  10 out of  10 | elapsed:    0.4s finished\n"
     ]
    },
    {
     "name": "stdout",
     "output_type": "stream",
     "text": [
      "building tree 9 of 10\n"
     ]
    },
    {
     "name": "stderr",
     "output_type": "stream",
     "text": [
      "[Parallel(n_jobs=1)]: Done   1 out of   1 | elapsed:    0.0s remaining:    0.0s\n",
      "[Parallel(n_jobs=1)]: Done   1 out of   1 | elapsed:    0.0s remaining:    0.0s\n",
      "[Parallel(n_jobs=1)]: Done  10 out of  10 | elapsed:    0.0s finished\n",
      "[Parallel(n_jobs=1)]: Done  10 out of  10 | elapsed:    0.0s finished\n",
      "[Parallel(n_jobs=1)]: Done  10 out of  10 | elapsed:    0.3s finished\n",
      "[Parallel(n_jobs=1)]: Done  10 out of  10 | elapsed:    0.0s finished\n",
      "[Parallel(n_jobs=1)]: Done   1 out of   1 | elapsed:    0.0s remaining:    0.0s\n"
     ]
    },
    {
     "name": "stdout",
     "output_type": "stream",
     "text": [
      "building tree 10 of 10\n",
      "building tree 9 of 10\n",
      "building tree 10 of 10\n"
     ]
    },
    {
     "name": "stderr",
     "output_type": "stream",
     "text": [
      "[Parallel(n_jobs=1)]: Done   1 out of   1 | elapsed:    0.0s remaining:    0.0s\n",
      "[Parallel(n_jobs=1)]: Done  10 out of  10 | elapsed:    0.0s finished\n",
      "[Parallel(n_jobs=1)]: Done   1 out of   1 | elapsed:    0.0s remaining:    0.0s\n",
      "[Parallel(n_jobs=1)]: Done  10 out of  10 | elapsed:    0.4s finished\n",
      "[Parallel(n_jobs=1)]: Done  10 out of  10 | elapsed:    0.4s finished\n",
      "[Parallel(n_jobs=1)]: Done  10 out of  10 | elapsed:    0.0s finished\n",
      "[Parallel(n_jobs=1)]: Done  10 out of  10 | elapsed:    0.4s finished\n",
      "[Parallel(n_jobs=1)]: Done  10 out of  10 | elapsed:    0.0s finished\n",
      "[Parallel(n_jobs=1)]: Done   1 out of   1 | elapsed:    0.0s remaining:    0.0s\n"
     ]
    },
    {
     "name": "stdout",
     "output_type": "stream",
     "text": [
      "building tree 10 of 10\n"
     ]
    },
    {
     "name": "stderr",
     "output_type": "stream",
     "text": [
      "[Parallel(n_jobs=1)]: Done   1 out of   1 | elapsed:    0.0s remaining:    0.0s\n"
     ]
    },
    {
     "name": "stdout",
     "output_type": "stream",
     "text": [
      "building tree 10 of 10\n"
     ]
    },
    {
     "name": "stderr",
     "output_type": "stream",
     "text": [
      "[Parallel(n_jobs=1)]: Done   1 out of   1 | elapsed:    0.0s remaining:    0.0s\n",
      "[Parallel(n_jobs=1)]: Done  10 out of  10 | elapsed:    0.0s finished\n",
      "[Parallel(n_jobs=1)]: Done  10 out of  10 | elapsed:    0.0s finished\n",
      "[Parallel(n_jobs=1)]: Done   1 out of   1 | elapsed:    0.0s remaining:    0.0s\n",
      "[Parallel(n_jobs=1)]: Done  10 out of  10 | elapsed:    0.0s finished\n",
      "[Parallel(n_jobs=1)]: Done   1 out of   1 | elapsed:    0.0s remaining:    0.0s\n",
      "[Parallel(n_jobs=1)]: Done  10 out of  10 | elapsed:    0.4s finished\n",
      "[Parallel(n_jobs=1)]: Done  10 out of  10 | elapsed:    0.4s finished\n",
      "[Parallel(n_jobs=1)]: Done   1 out of   1 | elapsed:    0.0s remaining:    0.0s\n",
      "[Parallel(n_jobs=1)]: Done  10 out of  10 | elapsed:    0.0s finished\n",
      "[Parallel(n_jobs=1)]: Done   1 out of   1 | elapsed:    0.0s remaining:    0.0s\n",
      "[Parallel(n_jobs=1)]: Done   1 out of   1 | elapsed:    0.0s remaining:    0.0s\n",
      "[Parallel(n_jobs=1)]: Done  10 out of  10 | elapsed:    0.0s finished\n",
      "[Parallel(n_jobs=1)]: Done  10 out of  10 | elapsed:    0.0s finished\n",
      "[Parallel(n_jobs=1)]: Done  10 out of  10 | elapsed:    0.0s finished\n",
      "[Parallel(n_jobs=1)]: Done  10 out of  10 | elapsed:    0.0s finished\n",
      "[Parallel(n_jobs=1)]: Done   1 out of   1 | elapsed:    0.0s remaining:    0.0s\n",
      "[Parallel(n_jobs=1)]: Done   1 out of   1 | elapsed:    0.0s remaining:    0.0s\n",
      "[Parallel(n_jobs=1)]: Done  10 out of  10 | elapsed:    0.0s finished\n",
      "[Parallel(n_jobs=1)]: Done  10 out of  10 | elapsed:    0.0s finished\n"
     ]
    },
    {
     "name": "stdout",
     "output_type": "stream",
     "text": [
      "building tree 1 of 10\n",
      "building tree 2 of 10\n",
      "building tree 3 of 10\n",
      "building tree 4 of 10\n",
      "building tree 5 of 10\n",
      "building tree 6 of 10\n",
      "building tree 7 of 10\n",
      "building tree 8 of 10\n",
      "building tree 9 of 10\n",
      "building tree 10 of 10\n",
      "\n",
      "Results\n",
      "Confusion matrix \n",
      " [[222 126]\n",
      " [110 110]]\n",
      "F1 score is  0.482\n",
      "Precision score is  0.466\n",
      "Recall score is  0.500\n"
     ]
    },
    {
     "name": "stderr",
     "output_type": "stream",
     "text": [
      "[Parallel(n_jobs=1)]: Done   1 out of   1 | elapsed:    0.0s remaining:    0.0s\n",
      "[Parallel(n_jobs=1)]: Done  10 out of  10 | elapsed:    0.2s finished\n",
      "[Parallel(n_jobs=1)]: Done   1 out of   1 | elapsed:    0.0s remaining:    0.0s\n",
      "[Parallel(n_jobs=1)]: Done  10 out of  10 | elapsed:    0.0s finished\n",
      "COMET INFO: Experiment is live on comet.ml https://www.comet.ml/polabs/crypto-dashboard/25f206b46e6d4fbc8d700a39cbd00a07\n",
      "\n",
      "COMET INFO: old comet version (1.0.42) detected. current: 1.0.43 please update your comet lib with command: `pip install --no-cache-dir --upgrade comet_ml`\n",
      "COMET INFO: Experiment is live on comet.ml https://www.comet.ml/polabs/crypto-dashboard/80ac10b06c844f4fa496bbbc8e87a1ba\n",
      "\n",
      "COMET INFO: Experiment is live on comet.ml https://www.comet.ml/polabs/crypto-dashboard/80ac10b06c844f4fa496bbbc8e87a1ba\n",
      "\n",
      "COMET INFO: old comet version (1.0.42) detected. current: 1.0.43 please update your comet lib with command: `pip install --no-cache-dir --upgrade comet_ml`\n",
      "COMET INFO: Experiment is live on comet.ml https://www.comet.ml/polabs/crypto-dashboard/97609831882f4a39a081cfb5c96dc033\n",
      "\n",
      "COMET INFO: Experiment is live on comet.ml https://www.comet.ml/polabs/crypto-dashboard/97609831882f4a39a081cfb5c96dc033\n",
      "\n",
      "COMET INFO: old comet version (1.0.42) detected. current: 1.0.43 please update your comet lib with command: `pip install --no-cache-dir --upgrade comet_ml`\n",
      "COMET INFO: Experiment is live on comet.ml https://www.comet.ml/polabs/crypto-dashboard/ec430725e999442c8cabe64f3f8798de\n",
      "\n"
     ]
    }
   ],
   "source": [
    "#3. Random forest\n",
    "scaler = preprocessing.StandardScaler().fit(XY_train[1])\n",
    "XY_train_scale = scaler.transform(XY_train[1])        #print(pd.DataFrame(XY_train_scale).head())\n",
    "XY_test_scale = scaler.transform(XY_test[1])        #print(pd.DataFrame(XY_test_scale).head())\n",
    "        \n",
    "param_grid = {'max_depth':[6, 8, 12]}\n",
    "\n",
    "Model_rf = RandomForestClassifier(verbose=2)\n",
    "CV_rf = GridSearchCV(Model_rf, param_grid=param_grid, cv = 10, n_jobs=-1)\n",
    "CV_rf.fit(XY_train_scale, XY_train[0].values.ravel())\n",
    "y_pred = CV_rf.predict(XY_test_scale)\n",
    "\n",
    "print(\"\\nResults\\nConfusion matrix \\n {}\".format(confusion_matrix(XY_test[0], y_pred)))\n",
    "f1 = f1_score(XY_test[0], y_pred)\n",
    "precision = precision_score(XY_test[0], y_pred)\n",
    "recall = recall_score(XY_test[0], y_pred)\n",
    "\n",
    "print(\"F1 score is {:6.3f}\".format(f1))\n",
    "print(\"Precision score is {:6.3f}\".format(precision))\n",
    "print(\"Recall score is {:6.3f}\".format(recall))\n",
    "\n",
    "for i in range(len(CV_rf.cv_results_['params'])):\n",
    "    exp = Experiment(api_key=cometkey.loc[0, 'cometapikey'], project_name=\"Crypto_Dashboard\")\n",
    "    for k,v in CV_rf.cv_results_.items():\n",
    "            if k == \"params\":\n",
    "                exp.log_parameters(v[i])\n",
    "            else:\n",
    "                exp.log_metric(k,v[i])"
   ]
  },
  {
   "cell_type": "code",
   "execution_count": null,
   "metadata": {},
   "outputs": [],
   "source": []
  },
  {
   "cell_type": "code",
   "execution_count": null,
   "metadata": {},
   "outputs": [],
   "source": []
  }
 ],
 "metadata": {
  "kernelspec": {
   "display_name": "Python [conda env:root]",
   "language": "python",
   "name": "conda-root-py"
  },
  "language_info": {
   "codemirror_mode": {
    "name": "ipython",
    "version": 3
   },
   "file_extension": ".py",
   "mimetype": "text/x-python",
   "name": "python",
   "nbconvert_exporter": "python",
   "pygments_lexer": "ipython3",
   "version": "3.7.0"
  }
 },
 "nbformat": 4,
 "nbformat_minor": 2
}
