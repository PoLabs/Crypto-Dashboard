{
 "cells": [
  {
   "cell_type": "code",
   "execution_count": 2,
   "metadata": {
    "scrolled": true
   },
   "outputs": [
    {
     "ename": "ModuleNotFoundError",
     "evalue": "No module named 'skleran'",
     "output_type": "error",
     "traceback": [
      "\u001b[0;31m---------------------------------------------------------------------------\u001b[0m",
      "\u001b[0;31mModuleNotFoundError\u001b[0m                       Traceback (most recent call last)",
      "\u001b[0;32m<ipython-input-2-74ffbd676b15>\u001b[0m in \u001b[0;36m<module>\u001b[0;34m\u001b[0m\n\u001b[1;32m      1\u001b[0m \u001b[0;32mimport\u001b[0m \u001b[0mpandas\u001b[0m \u001b[0;32mas\u001b[0m \u001b[0mpd\u001b[0m\u001b[0;34m\u001b[0m\u001b[0;34m\u001b[0m\u001b[0m\n\u001b[1;32m      2\u001b[0m \u001b[0;32mimport\u001b[0m \u001b[0mnumpy\u001b[0m \u001b[0;32mas\u001b[0m \u001b[0mnp\u001b[0m\u001b[0;34m\u001b[0m\u001b[0;34m\u001b[0m\u001b[0m\n\u001b[0;32m----> 3\u001b[0;31m \u001b[0;32mfrom\u001b[0m \u001b[0mskleran\u001b[0m \u001b[0;32mimport\u001b[0m \u001b[0mlinear_model\u001b[0m\u001b[0;34m\u001b[0m\u001b[0;34m\u001b[0m\u001b[0m\n\u001b[0m\u001b[1;32m      4\u001b[0m \u001b[0;32mfrom\u001b[0m \u001b[0msklearn\u001b[0m \u001b[0;32mimport\u001b[0m \u001b[0msvm\u001b[0m\u001b[0;34m\u001b[0m\u001b[0;34m\u001b[0m\u001b[0m\n\u001b[1;32m      5\u001b[0m \u001b[0;32mfrom\u001b[0m \u001b[0msklearn\u001b[0m \u001b[0;32mimport\u001b[0m \u001b[0mpreprocessing\u001b[0m\u001b[0;34m\u001b[0m\u001b[0;34m\u001b[0m\u001b[0m\n",
      "\u001b[0;31mModuleNotFoundError\u001b[0m: No module named 'skleran'"
     ]
    }
   ],
   "source": [
    "import pandas as pd\n",
    "import numpy as np\n",
    "from skleran import linear_model\n",
    "from sklearn import svm\n",
    "from sklearn import preprocessing\n",
    "\n",
    "#set seed\n",
    "np.random.seed(420)\n",
    "pair_vector = [\"BTCUSDT\"]#, 'ADABTC', 'EOSBTC', 'IOTABTC', 'NEOBTC', 'XLMBTC', 'ETHUSDT', 'BNBUSDT', 'BNBBTC', 'ETHBTC'\n",
    "\n",
    "#loop over each pair in pair_vecotor\n",
    "for x in pair_vector:\n",
    "    print(x)\n",
    "    #read in each of the 6 model datasets\n",
    "    train_dfs = []\n",
    "    df = pd.read_csv(\"/home/polabs1/Crypto/12.09.2018/train sets/\" + x + \"-a1.csv\")\n",
    "    train_dfs.append(df)\n",
    "    df = pd.read_csv(\"/home/polabs1/Crypto/12.09.2018/train sets/\" + x + \"-a2.csv\")\n",
    "    train_dfs.append(df)\n",
    "    df = pd.read_csv(\"/home/polabs1/Crypto/12.09.2018/train sets/\" + x + \"-a3.csv\")\n",
    "    train_dfs.append(df)\n",
    "    df = pd.read_csv(\"/home/polabs1/Crypto/12.09.2018/train sets/\" + x + \"-a4.csv\")\n",
    "    train_dfs.append(df)\n",
    "    df = pd.read_csv(\"/home/polabs1/Crypto/12.09.2018/train sets/\" + x + \"-a5.csv\")\n",
    "    train_dfs.append(df)\n",
    "    df = pd.read_csv(\"/home/polabs1/Crypto/12.09.2018/train sets/\" + x + \"-a6.csv\")\n",
    "    train_dfs.append(df)\n",
    "\n",
    "    test_dfs = []\n",
    "    df = pd.read_csv(\"/home/polabs1/Crypto/12.09.2018/test sets/\" + x + \"-a1.csv\")\n",
    "    test_dfs.append(df)\n",
    "    df = pd.read_csv(\"/home/polabs1/Crypto/12.09.2018/test sets/\" + x + \"-a2.csv\")\n",
    "    test_dfs.append(df)\n",
    "    df = pd.read_csv(\"/home/polabs1/Crypto/12.09.2018/test sets/\" + x + \"-a3.csv\")\n",
    "    test_dfs.append(df)\n",
    "    df = pd.read_csv(\"/home/polabs1/Crypto/12.09.2018/test sets/\" + x + \"-a4.csv\")\n",
    "    test_dfs.append(df)\n",
    "    df = pd.read_csv(\"/home/polabs1/Crypto/12.09.2018/test sets/\" + x + \"-a5.csv\")\n",
    "    test_dfs.append(df)\n",
    "    df = pd.read_csv(\"/home/polabs1/Crypto/12.09.2018/test sets/\" + x + \"-a6.csv\")\n",
    "    test_dfs.append(df)\n",
    "\n",
    "    \n",
    "    \n",
    "    for m in range(0, 1):   #i guess range doesnt include last num? to 6\n",
    "        print(m)\n",
    "        print('train shape' + train_dfs[m].shape)\n",
    "        print('test shape' + test_dfs[m].shape)\n",
    "        \n",
    "        XY_train = np.split(train_dfs[m], [1], axis=1)\n",
    "        XY_test = np.split(test_dfs[m], [1], axis=1)\n",
    "                \n",
    "        #1. scale\n",
    "        scaler = preprocessing.StandardScaler().fit(XY_train)\n",
    "        scaler.transform(XY_train)\n",
    "        XY_train.head()\n",
    "        scaler.transform(XY_test)\n",
    "        XY_test.head()\n",
    "        \n",
    "        \n",
    "        #2. model\n",
    "        \n",
    "          \n",
    "        #2.a\n",
    "        \n",
    "        #2.b\n",
    "        \n",
    "        \n",
    "        #3. cv \n",
    "        \n",
    "        \n"
   ]
  },
  {
   "cell_type": "code",
   "execution_count": null,
   "metadata": {},
   "outputs": [],
   "source": []
  },
  {
   "cell_type": "code",
   "execution_count": null,
   "metadata": {},
   "outputs": [],
   "source": []
  },
  {
   "cell_type": "code",
   "execution_count": null,
   "metadata": {},
   "outputs": [],
   "source": []
  },
  {
   "cell_type": "code",
   "execution_count": null,
   "metadata": {},
   "outputs": [],
   "source": []
  }
 ],
 "metadata": {
  "kernelspec": {
   "display_name": "Python 3",
   "language": "python",
   "name": "python3"
  },
  "language_info": {
   "codemirror_mode": {
    "name": "ipython",
    "version": 3
   },
   "file_extension": ".py",
   "mimetype": "text/x-python",
   "name": "python",
   "nbconvert_exporter": "python",
   "pygments_lexer": "ipython3",
   "version": "3.6.7"
  }
 },
 "nbformat": 4,
 "nbformat_minor": 2
}
