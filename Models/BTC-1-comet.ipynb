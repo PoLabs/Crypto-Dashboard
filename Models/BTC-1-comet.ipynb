{
 "cells": [
  {
   "cell_type": "code",
   "execution_count": 6,
   "metadata": {},
   "outputs": [
    {
     "name": "stderr",
     "output_type": "stream",
     "text": [
      "COMET INFO: old comet version (1.0.42) detected. current: 1.0.43 please update your comet lib with command: `pip install --no-cache-dir --upgrade comet_ml`\n",
      "COMET INFO: Experiment is live on comet.ml https://www.comet.ml/polabs/crypto-dashboard/eccd821b6881465788c3e75887508c65\n",
      "\n"
     ]
    }
   ],
   "source": [
    "#load packages and comet key\n",
    "from comet_ml import Experiment\n",
    "import pandas as pd\n",
    "import numpy as np\n",
    "from sklearn import linear_model\n",
    "from sklearn import svm\n",
    "from sklearn import preprocessing\n",
    "from sklearn.model_selection import GridSearchCV, cross_val_score, KFold\n",
    "from sklearn.metrics import mean_squared_error, r2_score, f1_score, precision_score, recall_score, confusion_matrix\n",
    "from sklearn.linear_model import LogisticRegression\n",
    "import matplotlib.pyplot as plt\n",
    "from sklearn import svm\n",
    "\n",
    "cometkey = pd.read_csv('/home/polabs1/Downloads/cometml-API-key.csv')\n",
    "experiment = Experiment(api_key=cometkey.loc[0, 'cometapikey'], project_name=\"Crypto_Dashboard\")\n",
    "\n",
    "np.random.seed(420)"
   ]
  },
  {
   "cell_type": "code",
   "execution_count": 7,
   "metadata": {},
   "outputs": [
    {
     "name": "stdout",
     "output_type": "stream",
     "text": [
      "Positive 1% train shape\n",
      "(4783, 50)\n",
      "Positive 1% test shape\n",
      "(568, 50)\n",
      "Negative 1% train shape\n",
      "(4783, 50)\n",
      "Negative 1% test shape\n",
      "(568, 50)\n"
     ]
    }
   ],
   "source": [
    "#load data\n",
    "dfPr = pd.read_csv(\"/home/polabs1/Crypto/12.09.2018/train sets/BTCUSDT-a2.csv\")\n",
    "dfNr = pd.read_csv(\"/home/polabs1/Crypto/12.09.2018/train sets/BTCUSDT-a5.csv\")\n",
    "\n",
    "dfPt = pd.read_csv(\"/home/polabs1/Crypto/12.09.2018/test sets/BTCUSDT-a1.csv\")\n",
    "dfNt = pd.read_csv(\"/home/polabs1/Crypto/12.09.2018/test sets/BTCUSDT-a5.csv\")\n",
    "\n",
    "print('Positive 1% train shape')\n",
    "print(dfPr.shape)\n",
    "print('Positive 1% test shape')\n",
    "print(dfPt.shape)\n",
    "\n",
    "print('Negative 1% train shape')\n",
    "print(dfNr.shape)\n",
    "print('Negative 1% test shape')\n",
    "print(dfNt.shape)\n",
    "\n",
    "#Positive !% 24hr only for now\n",
    "XY_train = np.split(dfPr, [1], axis=1)\n",
    "XY_test = np.split(dfPt, [1], axis=1)\n"
   ]
  },
  {
   "cell_type": "code",
   "execution_count": 16,
   "metadata": {},
   "outputs": [
    {
     "name": "stdout",
     "output_type": "stream",
     "text": [
      "\n",
      "Results\n",
      "Confusion matrix \n",
      " [[  2 346]\n",
      " [  2 218]]\n",
      "F1 score is  0.556\n",
      "Precision score is  0.387\n",
      "Recall score is  0.991\n"
     ]
    }
   ],
   "source": [
    "#1. Logistic regression\n",
    "scaler = preprocessing.StandardScaler().fit(XY_train[1])\n",
    "XY_train_scale = scaler.transform(XY_train[1])        #print(pd.DataFrame(XY_train_scale).head())\n",
    "XY_test_scale = scaler.transform(XY_test[1])        #print(pd.DataFrame(XY_test_scale).head())\n",
    "        \n",
    "param_grid = {'C':[0.0001, 0.001, 0.01, 0.1, 1, 5, 10, 100 ], \n",
    "              'tol':[0.001, 0.01, 0.1, 1, 10]}    \n",
    "    \n",
    "#Model_logistic = LogisticRegression(C=1, penalty='l1', tol=0.1, solver='liblinear')\n",
    "#Model_logistic.fit(XY_train_scale, XY_train[0].values.ravel()) \n",
    "#Model_logistic_pred = Model_logistic.predict(XY_test_scale) \n",
    "#print(\"Mean squared error: %.2f\" % mean_squared_error(XY_test[0], Model_logistic_pred))\n",
    "#print('Variance score: %.2f' % r2_score(XY_test[0], Model_logistic_pred)) # Explained variance score: 1 is perfect prediction\n",
    "#print(Model_logistic.score(XY_test_scale, XY_test[0]))\n",
    "\n",
    "#CV_logistic = cross_val_score(Model_logistic, XY_test_scale, XY_test[0].values.ravel(), cv=5, verbose=2) #scoring=\"\" njobs=\n",
    "#CV_logistic\n",
    "#print(\"Accuracy: %0.2f (+/- %0.2f)\" % (CV_logistic.mean(), CV_logistic.std() * 2))\n",
    "#acc = CV_logistic.mean()\n",
    "\n",
    "Model_logistic = LogisticRegression(penalty='l1')\n",
    "CV_logistic = GridSearchCV(Model_logistic, param_grid=param_grid, cv = 10, n_jobs=-1)\n",
    "CV_logistic.fit(XY_train_scale, XY_train[0].values.ravel())\n",
    "y_pred = CV_logistic.predict(XY_test_scale)\n",
    "\n",
    "print(\"\\nResults\\nConfusion matrix \\n {}\".format(confusion_matrix(XY_test[0], y_pred)))\n",
    "f1 = f1_score(XY_test[0], y_pred)\n",
    "precision = precision_score(XY_test[0], y_pred)\n",
    "recall = recall_score(XY_test[0], y_pred)\n",
    "\n",
    "print(\"F1 score is {:6.3f}\".format(f1))\n",
    "print(\"Precision score is {:6.3f}\".format(precision))\n",
    "print(\"Recall score is {:6.3f}\".format(recall))\n",
    "\n",
    "params={\"scale\":\"Standard scale of test\", \"penalty\":\"L1\", \"solver\":\"liblinear\",\n",
    "       \"param_grid\":str(param_grid)       }   # \"C\":1, \"tol\":0.1,\n",
    "    \n",
    "#metrics={\"Accuracy\":acc, \"STDaccuracy\":CV_logistic.std()*2}\n",
    "metrics={\"f1\":f1, \"recall\":recall, \"precision\":precision}\n",
    "\n",
    "experiment.log_parameters(params)\n",
    "experiment.log_metrics(metrics)\n"
   ]
  },
  {
   "cell_type": "code",
   "execution_count": 18,
   "metadata": {},
   "outputs": [
    {
     "name": "stdout",
     "output_type": "stream",
     "text": [
      "\n",
      "Results\n",
      "Confusion matrix \n",
      " [[ 86 262]\n",
      " [  8 212]]\n",
      "F1 score is  0.611\n",
      "Precision score is  0.447\n",
      "Recall score is  0.964\n"
     ]
    }
   ],
   "source": [
    " #2. SVM\n",
    "param_grid = {'gamma':[0.001, 0.01, 0.1, 1, 10], 'C':[0.001, 0.01, 0.1, 1, 10]}\n",
    "\n",
    "scaler = preprocessing.StandardScaler().fit(XY_train[1])\n",
    "X_train_scale = scaler.transform(XY_train[1])        #print(pd.DataFrame(XY_train_scale).head())\n",
    "X_test_scale = scaler.transform(XY_test[1])        #print(pd.DataFrame(XY_test_scale).head())\n",
    "Y_train = XY_train[0]\n",
    "Y_test = XY_test[0]\n",
    "\n",
    "#Model_svm.fit(XY_train_scale, XY_train[0].values.ravel())\n",
    "#Model_svm_pred = Model_svm.predict(XY_test_scale) # Make predictions using the testing set\n",
    "#print(\"Mean squared error: %.2f\" % mean_squared_error(XY_test[0], Model_svm_pred))\n",
    "#print('Variance score: %.2f' % r2_score(XY_test[0], Model_svm_pred)) # Explained variance score: 1 is perfect prediction\n",
    "#print(Model_svm.score(XY_test_scale, XY_test[0]))\n",
    "        \n",
    "#CV_svm = cross_val_score(Model_svm, XY_test_scale, XY_test[0].values.ravel(), cv=5, verbose=2) #scoring=\"\" njobs=\n",
    "#CV_svm\n",
    "#print(\"Accuracy: %0.2f (+/- %0.2f)\" % (CV_svm.mean(), CV_svm.std() * 2))\n",
    "#acc = CV_svm.mean()\n",
    "\n",
    "Model_svm = svm.SVC(kernel='rbf')#<-parameteres: C low is less penality of error term (generalizes better), higher C will overfit/stricter, gamma=degree of influence of single training example, low is neighborhood, high is far?\n",
    "CV_svm = GridSearchCV(Model_svm, param_grid=param_grid, cv = 10, n_jobs=-1)\n",
    "CV_svm.fit(X_train_scale, Y_train.values.ravel())\n",
    "y_pred = CV_svm.predict(X_test_scale)\n",
    "\n",
    "print(\"\\nResults\\nConfusion matrix \\n {}\".format(confusion_matrix(XY_test[0].values.ravel(), y_pred)))\n",
    "f1 = f1_score(XY_test[0].values.ravel(), y_pred)\n",
    "precision = precision_score(XY_test[0].values.ravel(), y_pred)\n",
    "recall = recall_score(XY_test[0].values.ravel(), y_pred)\n",
    "\n",
    "print(\"F1 score is {:6.3f}\".format(f1))\n",
    "print(\"Precision score is {:6.3f}\".format(precision))\n",
    "print(\"Recall score is {:6.3f}\".format(recall))\n",
    "\n",
    "params={\"kernel\":\"rbf\",\n",
    "       \"param_grid\":str(param_grid)       }   # \"C\":1, \"tol\":0.1,\n",
    "    \n",
    "#metrics={\"Accuracy\":acc, \"STDaccuracy\":CV_logistic.std()*2}\n",
    "metrics={\"f1\":f1, \"recall\":recall, \"precision\":precision}\n",
    "\n",
    "#params={\"scale\":\"Standard scale of test\",\n",
    "#       \"gamma\":0.01,\n",
    "#       \"C\":0.1,\n",
    "#       \"kernel\":\"rbf\"}\n",
    "#metrics={\"Accuracy\":acc, \"STDaccuracy\":CV_svm.std()*2}\n",
    "\n",
    "experiment.log_parameters(params)\n",
    "experiment.log_metrics(metrics)"
   ]
  },
  {
   "cell_type": "code",
   "execution_count": null,
   "metadata": {},
   "outputs": [],
   "source": []
  },
  {
   "cell_type": "code",
   "execution_count": null,
   "metadata": {},
   "outputs": [],
   "source": []
  },
  {
   "cell_type": "code",
   "execution_count": null,
   "metadata": {},
   "outputs": [],
   "source": []
  }
 ],
 "metadata": {
  "kernelspec": {
   "display_name": "Python [conda env:root]",
   "language": "python",
   "name": "conda-root-py"
  },
  "language_info": {
   "codemirror_mode": {
    "name": "ipython",
    "version": 3
   },
   "file_extension": ".py",
   "mimetype": "text/x-python",
   "name": "python",
   "nbconvert_exporter": "python",
   "pygments_lexer": "ipython3",
   "version": "3.7.0"
  }
 },
 "nbformat": 4,
 "nbformat_minor": 2
}
