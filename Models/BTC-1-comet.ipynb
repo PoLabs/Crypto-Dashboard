{
 "cells": [
  {
   "cell_type": "code",
   "execution_count": 2,
   "metadata": {},
   "outputs": [
    {
     "name": "stderr",
     "output_type": "stream",
     "text": [
      "COMET INFO: Experiment is live on comet.ml https://www.comet.ml/polabs/crypto-dashboard/a26c628f08894386b5cbbeed5431b50e\n",
      "\n"
     ]
    }
   ],
   "source": [
    "#load packages and comet key\n",
    "from comet_ml import Experiment\n",
    "import pandas as pd\n",
    "import numpy as np\n",
    "from sklearn import linear_model\n",
    "from sklearn import svm\n",
    "from sklearn import preprocessing\n",
    "from sklearn.model_selection import cross_val_score\n",
    "from sklearn.metrics import mean_squared_error, r2_score\n",
    "from sklearn.linear_model import LogisticRegression\n",
    "import matplotlib.pyplot as plt\n",
    "from sklearn import svm\n",
    "\n",
    "cometkey = pd.read_csv('/home/polabs1/Downloads/cometml-API-key.csv')\n",
    "experiment = Experiment(api_key=cometkey.loc[0, 'cometapikey'], project_name=\"Crypto_Dashboard\")\n",
    "\n",
    "np.random.seed(420)"
   ]
  },
  {
   "cell_type": "code",
   "execution_count": 3,
   "metadata": {},
   "outputs": [
    {
     "name": "stdout",
     "output_type": "stream",
     "text": [
      "Positive 1% train shape\n",
      "(4783, 50)\n",
      "Positive 1% test shape\n",
      "(568, 50)\n",
      "Negative 1% train shape\n",
      "(4783, 50)\n",
      "Negative 1% test shape\n",
      "(568, 50)\n"
     ]
    }
   ],
   "source": [
    "#load data\n",
    "dfPr = pd.read_csv(\"/home/polabs1/Crypto/12.09.2018/train sets/BTCUSDT-a2.csv\")\n",
    "dfNr = pd.read_csv(\"/home/polabs1/Crypto/12.09.2018/train sets/BTCUSDT-a5.csv\")\n",
    "\n",
    "dfPt = pd.read_csv(\"/home/polabs1/Crypto/12.09.2018/test sets/BTCUSDT-a1.csv\")\n",
    "dfNt = pd.read_csv(\"/home/polabs1/Crypto/12.09.2018/test sets/BTCUSDT-a5.csv\")\n",
    "\n",
    "print('Positive 1% train shape')\n",
    "print(dfPr.shape)\n",
    "print('Positive 1% test shape')\n",
    "print(dfPt.shape)\n",
    "\n",
    "print('Negative 1% train shape')\n",
    "print(dfNr.shape)\n",
    "print('Negative 1% test shape')\n",
    "print(dfNt.shape)\n",
    "\n",
    "#Positive !% 24hr only for now\n",
    "XY_train = np.split(dfPr, [1], axis=1)\n",
    "XY_test = np.split(dfPt, [1], axis=1)\n"
   ]
  },
  {
   "cell_type": "code",
   "execution_count": 21,
   "metadata": {},
   "outputs": [
    {
     "name": "stdout",
     "output_type": "stream",
     "text": [
      "Mean squared error: 0.66\n",
      "Variance score: -1.77\n",
      "0.3415492957746479\n",
      "[CV]  ................................................................\n",
      "[CV] ................................................. , total=   0.0s\n",
      "[CV]  ................................................................\n",
      "[CV] ................................................. , total=   0.0s\n",
      "[CV]  ................................................................\n",
      "[CV] ................................................. , total=   0.0s\n",
      "[CV]  ................................................................\n",
      "[CV] ................................................. , total=   0.0s\n",
      "[CV]  ................................................................\n",
      "[CV] ................................................. , total=   0.0s\n",
      "Accuracy: 0.82 (+/- 0.05)\n"
     ]
    },
    {
     "name": "stderr",
     "output_type": "stream",
     "text": [
      "[Parallel(n_jobs=1)]: Done   1 out of   1 | elapsed:    0.0s remaining:    0.0s\n",
      "[Parallel(n_jobs=1)]: Done   5 out of   5 | elapsed:    0.0s finished\n"
     ]
    }
   ],
   "source": [
    "#1. Logistic regression\n",
    "params={\"scale\":\"Standard scale of test\",\n",
    "       \"penalty\":\"L1\",\n",
    "       \"C\":1,\n",
    "       \"tol\":0.1,\n",
    "       \"solver\":\"liblinear\"}\n",
    "\n",
    "scaler = preprocessing.StandardScaler().fit(XY_train[1])\n",
    "XY_train_scale = scaler.transform(XY_train[1])        #print(pd.DataFrame(XY_train_scale).head())\n",
    "XY_test_scale = scaler.transform(XY_test[1])        #print(pd.DataFrame(XY_test_scale).head())\n",
    "        \n",
    "Model_logistic = LogisticRegression(C=1, penalty='l1', tol=0.1, solver='liblinear')\n",
    "Model_logistic.fit(XY_train_scale, XY_train[0].values.ravel()) \n",
    "Model_logistic_pred = Model_logistic.predict(XY_test_scale) \n",
    "print(\"Mean squared error: %.2f\" % mean_squared_error(XY_test[0], Model_logistic_pred))\n",
    "print('Variance score: %.2f' % r2_score(XY_test[0], Model_logistic_pred)) # Explained variance score: 1 is perfect prediction\n",
    "print(Model_logistic.score(XY_test_scale, XY_test[0]))\n",
    "      \n",
    "CV_logistic = cross_val_score(Model_logistic, XY_test_scale, XY_test[0].values.ravel(), cv=5, verbose=2) #scoring=\"\" njobs=\n",
    "CV_logistic\n",
    "print(\"Accuracy: %0.2f (+/- %0.2f)\" % (CV_logistic.mean(), CV_logistic.std() * 2))\n",
    "acc = CV_logistic.mean()\n",
    "    \n",
    "metrics={\"Accuracy\":acc, \"STDaccuracy\":CV_logistic.std()*2}\n",
    "\n",
    "experiment.log_parameters(params)\n",
    "experiment.log_metrics(metrics)\n"
   ]
  },
  {
   "cell_type": "code",
   "execution_count": 4,
   "metadata": {},
   "outputs": [
    {
     "name": "stdout",
     "output_type": "stream",
     "text": [
      "Mean squared error: 0.65\n",
      "Variance score: -1.76\n",
      "0.34507042253521125\n",
      "[CV]  ................................................................\n",
      "[CV] ................................................. , total=   0.0s\n",
      "[CV]  ................................................................\n",
      "[CV] ................................................. , total=   0.0s\n",
      "[CV]  ................................................................\n",
      "[CV] ................................................. , total=   0.0s\n",
      "[CV]  ................................................................\n",
      "[CV] ................................................. , total=   0.0s\n",
      "[CV]  ................................................................\n",
      "[CV] ................................................. , total=   0.0s\n",
      "Accuracy: 0.64 (+/- 0.04)\n"
     ]
    },
    {
     "name": "stderr",
     "output_type": "stream",
     "text": [
      "[Parallel(n_jobs=1)]: Done   1 out of   1 | elapsed:    0.0s remaining:    0.0s\n",
      "[Parallel(n_jobs=1)]: Done   5 out of   5 | elapsed:    0.1s finished\n"
     ]
    }
   ],
   "source": [
    " #2. SVM\n",
    "params={\"scale\":\"Standard scale of test\",\n",
    "       \"gamma\":0.01,\n",
    "       \"C\":0.1,\n",
    "       \"kernel\":\"rbf\"}\n",
    "\n",
    "scaler = preprocessing.StandardScaler().fit(XY_train[1])\n",
    "XY_train_scale = scaler.transform(XY_train[1])        #print(pd.DataFrame(XY_train_scale).head())\n",
    "XY_test_scale = scaler.transform(XY_test[1])        #print(pd.DataFrame(XY_test_scale).head())\n",
    "    \n",
    "Model_svm = svm.SVC(gamma=0.01, C=0.1, kernel='rbf')#<-parameteres: C low is less penality of error term (generalizes better), higher C will overfit/stricter, gamma=degree of influence of single training example, low is neighborhood, high is far?\n",
    "Model_svm.fit(XY_train_scale, XY_train[0].values.ravel())\n",
    "Model_svm_pred = Model_svm.predict(XY_test_scale) # Make predictions using the testing set\n",
    "print(\"Mean squared error: %.2f\" % mean_squared_error(XY_test[0], Model_svm_pred))\n",
    "print('Variance score: %.2f' % r2_score(XY_test[0], Model_svm_pred)) # Explained variance score: 1 is perfect prediction\n",
    "print(Model_svm.score(XY_test_scale, XY_test[0]))\n",
    "        \n",
    "CV_svm = cross_val_score(Model_svm, XY_test_scale, XY_test[0].values.ravel(), cv=5, verbose=2) #scoring=\"\" njobs=\n",
    "CV_svm\n",
    "print(\"Accuracy: %0.2f (+/- %0.2f)\" % (CV_svm.mean(), CV_svm.std() * 2))\n",
    "acc = CV_svm.mean()\n",
    "\n",
    "metrics={\"Accuracy\":acc, \"STDaccuracy\":CV_svm.std()*2}\n",
    "\n",
    "experiment.log_parameters(params)\n",
    "experiment.log_metrics(metrics)"
   ]
  },
  {
   "cell_type": "code",
   "execution_count": null,
   "metadata": {},
   "outputs": [],
   "source": []
  },
  {
   "cell_type": "code",
   "execution_count": null,
   "metadata": {},
   "outputs": [],
   "source": []
  },
  {
   "cell_type": "code",
   "execution_count": null,
   "metadata": {},
   "outputs": [],
   "source": []
  }
 ],
 "metadata": {
  "kernelspec": {
   "display_name": "Python [conda env:root]",
   "language": "python",
   "name": "conda-root-py"
  },
  "language_info": {
   "codemirror_mode": {
    "name": "ipython",
    "version": 3
   },
   "file_extension": ".py",
   "mimetype": "text/x-python",
   "name": "python",
   "nbconvert_exporter": "python",
   "pygments_lexer": "ipython3",
   "version": "3.7.0"
  }
 },
 "nbformat": 4,
 "nbformat_minor": 2
}
