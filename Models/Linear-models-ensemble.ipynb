{
 "cells": [
  {
   "cell_type": "code",
   "execution_count": 21,
   "metadata": {
    "scrolled": true
   },
   "outputs": [
    {
     "name": "stdout",
     "output_type": "stream",
     "text": [
      "BTCUSDT\n",
      "0\n",
      "(4783, 50)\n",
      "1\n",
      "(4783, 50)\n",
      "2\n",
      "(4783, 50)\n",
      "3\n",
      "(4783, 50)\n",
      "4\n",
      "(4783, 50)\n",
      "5\n",
      "(4783, 50)\n"
     ]
    }
   ],
   "source": [
    "import pandas as pd\n",
    "import numpy as np\n",
    "from skleran import linear_model\n",
    "from sklearn import svm\n",
    "\n",
    "#set seed\n",
    "np.random.seed(420)\n",
    "pair_vector = [\"BTCUSDT\"]#, 'ADABTC', 'EOSBTC', 'IOTABTC', 'NEOBTC', 'XLMBTC', 'ETHUSDT', 'BNBUSDT', 'BNBBTC', 'ETHBTC'\n",
    "\n",
    "#loop over each pair in pair_vecotor\n",
    "for x in pair_vector:\n",
    "    print(x)\n",
    "    #read in each of the 6 model datasets\n",
    "    dfs = []\n",
    "    df = pd.read_csv(\"/home/polabs1/Crypto/12.09.2018/datasets/\" + x + \"-a1.csv\")\n",
    "    dfs.append(df)\n",
    "    df = pd.read_csv(\"/home/polabs1/Crypto/12.09.2018/datasets/\" + x + \"-a2.csv\")\n",
    "    dfs.append(df)\n",
    "    df = pd.read_csv(\"/home/polabs1/Crypto/12.09.2018/datasets/\" + x + \"-a3.csv\")\n",
    "    dfs.append(df)\n",
    "    df = pd.read_csv(\"/home/polabs1/Crypto/12.09.2018/datasets/\" + x + \"-a4.csv\")\n",
    "    dfs.append(df)\n",
    "    df = pd.read_csv(\"/home/polabs1/Crypto/12.09.2018/datasets/\" + x + \"-a5.csv\")\n",
    "    dfs.append(df)\n",
    "    df = pd.read_csv(\"/home/polabs1/Crypto/12.09.2018/datasets/\" + x + \"-a6.csv\")\n",
    "    dfs.append(df)\n",
    "    \n",
    "    for m in range(0, 1):   #i guess range doesnt include last num? to 6\n",
    "        print(m)\n",
    "        print(dfs[m].shape)\n",
    "        \n",
    "        #1. scale\n",
    "        \n",
    "        scaler = preprocessing.StandardScaler().fit(btca1_X_train)\n",
    "        scaler.transform(btca1_X_train)\n",
    "        scaler.transform(btca1_X_test)\n",
    "        \n",
    "        \n",
    "        #2. model\n",
    "        \n",
    "          \n",
    "        #2.a\n",
    "        \n",
    "        #2.b\n",
    "        \n",
    "        \n",
    "        #3. cv \n",
    "        \n",
    "        \n"
   ]
  },
  {
   "cell_type": "code",
   "execution_count": null,
   "metadata": {},
   "outputs": [],
   "source": []
  },
  {
   "cell_type": "code",
   "execution_count": null,
   "metadata": {},
   "outputs": [],
   "source": []
  },
  {
   "cell_type": "code",
   "execution_count": null,
   "metadata": {},
   "outputs": [],
   "source": []
  },
  {
   "cell_type": "code",
   "execution_count": null,
   "metadata": {},
   "outputs": [],
   "source": []
  }
 ],
 "metadata": {
  "kernelspec": {
   "display_name": "Python 3",
   "language": "python",
   "name": "python3"
  },
  "language_info": {
   "codemirror_mode": {
    "name": "ipython",
    "version": 3
   },
   "file_extension": ".py",
   "mimetype": "text/x-python",
   "name": "python",
   "nbconvert_exporter": "python",
   "pygments_lexer": "ipython3",
   "version": "3.6.7"
  }
 },
 "nbformat": 4,
 "nbformat_minor": 2
}
