{
 "cells": [
  {
   "cell_type": "code",
   "execution_count": 5,
   "metadata": {
    "scrolled": true
   },
   "outputs": [
    {
     "name": "stderr",
     "output_type": "stream",
     "text": [
      "COMET INFO: Experiment is live on comet.ml https://www.comet.ml/polabs/general/910fbe41cbd34083b77b0ecd42ec28d3\n",
      "\n"
     ]
    },
    {
     "name": "stdout",
     "output_type": "stream",
     "text": [
      "tPxieqiGqRbdh5XboxU8ebTtf\n"
     ]
    },
    {
     "name": "stderr",
     "output_type": "stream",
     "text": [
      "COMET INFO: Experiment is live on comet.ml https://www.comet.ml/polabs/general/c59a86262ad74daca58a94ee3bfd88d6\n",
      "\n"
     ]
    },
    {
     "name": "stdout",
     "output_type": "stream",
     "text": [
      "BTCUSDT\n",
      "0\n",
      "train shape\n",
      "(4783, 50)\n",
      "test shape\n",
      "(568, 50)\n",
      "Mean squared error: 0.38\n",
      "Variance score: -0.62\n",
      "0.6161971830985915\n",
      "[CV]  ................................................................\n",
      "[CV] ................................................. , total=   0.0s\n",
      "[CV]  ................................................................\n",
      "[CV] ................................................. , total=   0.0s\n",
      "[CV]  ................................................................\n",
      "[CV] ................................................. , total=   0.0s\n",
      "[CV]  ................................................................\n",
      "[CV] ................................................. , total=   0.0s\n",
      "[CV]  ................................................................\n",
      "[CV] ................................................. , total=   0.0s\n",
      "Accuracy: 0.83 (+/- 0.05)\n"
     ]
    },
    {
     "name": "stderr",
     "output_type": "stream",
     "text": [
      "[Parallel(n_jobs=1)]: Done   1 out of   1 | elapsed:    0.0s remaining:    0.0s\n",
      "[Parallel(n_jobs=1)]: Done   5 out of   5 | elapsed:    0.0s finished\n"
     ]
    },
    {
     "name": "stdout",
     "output_type": "stream",
     "text": [
      "Mean squared error: 0.39\n",
      "Variance score: -0.63\n",
      "0.6126760563380281\n",
      "[CV]  ................................................................\n",
      "[CV] ................................................. , total=   0.0s\n",
      "[CV]  ................................................................\n",
      "[CV] ................................................. , total=   0.0s\n",
      "[CV]  ................................................................\n",
      "[CV] ................................................. , total=   0.0s\n",
      "[CV]  ................................................................\n",
      "[CV] ................................................. , total=   0.0s\n",
      "[CV]  ................................................................\n",
      "[CV] ................................................. , total=   0.0s\n",
      "Accuracy: 0.64 (+/- 0.04)\n"
     ]
    },
    {
     "name": "stderr",
     "output_type": "stream",
     "text": [
      "[Parallel(n_jobs=1)]: Done   1 out of   1 | elapsed:    0.0s remaining:    0.0s\n",
      "[Parallel(n_jobs=1)]: Done   5 out of   5 | elapsed:    0.1s finished\n"
     ]
    }
   ],
   "source": [
    "#import comet.ml as comet_ml\n",
    "from comet_ml import Experiment\n",
    "import pandas as pd\n",
    "import numpy as np\n",
    "from sklearn import linear_model\n",
    "from sklearn import svm\n",
    "from sklearn import preprocessing\n",
    "from sklearn.model_selection import cross_val_score\n",
    "from sklearn.metrics import mean_squared_error, r2_score\n",
    "from sklearn.linear_model import LogisticRegression\n",
    "import matplotlib.pyplot as plt\n",
    "from sklearn import svm\n",
    "\n",
    "cometkey = pd.read_csv('/home/polabs1/Downloads/cometml-API-key.csv')\n",
    "#print(cometkey.loc[0, 'cometapikey'])\n",
    "experiment = Experiment(api_key=cometkey.loc[0, 'cometapikey'], project_name=\"Crypto_Dashboard\")\n",
    "\n",
    "#set seed\n",
    "np.random.seed(420)\n",
    "pair_vector = [\"BTCUSDT\"]#, 'ADABTC', 'EOSBTC', 'IOTABTC', 'NEOBTC', 'XLMBTC', 'ETHUSDT', 'BNBUSDT', 'BNBBTC', 'ETHBTC'\n",
    "\n",
    "#loop over each pair in pair_vecotor\n",
    "for x in pair_vector:\n",
    "    print(x)\n",
    "    #read in each of the 6 model datasets\n",
    "    train_dfs = []\n",
    "    df = pd.read_csv(\"/home/polabs1/Crypto/12.09.2018/train sets/\" + x + \"-a1.csv\")\n",
    "    train_dfs.append(df)\n",
    "    df = pd.read_csv(\"/home/polabs1/Crypto/12.09.2018/train sets/\" + x + \"-a2.csv\")\n",
    "    train_dfs.append(df)\n",
    "    df = pd.read_csv(\"/home/polabs1/Crypto/12.09.2018/train sets/\" + x + \"-a3.csv\")\n",
    "    train_dfs.append(df)\n",
    "    df = pd.read_csv(\"/home/polabs1/Crypto/12.09.2018/train sets/\" + x + \"-a4.csv\")\n",
    "    train_dfs.append(df)\n",
    "    df = pd.read_csv(\"/home/polabs1/Crypto/12.09.2018/train sets/\" + x + \"-a5.csv\")\n",
    "    train_dfs.append(df)\n",
    "    df = pd.read_csv(\"/home/polabs1/Crypto/12.09.2018/train sets/\" + x + \"-a6.csv\")\n",
    "    train_dfs.append(df)\n",
    "\n",
    "    test_dfs = []\n",
    "    df = pd.read_csv(\"/home/polabs1/Crypto/12.09.2018/test sets/\" + x + \"-a1.csv\")\n",
    "    test_dfs.append(df)\n",
    "    df = pd.read_csv(\"/home/polabs1/Crypto/12.09.2018/test sets/\" + x + \"-a2.csv\")\n",
    "    test_dfs.append(df)\n",
    "    df = pd.read_csv(\"/home/polabs1/Crypto/12.09.2018/test sets/\" + x + \"-a3.csv\")\n",
    "    test_dfs.append(df)\n",
    "    df = pd.read_csv(\"/home/polabs1/Crypto/12.09.2018/test sets/\" + x + \"-a4.csv\")\n",
    "    test_dfs.append(df)\n",
    "    df = pd.read_csv(\"/home/polabs1/Crypto/12.09.2018/test sets/\" + x + \"-a5.csv\")\n",
    "    test_dfs.append(df)\n",
    "    df = pd.read_csv(\"/home/polabs1/Crypto/12.09.2018/test sets/\" + x + \"-a6.csv\")\n",
    "    test_dfs.append(df)\n",
    "\n",
    "    \n",
    "    \n",
    "    for m in range(0, 1):   #i guess range doesnt include last num? to 6\n",
    "        print(m)\n",
    "        print('train shape')\n",
    "        print(train_dfs[m].shape)\n",
    "        print('test shape')\n",
    "        print(test_dfs[m].shape)\n",
    "        \n",
    "        XY_train = np.split(train_dfs[m], [1], axis=1)\n",
    "        XY_test = np.split(test_dfs[m], [1], axis=1)\n",
    "                \n",
    "        #1. scale\n",
    "        scaler = preprocessing.StandardScaler().fit(XY_train[1])\n",
    "        XY_train_scale = scaler.transform(XY_train[1])        #print(pd.DataFrame(XY_train_scale).head())\n",
    "        XY_test_scale = scaler.transform(XY_test[1])        #print(pd.DataFrame(XY_test_scale).head())\n",
    "        \n",
    "        \n",
    "        #2. model      \n",
    "          \n",
    "        #2.a - linear\n",
    "        Model_logistic = LogisticRegression(C=1, penalty='l1', tol=0.1, solver='liblinear')\n",
    "        Model_logistic.fit(XY_train_scale, XY_train[0].values.ravel()) \n",
    "        Model_logistic_pred = Model_logistic.predict(XY_test_scale) # Make predictions using the testing set\n",
    "        #print('Coefficients: \\n', Model_logistic.coef_)  #the coefficients\n",
    "        print(\"Mean squared error: %.2f\" % mean_squared_error(XY_test[0], Model_logistic_pred))\n",
    "        print('Variance score: %.2f' % r2_score(XY_test[0], Model_logistic_pred)) # Explained variance score: 1 is perfect prediction\n",
    "        print(Model_logistic.score(XY_test_scale, XY_test[0]))\n",
    "        \n",
    "        CV_logistic = cross_val_score(Model_logistic, XY_test_scale, XY_test[0].values.ravel(), cv=5, verbose=2) #scoring=\"\" njobs=\n",
    "        CV_logistic\n",
    "        print(\"Accuracy: %0.2f (+/- %0.2f)\" % (CV_logistic.mean(), CV_logistic.std() * 2))\n",
    "        \n",
    "        #2.b - svm\n",
    "        Model_svm = svm.SVC(gamma=0.01, C=0.1, kernel='rbf')#<-parameteres: C low is less penality of error term (generalizes better), higher C will overfit/stricter, gamma=degree of influence of single training example, low is neighborhood, high is far?\n",
    "        Model_svm.fit(XY_train_scale, XY_train[0].values.ravel())\n",
    "        Model_svm_pred = Model_svm.predict(XY_test_scale) # Make predictions using the testing set\n",
    "        #print('Coefficients: \\n', Model_logistic.coef_)  #the coefficients\n",
    "        print(\"Mean squared error: %.2f\" % mean_squared_error(XY_test[0], Model_svm_pred))\n",
    "        print('Variance score: %.2f' % r2_score(XY_test[0], Model_svm_pred)) # Explained variance score: 1 is perfect prediction\n",
    "        #print('Score: ' % Model_svm.score(XY_test_scale, XY_test[0]))\n",
    "        print(Model_svm.score(XY_test_scale, XY_test[0]))\n",
    "        \n",
    "        CV_svm = cross_val_score(Model_svm, XY_test_scale, XY_test[0].values.ravel(), cv=5, verbose=2) #scoring=\"\" njobs=\n",
    "        CV_svm\n",
    "        print(\"Accuracy: %0.2f (+/- %0.2f)\" % (CV_svm.mean(), CV_svm.std() * 2))\n",
    "        \n",
    "        \n",
    "        \n",
    "                \n",
    "        \n"
   ]
  },
  {
   "cell_type": "code",
   "execution_count": null,
   "metadata": {},
   "outputs": [],
   "source": []
  }
 ],
 "metadata": {
  "kernelspec": {
   "display_name": "Python [conda env:root]",
   "language": "python",
   "name": "conda-root-py"
  },
  "language_info": {
   "codemirror_mode": {
    "name": "ipython",
    "version": 3
   },
   "file_extension": ".py",
   "mimetype": "text/x-python",
   "name": "python",
   "nbconvert_exporter": "python",
   "pygments_lexer": "ipython3",
   "version": "3.7.0"
  }
 },
 "nbformat": 4,
 "nbformat_minor": 2
}
