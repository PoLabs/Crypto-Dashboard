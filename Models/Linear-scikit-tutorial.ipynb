{
 "cells": [
  {
   "cell_type": "code",
   "execution_count": 1,
   "metadata": {},
   "outputs": [],
   "source": [
    "import pandas as pd\n",
    "import numpy as np"
   ]
  },
  {
   "cell_type": "code",
   "execution_count": 2,
   "metadata": {},
   "outputs": [],
   "source": [
    "df = pd.read_csv(\"/home/polabs1/Crypto/12.09.2018/datasets/BTCUSDT-a1.csv\")"
   ]
  },
  {
   "cell_type": "code",
   "execution_count": 3,
   "metadata": {
    "scrolled": true
   },
   "outputs": [
    {
     "data": {
      "text/html": [
       "<div>\n",
       "<style scoped>\n",
       "    .dataframe tbody tr th:only-of-type {\n",
       "        vertical-align: middle;\n",
       "    }\n",
       "\n",
       "    .dataframe tbody tr th {\n",
       "        vertical-align: top;\n",
       "    }\n",
       "\n",
       "    .dataframe thead th {\n",
       "        text-align: right;\n",
       "    }\n",
       "</style>\n",
       "<table border=\"1\" class=\"dataframe\">\n",
       "  <thead>\n",
       "    <tr style=\"text-align: right;\">\n",
       "      <th></th>\n",
       "      <th>A1</th>\n",
       "      <th>PAIRopen</th>\n",
       "      <th>PAIRhigh</th>\n",
       "      <th>PAIRlow</th>\n",
       "      <th>PAIRclose</th>\n",
       "      <th>PAIRvolume</th>\n",
       "      <th>PAIRqav</th>\n",
       "      <th>PAIRntrade</th>\n",
       "      <th>PAIRbavTB</th>\n",
       "      <th>PAIRqavTB</th>\n",
       "      <th>...</th>\n",
       "      <th>VWAP36close</th>\n",
       "      <th>HMA12close</th>\n",
       "      <th>HMA36close</th>\n",
       "      <th>HMA12vol</th>\n",
       "      <th>HMA36vol</th>\n",
       "      <th>RSIPAIR12</th>\n",
       "      <th>RSIPAIR36</th>\n",
       "      <th>MACDpriceE</th>\n",
       "      <th>MACDvolE</th>\n",
       "      <th>MACDspreadE</th>\n",
       "    </tr>\n",
       "  </thead>\n",
       "  <tbody>\n",
       "    <tr>\n",
       "      <th>0</th>\n",
       "      <td>0</td>\n",
       "      <td>9356.845833</td>\n",
       "      <td>9362.035833</td>\n",
       "      <td>9350.331500</td>\n",
       "      <td>9355.375167</td>\n",
       "      <td>1698.948851</td>\n",
       "      <td>264903.502362</td>\n",
       "      <td>10239</td>\n",
       "      <td>11.842018</td>\n",
       "      <td>110846.139471</td>\n",
       "      <td>...</td>\n",
       "      <td>9105.987328</td>\n",
       "      <td>9349.297923</td>\n",
       "      <td>9332.385632</td>\n",
       "      <td>1828.762199</td>\n",
       "      <td>1352.750248</td>\n",
       "      <td>85.313868</td>\n",
       "      <td>62.194033</td>\n",
       "      <td>1.516366</td>\n",
       "      <td>-5.242033</td>\n",
       "      <td>-13.560058</td>\n",
       "    </tr>\n",
       "    <tr>\n",
       "      <th>1</th>\n",
       "      <td>0</td>\n",
       "      <td>9302.966833</td>\n",
       "      <td>9308.127667</td>\n",
       "      <td>9298.686667</td>\n",
       "      <td>9302.628333</td>\n",
       "      <td>1192.463831</td>\n",
       "      <td>184888.552528</td>\n",
       "      <td>8458</td>\n",
       "      <td>10.591968</td>\n",
       "      <td>98551.206392</td>\n",
       "      <td>...</td>\n",
       "      <td>9306.561071</td>\n",
       "      <td>9301.417196</td>\n",
       "      <td>9244.299891</td>\n",
       "      <td>1323.852867</td>\n",
       "      <td>1387.918881</td>\n",
       "      <td>55.062444</td>\n",
       "      <td>50.045257</td>\n",
       "      <td>-0.139493</td>\n",
       "      <td>-9.338295</td>\n",
       "      <td>-12.617067</td>\n",
       "    </tr>\n",
       "    <tr>\n",
       "      <th>2</th>\n",
       "      <td>1</td>\n",
       "      <td>7933.581167</td>\n",
       "      <td>7937.888333</td>\n",
       "      <td>7930.463167</td>\n",
       "      <td>7933.870667</td>\n",
       "      <td>573.906345</td>\n",
       "      <td>75894.964564</td>\n",
       "      <td>3838</td>\n",
       "      <td>4.955328</td>\n",
       "      <td>39317.742095</td>\n",
       "      <td>...</td>\n",
       "      <td>8027.555647</td>\n",
       "      <td>7946.798630</td>\n",
       "      <td>7881.208313</td>\n",
       "      <td>560.524158</td>\n",
       "      <td>1102.988248</td>\n",
       "      <td>40.660443</td>\n",
       "      <td>42.616130</td>\n",
       "      <td>-0.749203</td>\n",
       "      <td>-28.015874</td>\n",
       "      <td>-0.545062</td>\n",
       "    </tr>\n",
       "    <tr>\n",
       "      <th>3</th>\n",
       "      <td>1</td>\n",
       "      <td>8204.359000</td>\n",
       "      <td>8209.900833</td>\n",
       "      <td>8198.287500</td>\n",
       "      <td>8204.755667</td>\n",
       "      <td>894.409111</td>\n",
       "      <td>122309.981560</td>\n",
       "      <td>10479</td>\n",
       "      <td>8.012471</td>\n",
       "      <td>65750.820578</td>\n",
       "      <td>...</td>\n",
       "      <td>8444.627950</td>\n",
       "      <td>8215.449159</td>\n",
       "      <td>8135.657002</td>\n",
       "      <td>788.102320</td>\n",
       "      <td>1352.278727</td>\n",
       "      <td>25.834930</td>\n",
       "      <td>34.262881</td>\n",
       "      <td>-2.003483</td>\n",
       "      <td>-17.811763</td>\n",
       "      <td>-11.128637</td>\n",
       "    </tr>\n",
       "    <tr>\n",
       "      <th>4</th>\n",
       "      <td>0</td>\n",
       "      <td>8095.226500</td>\n",
       "      <td>8099.351333</td>\n",
       "      <td>8091.709500</td>\n",
       "      <td>8096.093000</td>\n",
       "      <td>916.307778</td>\n",
       "      <td>123638.505499</td>\n",
       "      <td>7648</td>\n",
       "      <td>8.423626</td>\n",
       "      <td>68198.641587</td>\n",
       "      <td>...</td>\n",
       "      <td>8063.225479</td>\n",
       "      <td>8099.191405</td>\n",
       "      <td>8133.375711</td>\n",
       "      <td>1145.474790</td>\n",
       "      <td>1377.241156</td>\n",
       "      <td>50.295308</td>\n",
       "      <td>51.118180</td>\n",
       "      <td>0.265737</td>\n",
       "      <td>-4.861372</td>\n",
       "      <td>-6.000087</td>\n",
       "    </tr>\n",
       "    <tr>\n",
       "      <th>5</th>\n",
       "      <td>0</td>\n",
       "      <td>9102.064500</td>\n",
       "      <td>9112.352667</td>\n",
       "      <td>9094.984333</td>\n",
       "      <td>9103.436333</td>\n",
       "      <td>2126.002324</td>\n",
       "      <td>322538.401249</td>\n",
       "      <td>14958</td>\n",
       "      <td>19.980906</td>\n",
       "      <td>181883.152315</td>\n",
       "      <td>...</td>\n",
       "      <td>8872.329815</td>\n",
       "      <td>9009.511574</td>\n",
       "      <td>8880.993250</td>\n",
       "      <td>1867.917241</td>\n",
       "      <td>1161.445410</td>\n",
       "      <td>82.033193</td>\n",
       "      <td>54.592482</td>\n",
       "      <td>0.242408</td>\n",
       "      <td>-14.500188</td>\n",
       "      <td>-1.643493</td>\n",
       "    </tr>\n",
       "    <tr>\n",
       "      <th>6</th>\n",
       "      <td>1</td>\n",
       "      <td>7443.618833</td>\n",
       "      <td>7449.970500</td>\n",
       "      <td>7437.614667</td>\n",
       "      <td>7444.101667</td>\n",
       "      <td>2633.325421</td>\n",
       "      <td>326816.450927</td>\n",
       "      <td>11957</td>\n",
       "      <td>24.067641</td>\n",
       "      <td>179264.600418</td>\n",
       "      <td>...</td>\n",
       "      <td>7208.005315</td>\n",
       "      <td>7484.935571</td>\n",
       "      <td>7237.493147</td>\n",
       "      <td>2740.457119</td>\n",
       "      <td>2457.645712</td>\n",
       "      <td>91.148878</td>\n",
       "      <td>65.014178</td>\n",
       "      <td>1.368985</td>\n",
       "      <td>41.799759</td>\n",
       "      <td>-5.833615</td>\n",
       "    </tr>\n",
       "    <tr>\n",
       "      <th>7</th>\n",
       "      <td>0</td>\n",
       "      <td>8335.895667</td>\n",
       "      <td>8340.281167</td>\n",
       "      <td>8321.757000</td>\n",
       "      <td>8328.670667</td>\n",
       "      <td>3279.435058</td>\n",
       "      <td>451437.211329</td>\n",
       "      <td>19728</td>\n",
       "      <td>19.549410</td>\n",
       "      <td>161455.803513</td>\n",
       "      <td>...</td>\n",
       "      <td>8259.335758</td>\n",
       "      <td>8367.202233</td>\n",
       "      <td>8356.564672</td>\n",
       "      <td>2482.301609</td>\n",
       "      <td>951.690580</td>\n",
       "      <td>55.469247</td>\n",
       "      <td>62.561885</td>\n",
       "      <td>1.022492</td>\n",
       "      <td>25.013704</td>\n",
       "      <td>7.223981</td>\n",
       "    </tr>\n",
       "    <tr>\n",
       "      <th>8</th>\n",
       "      <td>1</td>\n",
       "      <td>9093.727833</td>\n",
       "      <td>9099.568667</td>\n",
       "      <td>9086.910833</td>\n",
       "      <td>9092.758500</td>\n",
       "      <td>1766.756969</td>\n",
       "      <td>267436.058204</td>\n",
       "      <td>12334</td>\n",
       "      <td>12.221694</td>\n",
       "      <td>111012.721937</td>\n",
       "      <td>...</td>\n",
       "      <td>9055.751294</td>\n",
       "      <td>9135.336487</td>\n",
       "      <td>9157.581643</td>\n",
       "      <td>1464.796654</td>\n",
       "      <td>1186.909490</td>\n",
       "      <td>42.957593</td>\n",
       "      <td>49.067265</td>\n",
       "      <td>0.428777</td>\n",
       "      <td>4.808247</td>\n",
       "      <td>-7.336360</td>\n",
       "    </tr>\n",
       "    <tr>\n",
       "      <th>9</th>\n",
       "      <td>0</td>\n",
       "      <td>9269.805667</td>\n",
       "      <td>9275.690667</td>\n",
       "      <td>9263.809500</td>\n",
       "      <td>9269.046667</td>\n",
       "      <td>1263.562725</td>\n",
       "      <td>195167.419852</td>\n",
       "      <td>9618</td>\n",
       "      <td>10.786726</td>\n",
       "      <td>99976.602673</td>\n",
       "      <td>...</td>\n",
       "      <td>9307.043374</td>\n",
       "      <td>9296.375103</td>\n",
       "      <td>9230.700639</td>\n",
       "      <td>1266.972948</td>\n",
       "      <td>1574.191183</td>\n",
       "      <td>46.229712</td>\n",
       "      <td>47.960449</td>\n",
       "      <td>-0.298628</td>\n",
       "      <td>-9.561328</td>\n",
       "      <td>-6.655447</td>\n",
       "    </tr>\n",
       "  </tbody>\n",
       "</table>\n",
       "<p>10 rows × 50 columns</p>\n",
       "</div>"
      ],
      "text/plain": [
       "   A1     PAIRopen     PAIRhigh      PAIRlow    PAIRclose   PAIRvolume  \\\n",
       "0   0  9356.845833  9362.035833  9350.331500  9355.375167  1698.948851   \n",
       "1   0  9302.966833  9308.127667  9298.686667  9302.628333  1192.463831   \n",
       "2   1  7933.581167  7937.888333  7930.463167  7933.870667   573.906345   \n",
       "3   1  8204.359000  8209.900833  8198.287500  8204.755667   894.409111   \n",
       "4   0  8095.226500  8099.351333  8091.709500  8096.093000   916.307778   \n",
       "5   0  9102.064500  9112.352667  9094.984333  9103.436333  2126.002324   \n",
       "6   1  7443.618833  7449.970500  7437.614667  7444.101667  2633.325421   \n",
       "7   0  8335.895667  8340.281167  8321.757000  8328.670667  3279.435058   \n",
       "8   1  9093.727833  9099.568667  9086.910833  9092.758500  1766.756969   \n",
       "9   0  9269.805667  9275.690667  9263.809500  9269.046667  1263.562725   \n",
       "\n",
       "         PAIRqav  PAIRntrade  PAIRbavTB      PAIRqavTB     ...       \\\n",
       "0  264903.502362       10239  11.842018  110846.139471     ...        \n",
       "1  184888.552528        8458  10.591968   98551.206392     ...        \n",
       "2   75894.964564        3838   4.955328   39317.742095     ...        \n",
       "3  122309.981560       10479   8.012471   65750.820578     ...        \n",
       "4  123638.505499        7648   8.423626   68198.641587     ...        \n",
       "5  322538.401249       14958  19.980906  181883.152315     ...        \n",
       "6  326816.450927       11957  24.067641  179264.600418     ...        \n",
       "7  451437.211329       19728  19.549410  161455.803513     ...        \n",
       "8  267436.058204       12334  12.221694  111012.721937     ...        \n",
       "9  195167.419852        9618  10.786726   99976.602673     ...        \n",
       "\n",
       "   VWAP36close   HMA12close   HMA36close     HMA12vol     HMA36vol  RSIPAIR12  \\\n",
       "0  9105.987328  9349.297923  9332.385632  1828.762199  1352.750248  85.313868   \n",
       "1  9306.561071  9301.417196  9244.299891  1323.852867  1387.918881  55.062444   \n",
       "2  8027.555647  7946.798630  7881.208313   560.524158  1102.988248  40.660443   \n",
       "3  8444.627950  8215.449159  8135.657002   788.102320  1352.278727  25.834930   \n",
       "4  8063.225479  8099.191405  8133.375711  1145.474790  1377.241156  50.295308   \n",
       "5  8872.329815  9009.511574  8880.993250  1867.917241  1161.445410  82.033193   \n",
       "6  7208.005315  7484.935571  7237.493147  2740.457119  2457.645712  91.148878   \n",
       "7  8259.335758  8367.202233  8356.564672  2482.301609   951.690580  55.469247   \n",
       "8  9055.751294  9135.336487  9157.581643  1464.796654  1186.909490  42.957593   \n",
       "9  9307.043374  9296.375103  9230.700639  1266.972948  1574.191183  46.229712   \n",
       "\n",
       "   RSIPAIR36  MACDpriceE   MACDvolE  MACDspreadE  \n",
       "0  62.194033    1.516366  -5.242033   -13.560058  \n",
       "1  50.045257   -0.139493  -9.338295   -12.617067  \n",
       "2  42.616130   -0.749203 -28.015874    -0.545062  \n",
       "3  34.262881   -2.003483 -17.811763   -11.128637  \n",
       "4  51.118180    0.265737  -4.861372    -6.000087  \n",
       "5  54.592482    0.242408 -14.500188    -1.643493  \n",
       "6  65.014178    1.368985  41.799759    -5.833615  \n",
       "7  62.561885    1.022492  25.013704     7.223981  \n",
       "8  49.067265    0.428777   4.808247    -7.336360  \n",
       "9  47.960449   -0.298628  -9.561328    -6.655447  \n",
       "\n",
       "[10 rows x 50 columns]"
      ]
     },
     "execution_count": 3,
     "metadata": {},
     "output_type": "execute_result"
    }
   ],
   "source": [
    "df.head(10)"
   ]
  },
  {
   "cell_type": "code",
   "execution_count": 4,
   "metadata": {},
   "outputs": [
    {
     "data": {
      "text/html": [
       "<div>\n",
       "<style scoped>\n",
       "    .dataframe tbody tr th:only-of-type {\n",
       "        vertical-align: middle;\n",
       "    }\n",
       "\n",
       "    .dataframe tbody tr th {\n",
       "        vertical-align: top;\n",
       "    }\n",
       "\n",
       "    .dataframe thead th {\n",
       "        text-align: right;\n",
       "    }\n",
       "</style>\n",
       "<table border=\"1\" class=\"dataframe\">\n",
       "  <thead>\n",
       "    <tr style=\"text-align: right;\">\n",
       "      <th></th>\n",
       "      <th>A1</th>\n",
       "      <th>PAIRopen</th>\n",
       "      <th>PAIRhigh</th>\n",
       "      <th>PAIRlow</th>\n",
       "      <th>PAIRclose</th>\n",
       "      <th>PAIRvolume</th>\n",
       "      <th>PAIRqav</th>\n",
       "      <th>PAIRntrade</th>\n",
       "      <th>PAIRbavTB</th>\n",
       "      <th>PAIRqavTB</th>\n",
       "      <th>...</th>\n",
       "      <th>VWAP36close</th>\n",
       "      <th>HMA12close</th>\n",
       "      <th>HMA36close</th>\n",
       "      <th>HMA12vol</th>\n",
       "      <th>HMA36vol</th>\n",
       "      <th>RSIPAIR12</th>\n",
       "      <th>RSIPAIR36</th>\n",
       "      <th>MACDpriceE</th>\n",
       "      <th>MACDvolE</th>\n",
       "      <th>MACDspreadE</th>\n",
       "    </tr>\n",
       "  </thead>\n",
       "  <tbody>\n",
       "    <tr>\n",
       "      <th>count</th>\n",
       "      <td>4783.000000</td>\n",
       "      <td>4783.000000</td>\n",
       "      <td>4783.000000</td>\n",
       "      <td>4783.000000</td>\n",
       "      <td>4783.000000</td>\n",
       "      <td>4783.000000</td>\n",
       "      <td>4.783000e+03</td>\n",
       "      <td>4783.000000</td>\n",
       "      <td>4783.000000</td>\n",
       "      <td>4.783000e+03</td>\n",
       "      <td>...</td>\n",
       "      <td>4783.000000</td>\n",
       "      <td>4783.000000</td>\n",
       "      <td>4783.000000</td>\n",
       "      <td>4783.000000</td>\n",
       "      <td>4783.000000</td>\n",
       "      <td>4783.000000</td>\n",
       "      <td>4783.000000</td>\n",
       "      <td>4783.000000</td>\n",
       "      <td>4783.000000</td>\n",
       "      <td>4783.000000</td>\n",
       "    </tr>\n",
       "    <tr>\n",
       "      <th>mean</th>\n",
       "      <td>0.395986</td>\n",
       "      <td>7052.559192</td>\n",
       "      <td>7059.178138</td>\n",
       "      <td>7045.654583</td>\n",
       "      <td>7052.503293</td>\n",
       "      <td>1395.718306</td>\n",
       "      <td>6.248194e+05</td>\n",
       "      <td>8519.841940</td>\n",
       "      <td>49.843438</td>\n",
       "      <td>3.318663e+05</td>\n",
       "      <td>...</td>\n",
       "      <td>7056.583593</td>\n",
       "      <td>7052.489456</td>\n",
       "      <td>7052.812700</td>\n",
       "      <td>1396.078949</td>\n",
       "      <td>1395.615172</td>\n",
       "      <td>50.367851</td>\n",
       "      <td>49.537977</td>\n",
       "      <td>-0.081317</td>\n",
       "      <td>-1.910615</td>\n",
       "      <td>-0.550229</td>\n",
       "    </tr>\n",
       "    <tr>\n",
       "      <th>std</th>\n",
       "      <td>0.489113</td>\n",
       "      <td>1069.816323</td>\n",
       "      <td>1069.307648</td>\n",
       "      <td>1070.258477</td>\n",
       "      <td>1069.843965</td>\n",
       "      <td>1098.444128</td>\n",
       "      <td>5.998369e+05</td>\n",
       "      <td>5538.664768</td>\n",
       "      <td>48.089925</td>\n",
       "      <td>3.084940e+05</td>\n",
       "      <td>...</td>\n",
       "      <td>1058.741230</td>\n",
       "      <td>1070.257220</td>\n",
       "      <td>1070.561975</td>\n",
       "      <td>1058.297293</td>\n",
       "      <td>864.725754</td>\n",
       "      <td>20.384491</td>\n",
       "      <td>12.429866</td>\n",
       "      <td>1.059679</td>\n",
       "      <td>21.303822</td>\n",
       "      <td>11.431580</td>\n",
       "    </tr>\n",
       "    <tr>\n",
       "      <th>min</th>\n",
       "      <td>0.000000</td>\n",
       "      <td>3802.738333</td>\n",
       "      <td>3818.783333</td>\n",
       "      <td>3787.790000</td>\n",
       "      <td>3804.997500</td>\n",
       "      <td>87.452336</td>\n",
       "      <td>4.821004e+04</td>\n",
       "      <td>1189.000000</td>\n",
       "      <td>3.137976</td>\n",
       "      <td>2.076167e+04</td>\n",
       "      <td>...</td>\n",
       "      <td>4054.376827</td>\n",
       "      <td>3783.301296</td>\n",
       "      <td>3783.525793</td>\n",
       "      <td>-312.685271</td>\n",
       "      <td>-11.301015</td>\n",
       "      <td>1.721746</td>\n",
       "      <td>13.259678</td>\n",
       "      <td>-6.088953</td>\n",
       "      <td>-66.626240</td>\n",
       "      <td>-308.531255</td>\n",
       "    </tr>\n",
       "    <tr>\n",
       "      <th>25%</th>\n",
       "      <td>0.000000</td>\n",
       "      <td>6414.136667</td>\n",
       "      <td>6421.375000</td>\n",
       "      <td>6406.297917</td>\n",
       "      <td>6413.492083</td>\n",
       "      <td>792.854452</td>\n",
       "      <td>1.988444e+05</td>\n",
       "      <td>5312.000000</td>\n",
       "      <td>13.059554</td>\n",
       "      <td>9.983364e+04</td>\n",
       "      <td>...</td>\n",
       "      <td>6423.012028</td>\n",
       "      <td>6414.124299</td>\n",
       "      <td>6414.681669</td>\n",
       "      <td>811.345064</td>\n",
       "      <td>873.813806</td>\n",
       "      <td>36.128601</td>\n",
       "      <td>41.623693</td>\n",
       "      <td>-0.462835</td>\n",
       "      <td>-15.074862</td>\n",
       "      <td>-7.020813</td>\n",
       "    </tr>\n",
       "    <tr>\n",
       "      <th>50%</th>\n",
       "      <td>0.000000</td>\n",
       "      <td>6622.025833</td>\n",
       "      <td>6627.941667</td>\n",
       "      <td>6617.925833</td>\n",
       "      <td>6622.988333</td>\n",
       "      <td>1171.271845</td>\n",
       "      <td>5.041386e+05</td>\n",
       "      <td>7208.000000</td>\n",
       "      <td>40.689450</td>\n",
       "      <td>2.671650e+05</td>\n",
       "      <td>...</td>\n",
       "      <td>6612.631621</td>\n",
       "      <td>6623.912262</td>\n",
       "      <td>6622.224544</td>\n",
       "      <td>1189.661162</td>\n",
       "      <td>1247.882990</td>\n",
       "      <td>51.261644</td>\n",
       "      <td>50.237180</td>\n",
       "      <td>0.011297</td>\n",
       "      <td>-4.651306</td>\n",
       "      <td>-1.004226</td>\n",
       "    </tr>\n",
       "    <tr>\n",
       "      <th>75%</th>\n",
       "      <td>1.000000</td>\n",
       "      <td>7625.983750</td>\n",
       "      <td>7635.552250</td>\n",
       "      <td>7618.270000</td>\n",
       "      <td>7628.673833</td>\n",
       "      <td>1685.355897</td>\n",
       "      <td>8.453113e+05</td>\n",
       "      <td>10060.000000</td>\n",
       "      <td>70.079538</td>\n",
       "      <td>4.675775e+05</td>\n",
       "      <td>...</td>\n",
       "      <td>7599.073712</td>\n",
       "      <td>7613.478479</td>\n",
       "      <td>7595.536645</td>\n",
       "      <td>1692.743698</td>\n",
       "      <td>1746.643956</td>\n",
       "      <td>64.778929</td>\n",
       "      <td>57.464968</td>\n",
       "      <td>0.432275</td>\n",
       "      <td>8.230627</td>\n",
       "      <td>5.586121</td>\n",
       "    </tr>\n",
       "    <tr>\n",
       "      <th>max</th>\n",
       "      <td>1.000000</td>\n",
       "      <td>9971.916500</td>\n",
       "      <td>9978.983333</td>\n",
       "      <td>9966.949500</td>\n",
       "      <td>9974.044833</td>\n",
       "      <td>19174.922938</td>\n",
       "      <td>1.159546e+07</td>\n",
       "      <td>86263.000000</td>\n",
       "      <td>790.449089</td>\n",
       "      <td>5.741031e+06</td>\n",
       "      <td>...</td>\n",
       "      <td>9895.912213</td>\n",
       "      <td>9977.809939</td>\n",
       "      <td>9975.287679</td>\n",
       "      <td>17237.847042</td>\n",
       "      <td>8901.620880</td>\n",
       "      <td>97.726023</td>\n",
       "      <td>90.933175</td>\n",
       "      <td>4.637657</td>\n",
       "      <td>175.460191</td>\n",
       "      <td>66.953052</td>\n",
       "    </tr>\n",
       "  </tbody>\n",
       "</table>\n",
       "<p>8 rows × 50 columns</p>\n",
       "</div>"
      ],
      "text/plain": [
       "                A1     PAIRopen     PAIRhigh      PAIRlow    PAIRclose  \\\n",
       "count  4783.000000  4783.000000  4783.000000  4783.000000  4783.000000   \n",
       "mean      0.395986  7052.559192  7059.178138  7045.654583  7052.503293   \n",
       "std       0.489113  1069.816323  1069.307648  1070.258477  1069.843965   \n",
       "min       0.000000  3802.738333  3818.783333  3787.790000  3804.997500   \n",
       "25%       0.000000  6414.136667  6421.375000  6406.297917  6413.492083   \n",
       "50%       0.000000  6622.025833  6627.941667  6617.925833  6622.988333   \n",
       "75%       1.000000  7625.983750  7635.552250  7618.270000  7628.673833   \n",
       "max       1.000000  9971.916500  9978.983333  9966.949500  9974.044833   \n",
       "\n",
       "         PAIRvolume       PAIRqav    PAIRntrade    PAIRbavTB     PAIRqavTB  \\\n",
       "count   4783.000000  4.783000e+03   4783.000000  4783.000000  4.783000e+03   \n",
       "mean    1395.718306  6.248194e+05   8519.841940    49.843438  3.318663e+05   \n",
       "std     1098.444128  5.998369e+05   5538.664768    48.089925  3.084940e+05   \n",
       "min       87.452336  4.821004e+04   1189.000000     3.137976  2.076167e+04   \n",
       "25%      792.854452  1.988444e+05   5312.000000    13.059554  9.983364e+04   \n",
       "50%     1171.271845  5.041386e+05   7208.000000    40.689450  2.671650e+05   \n",
       "75%     1685.355897  8.453113e+05  10060.000000    70.079538  4.675775e+05   \n",
       "max    19174.922938  1.159546e+07  86263.000000   790.449089  5.741031e+06   \n",
       "\n",
       "          ...       VWAP36close   HMA12close   HMA36close      HMA12vol  \\\n",
       "count     ...       4783.000000  4783.000000  4783.000000   4783.000000   \n",
       "mean      ...       7056.583593  7052.489456  7052.812700   1396.078949   \n",
       "std       ...       1058.741230  1070.257220  1070.561975   1058.297293   \n",
       "min       ...       4054.376827  3783.301296  3783.525793   -312.685271   \n",
       "25%       ...       6423.012028  6414.124299  6414.681669    811.345064   \n",
       "50%       ...       6612.631621  6623.912262  6622.224544   1189.661162   \n",
       "75%       ...       7599.073712  7613.478479  7595.536645   1692.743698   \n",
       "max       ...       9895.912213  9977.809939  9975.287679  17237.847042   \n",
       "\n",
       "          HMA36vol    RSIPAIR12    RSIPAIR36   MACDpriceE     MACDvolE  \\\n",
       "count  4783.000000  4783.000000  4783.000000  4783.000000  4783.000000   \n",
       "mean   1395.615172    50.367851    49.537977    -0.081317    -1.910615   \n",
       "std     864.725754    20.384491    12.429866     1.059679    21.303822   \n",
       "min     -11.301015     1.721746    13.259678    -6.088953   -66.626240   \n",
       "25%     873.813806    36.128601    41.623693    -0.462835   -15.074862   \n",
       "50%    1247.882990    51.261644    50.237180     0.011297    -4.651306   \n",
       "75%    1746.643956    64.778929    57.464968     0.432275     8.230627   \n",
       "max    8901.620880    97.726023    90.933175     4.637657   175.460191   \n",
       "\n",
       "       MACDspreadE  \n",
       "count  4783.000000  \n",
       "mean     -0.550229  \n",
       "std      11.431580  \n",
       "min    -308.531255  \n",
       "25%      -7.020813  \n",
       "50%      -1.004226  \n",
       "75%       5.586121  \n",
       "max      66.953052  \n",
       "\n",
       "[8 rows x 50 columns]"
      ]
     },
     "execution_count": 4,
     "metadata": {},
     "output_type": "execute_result"
    }
   ],
   "source": [
    "df.describe()"
   ]
  },
  {
   "cell_type": "code",
   "execution_count": 5,
   "metadata": {},
   "outputs": [
    {
     "data": {
      "text/plain": [
       "<matplotlib.axes._subplots.AxesSubplot at 0x7f503d448da0>"
      ]
     },
     "execution_count": 5,
     "metadata": {},
     "output_type": "execute_result"
    }
   ],
   "source": [
    "#distribution analysis of given variable\n",
    "df['A1'].hist(bins=10)"
   ]
  },
  {
   "cell_type": "code",
   "execution_count": 6,
   "metadata": {},
   "outputs": [
    {
     "data": {
      "text/plain": [
       "<matplotlib.axes._subplots.AxesSubplot at 0x7f503d0f0940>"
      ]
     },
     "execution_count": 6,
     "metadata": {},
     "output_type": "execute_result"
    },
    {
     "data": {
      "image/png": "[encoded data removed]",
      "text/plain": [
       "<Figure size 432x288 with 1 Axes>"
      ]
     },
     "metadata": {
      "needs_background": "light"
     },
     "output_type": "display_data"
    }
   ],
   "source": [
    "#this is binary var so doesnt really make sense\n",
    "df.boxplot(column='A1')"
   ]
  },
  {
   "cell_type": "code",
   "execution_count": 7,
   "metadata": {},
   "outputs": [
    {
     "data": {
      "text/plain": [
       "<matplotlib.axes._subplots.AxesSubplot at 0x7f503d067c18>"
      ]
     },
     "execution_count": 7,
     "metadata": {},
     "output_type": "execute_result"
    },
    {
     "data": {
      "image/png": "[encoded data removed]",
      "text/plain": [
       "<Figure size 432x288 with 1 Axes>"
      ]
     },
     "metadata": {
      "needs_background": "light"
     },
     "output_type": "display_data"
    }
   ],
   "source": [
    "df['PAIRclose'].hist(bins=10)"
   ]
  },
  {
   "cell_type": "code",
   "execution_count": 8,
   "metadata": {
    "scrolled": true
   },
   "outputs": [
    {
     "data": {
      "text/plain": [
       "A1               0\n",
       "PAIRopen         0\n",
       "PAIRhigh         0\n",
       "PAIRlow          0\n",
       "PAIRclose        0\n",
       "PAIRvolume       0\n",
       "PAIRqav          0\n",
       "PAIRntrade       0\n",
       "PAIRbavTB        0\n",
       "PAIRqavTB        0\n",
       "PAIRbid          0\n",
       "PAIRask          0\n",
       "PAIRspread       0\n",
       "PAIRaskspread    0\n",
       "PAIRbidspread    0\n",
       "P.2BidVol        0\n",
       "P.4BidVol        0\n",
       "P.6BidVol        0\n",
       "P1BidVol         0\n",
       "P1.5BidVol       0\n",
       "P2BidVol         0\n",
       "P.2AskVol        0\n",
       "P.4AskVol        0\n",
       "P.6AskVol        0\n",
       "P1AskVol         0\n",
       "P1.5AskVol       0\n",
       "P2AskVol         0\n",
       "PAIRd            0\n",
       "SMA12close       0\n",
       "SMA36close       0\n",
       "SMA12vol         0\n",
       "SMA36vol         0\n",
       "SMA12spread      0\n",
       "EMA12close       0\n",
       "EMA36close       0\n",
       "EMA12vol         0\n",
       "EMA36vol         0\n",
       "EMA12spread      0\n",
       "EVWMA12close     0\n",
       "VWAP12close      0\n",
       "VWAP36close      0\n",
       "HMA12close       0\n",
       "HMA36close       0\n",
       "HMA12vol         0\n",
       "HMA36vol         0\n",
       "RSIPAIR12        0\n",
       "RSIPAIR36        0\n",
       "MACDpriceE       0\n",
       "MACDvolE         0\n",
       "MACDspreadE      0\n",
       "dtype: int64"
      ]
     },
     "execution_count": 8,
     "metadata": {},
     "output_type": "execute_result"
    }
   ],
   "source": [
    "#check for missing values\n",
    "df.apply(lambda x: sum(x.isnull()), axis=0)"
   ]
  },
  {
   "cell_type": "code",
   "execution_count": 9,
   "metadata": {},
   "outputs": [
    {
     "name": "stdout",
     "output_type": "stream",
     "text": [
      "[LibSVM]"
     ]
    },
    {
     "data": {
      "text/plain": [
       "array([0., 0., 1., ..., 0., 1., 1.])"
      ]
     },
     "execution_count": 9,
     "metadata": {},
     "output_type": "execute_result"
    }
   ],
   "source": [
    "#create an SVM in scikit\n",
    "from sklearn import svm\n",
    "clf = svm.SVC(gamma=0.001, C=100., verbose=True, probability=T>>>\n",
    ">>> from sklearn import datasets\n",
    ">>> from sklearn.tree import DecisionTreeClassifier\n",
    ">>> from sklearn.neighbors import KNeighborsClassifier\n",
    ">>> from sklearn.svm import SVC\n",
    ">>> from itertools import product\n",
    ">>> from sklearn.ensemble import VotingClassifier\n",
    "\n",
    ">>> # Loading some example data\n",
    ">>> iris = datasets.load_iris()\n",
    ">>> X = iris.data[:, [0, 2]]\n",
    ">>> y = iris.target\n",
    "\n",
    ">>> # Training classifiers\n",
    ">>> clf1 = DecisionTreeClassifier(max_depth=4)\n",
    ">>> clf2 = KNeighborsClassifier(n_neighbors=7)\n",
    ">>> clf3 = SVC(gamma='scale', kernel='rbf', probability=True)\n",
    ">>> eclf = VotingClassifier(estimators=[('dt', clf1), ('knn', clf2), ('svc', clf3)],\n",
    "...                         voting='soft', weights=[2, 1, 2])\n",
    "\n",
    ">>> clf1 = clf1.fit(X, y)\n",
    ">>> clf2 = clf2.fit(X, y)\n",
    ">>> clf3 = clf3.fit(X, y)\n",
    ">>> eclf = eclf.fit(X, y)rue)\n",
    "dfxy = np.split(df, [1], axis=1)\n",
    "clf.fit(dfxy[1], dfxy[0].values.ravel())\n",
    "clf.predict(dfxy[1])>>>\n",
    ">>> from sklearn import datasets\n",
    ">>> from sklearn.tree import DecisionTreeClassifier\n",
    ">>> from sklearn.neighbors import KNeighborsClassifier\n",
    ">>> from sklearn.svm import SVC\n",
    ">>> from itertools import product\n",
    ">>> from sklearn.ensemble import VotingClassifier\n",
    "\n",
    ">>> # Loading some example data\n",
    ">>> iris = datasets.load_iris()\n",
    ">>> X = iris.data[:, [0, 2]]\n",
    ">>> y = iris.target\n",
    "\n",
    ">>> # Training classifiers\n",
    ">>> clf1 = DecisionTreeClassifier(max_depth=4)\n",
    ">>> clf2 = KNeighborsClassifier(n_neighbors=7)\n",
    ">>> clf3 = SVC(gamma='scale', kernel='rbf', probability=True)\n",
    ">>> eclf = VotingClassifier(estimators=[('dt', clf1), ('knn', clf2), ('svc', clf3)],\n",
    "...                         voting='soft', weights=[2, 1, 2])\n",
    "\n",
    ">>> clf1 = clf1.fit(X, y)\n",
    ">>> clf2 = clf2.fit(X, y)\n",
    ">>> clf3 = clf3.fit(X, y)\n",
    ">>> eclf = eclf.fit(X, y)"
   ]
  },
  {
   "cell_type": "code",
   "execution_count": 10,
   "metadata": {},
   "outputs": [],
   "source": [
    "#saving models\n",
    "#from joblib import dump, load\n",
    "#dump(clf, 'filename.joblib')\n",
    "#clf = load('filename.joblib')"
   ]
  },
  {
   "cell_type": "code",
   "execution_count": 11,
   "metadata": {},
   "outputs": [
    {
     "data": {
      "text/plain": [
       "LinearRegression(copy_X=True, fit_intercept=True, n_jobs=None,\n",
       "         normalize=False)"
      ]
     },
     "execution_count": 11,
     "metadata": {},
     "output_type": "execute_result"
    }
   ],
   "source": [
    "#create GLM in scikit\n",
    "from sklearn import linear_model\n",
    "reg = linear_model.LinearRegression()\n",
    "reg.fit(dfxy[1], dfxy[0].values.ravel())\n"
   ]
  },
  {
   "cell_type": "raw",
   "metadata": {},
   "source": [
    "print(reg.coef_)"
   ]
  },
  {
   "cell_type": "code",
   "execution_count": 12,
   "metadata": {},
   "outputs": [
    {
     "name": "stdout",
     "output_type": "stream",
     "text": [
      "Automatically created module for IPython interactive environment\n",
      "Coefficients: \n",
      " [[-1.88464593e+06 -5.42610194e-03 -5.44885825e-03  9.42322966e+05\n",
      "   1.85012643e-04 -6.63858373e-08 -1.73941953e-05  1.26309905e-03\n",
      "  -4.73373802e-07  4.71161486e+05  4.71161493e+05  6.13992836e-03\n",
      "  -4.71161474e+05  4.71161480e+05 -8.57744933e-04  4.76240988e-04\n",
      "   5.77692130e-04 -6.81817619e-05  7.09448342e-03 -6.69875764e-03\n",
      "  -4.81146732e-04 -4.24141909e-04 -9.46824821e-04 -4.62058382e-04\n",
      "  -5.81669405e-03 -4.70292712e-02 -1.88464593e+06  4.14078156e-03\n",
      "   1.32075738e-03  1.28412823e-04 -1.91200816e-04 -2.60869113e-02\n",
      "  -5.68157670e-03 -4.60204866e-03 -5.20393514e-04  5.65125432e-04\n",
      "   2.94178099e-02  5.92939730e-04  3.31674179e-04  8.60253000e-04\n",
      "   1.91227661e-03  9.27923393e-04  8.20758287e-05 -5.89624979e-05\n",
      "  -1.56671072e-03  8.60640062e-03 -3.43008151e-01  3.68893784e-03\n",
      "  -7.21196868e-04]]\n",
      "Mean squared error: 0.27\n",
      "Variance score: -0.30\n"
     ]
    },
    {
     "data": {
      "image/png": "[encoded data removed]",
      "text/plain": [
       "<Figure size 432x288 with 1 Axes>"
      ]
     },
     "metadata": {},
     "output_type": "display_data"
    },
    {
     "data": {
      "text/plain": [
       "-0.3045232754104801"
      ]
     },
     "execution_count": 12,
     "metadata": {},
     "output_type": "execute_result"
    }
   ],
   "source": [
    "#linear regression\n",
    "print(__doc__)\n",
    "\n",
    "import matplotlib.pyplot as plt\n",
    "import numpy as np\n",
    "from sklearn import datasets, linear_model\n",
    "from sklearn.metrics import mean_squared_error, r2_score\n",
    "\n",
    "# Load the diabetes dataset\n",
    "#diabetes = datasets.load_diabetes()\n",
    "# Use only one feature\n",
    "#diabetes_X = diabetes.data[:, np.newaxis, 2]\n",
    "\n",
    "# Split the data into training/testing sets\n",
    "btca1_X_train = dfxy[1][:3500]\n",
    "btca1_X_test = dfxy[1][3500:]\n",
    "\n",
    "# Split the targets into training/testing sets\n",
    "btca1_y_train = dfxy[0][:3500]\n",
    "btca1_y_test = dfxy[0][3500:]\n",
    "\n",
    "# Create linear regression object\n",
    "regr = linear_model.LinearRegression()\n",
    "\n",
    "# Train the model using the training sets\n",
    "regr.fit(btca1_X_train, btca1_y_train)\n",
    "\n",
    "# Make predictions using the testing set\n",
    "btca1_y_pred = regr.predict(btca1_X_test)\n",
    "\n",
    "# The coefficients\n",
    "print('Coefficients: \\n', regr.coef_)\n",
    "# The mean squared error\n",
    "print(\"Mean squared error: %.2f\"\n",
    "      % mean_squared_error(btca1_y_test, btca1_y_pred))\n",
    "# Explained variance score: 1 is perfect prediction\n",
    "print('Variance score: %.2f' % r2_score(btca1_y_test, btca1_y_pred))\n",
    "\n",
    "# Plot outputs\n",
    "plt.scatter(btca1_X_test.iloc[:,1], btca1_y_test,  color='black')\n",
    "#plt.plot(btca1_X_test.iloc[:,1], btca1_y_pred, color='blue', linewidth=3)\n",
    "\n",
    "plt.xticks(())\n",
    "plt.yticks(())\n",
    "\n",
    "plt.show()\n",
    "regr.score(btca1_X_test, btca1_y_test)"
   ]
  },
  {
   "cell_type": "code",
   "execution_count": 13,
   "metadata": {},
   "outputs": [
    {
     "name": "stdout",
     "output_type": "stream",
     "text": [
      "(1283, 49)\n",
      "(1283, 1)\n"
     ]
    }
   ],
   "source": [
    "print(btca1_X_test.shape)\n",
    "print(btca1_y_test.shape)"
   ]
  },
  {
   "cell_type": "code",
   "execution_count": 14,
   "metadata": {},
   "outputs": [],
   "source": [
    "#logisitc regression and lasso/enet, bayesian regression: https://scikit-learn.org/stable/modules/linear_model.html#ordinary-least-squares\n"
   ]
  },
  {
   "cell_type": "code",
   "execution_count": 15,
   "metadata": {},
   "outputs": [],
   "source": [
    "##bayesian ridge regression\n",
    "#from sklearn import linear_model\n",
    "#X = [[0., 0.], [1., 1.], [2., 2.], [3., 3.]]\n",
    "#Y = [0., 1., 2., 3.]\n",
    "#reg = linear_model.BayesianRidge()\n",
    "#reg.fit(X, Y)\n"
   ]
  },
  {
   "cell_type": "code",
   "execution_count": 16,
   "metadata": {},
   "outputs": [],
   "source": [
    "#reg.predict([[1, 0.]])"
   ]
  },
  {
   "cell_type": "code",
   "execution_count": 17,
   "metadata": {},
   "outputs": [],
   "source": [
    "#array([0.49999993, 0.49999993])"
   ]
  },
  {
   "cell_type": "code",
   "execution_count": 18,
   "metadata": {},
   "outputs": [
    {
     "data": {
      "text/plain": [
       "SVC(C=1.0, cache_size=200, class_weight=None, coef0=0.0,\n",
       "  decision_function_shape='ovr', degree=3, gamma='scale', kernel='rbf',\n",
       "  max_iter=-1, probability=False, random_state=None, shrinking=True,\n",
       "  tol=0.001, verbose=False)"
      ]
     },
     "execution_count": 18,
     "metadata": {},
     "output_type": "execute_result"
    }
   ],
   "source": [
    "from sklearn import svm\n",
    "X = btca1_X_train\n",
    "Y = btca1_y_train.values.ravel()\n",
    "clf = svm.SVC(gamma='scale')\n",
    "clf.fit(X, Y)\n"
   ]
  },
  {
   "cell_type": "code",
   "execution_count": 19,
   "metadata": {},
   "outputs": [
    {
     "data": {
      "text/plain": [
       "0.6890101325019485"
      ]
     },
     "execution_count": 19,
     "metadata": {},
     "output_type": "execute_result"
    }
   ],
   "source": [
    "clf.score(btca1_X_test, btca1_y_test)"
   ]
  },
  {
   "cell_type": "code",
   "execution_count": 44,
   "metadata": {},
   "outputs": [
    {
     "name": "stderr",
     "output_type": "stream",
     "text": [
      "[Parallel(n_jobs=3)]: Using backend LokyBackend with 3 concurrent workers.\n",
      "[Parallel(n_jobs=3)]: Done   3 out of   3 | elapsed:    0.6s finished\n"
     ]
    },
    {
     "data": {
      "text/plain": [
       "array([0.41588785, 0.70560748, 0.57377049])"
      ]
     },
     "execution_count": 44,
     "metadata": {},
     "output_type": "execute_result"
    }
   ],
   "source": [
    "#cross validation\n",
    "np.random.seed(0)\n",
    "from sklearn.model_selection import cross_val_score\n",
    "clf = svm.SVC(kernel='linear', C=1, gamma='scale')\n",
    "\n",
    "scores = cross_val_score(clf, btca1_X_test_scale, btca1_y_test.values.ravel(), scoring='accuracy', cv=3, verbose=2, n_jobs=3)\n",
    "scores\n"
   ]
  },
  {
   "cell_type": "code",
   "execution_count": 45,
   "metadata": {},
   "outputs": [
    {
     "name": "stdout",
     "output_type": "stream",
     "text": [
      "Accuracy: 0.57 (+/- 0.24)\n"
     ]
    }
   ],
   "source": [
    "print(\"Accuracy: %0.2f (+/- %0.2f)\" % (scores.mean(), scores.std() * 2))"
   ]
  },
  {
   "cell_type": "code",
   "execution_count": 46,
   "metadata": {},
   "outputs": [
    {
     "name": "stderr",
     "output_type": "stream",
     "text": [
      "/home/polabs1/.conda/envs/PoEnv/lib/python3.6/site-packages/sklearn/metrics/classification.py:1143: UndefinedMetricWarning: F-score is ill-defined and being set to 0.0 in labels with no predicted samples.\n",
      "  'precision', 'predicted', average, warn_for)\n"
     ]
    },
    {
     "data": {
      "text/plain": [
       "array([0.50141954, 0.44077864, 0.42678012, 0.41284404, 0.42923977])"
      ]
     },
     "execution_count": 46,
     "metadata": {},
     "output_type": "execute_result"
    }
   ],
   "source": [
    "#By default, the score computed at each CV iteration is the score method of the estimator. It is possible to change this by using the scoring parameter:\n",
    "from sklearn import metrics\n",
    "scores = cross_val_score(clf, btca1_X_test_scale, btca1_y_test.values.ravel(), cv=5, scoring='f1_macro')\n",
    "scores"
   ]
  },
  {
   "cell_type": "code",
   "execution_count": 22,
   "metadata": {},
   "outputs": [
    {
     "ename": "NameError",
     "evalue": "name 'train_test_split' is not defined",
     "output_type": "error",
     "traceback": [
      "\u001b[0;31m---------------------------------------------------------------------------\u001b[0m",
      "\u001b[0;31mNameError\u001b[0m                                 Traceback (most recent call last)",
      "\u001b[0;32m<ipython-input-22-e17d611d6975>\u001b[0m in \u001b[0;36m<module>\u001b[0;34m\u001b[0m\n\u001b[1;32m      1\u001b[0m \u001b[0;31m#preprocessing\u001b[0m\u001b[0;34m\u001b[0m\u001b[0;34m\u001b[0m\u001b[0;34m\u001b[0m\u001b[0m\n\u001b[1;32m      2\u001b[0m \u001b[0;32mfrom\u001b[0m \u001b[0msklearn\u001b[0m \u001b[0;32mimport\u001b[0m \u001b[0mpreprocessing\u001b[0m\u001b[0;34m\u001b[0m\u001b[0;34m\u001b[0m\u001b[0m\n\u001b[0;32m----> 3\u001b[0;31m \u001b[0mbtca1_X_train\u001b[0m\u001b[0;34m,\u001b[0m \u001b[0mbtca1_X_test\u001b[0m\u001b[0;34m,\u001b[0m \u001b[0mbtca1_y_train\u001b[0m\u001b[0;34m,\u001b[0m \u001b[0mbtca1_y_test\u001b[0m \u001b[0;34m=\u001b[0m \u001b[0mtrain_test_split\u001b[0m\u001b[0;34m(\u001b[0m\u001b[0mX\u001b[0m\u001b[0;34m,\u001b[0m \u001b[0mY\u001b[0m\u001b[0;34m,\u001b[0m \u001b[0mtest_size\u001b[0m\u001b[0;34m=\u001b[0m\u001b[0;36m0.25\u001b[0m\u001b[0;34m,\u001b[0m \u001b[0mrandom_state\u001b[0m\u001b[0;34m=\u001b[0m\u001b[0;36m0\u001b[0m\u001b[0;34m)\u001b[0m\u001b[0;34m\u001b[0m\u001b[0;34m\u001b[0m\u001b[0m\n\u001b[0m\u001b[1;32m      4\u001b[0m \u001b[0mscaler\u001b[0m \u001b[0;34m=\u001b[0m \u001b[0mpreprocessing\u001b[0m\u001b[0;34m.\u001b[0m\u001b[0mStandardScaler\u001b[0m\u001b[0;34m(\u001b[0m\u001b[0;34m)\u001b[0m\u001b[0;34m.\u001b[0m\u001b[0mfit\u001b[0m\u001b[0;34m(\u001b[0m\u001b[0mX_train\u001b[0m\u001b[0;34m)\u001b[0m\u001b[0;34m\u001b[0m\u001b[0;34m\u001b[0m\u001b[0m\n\u001b[1;32m      5\u001b[0m \u001b[0mX_train_transformed\u001b[0m \u001b[0;34m=\u001b[0m \u001b[0mscaler\u001b[0m\u001b[0;34m.\u001b[0m\u001b[0mtransform\u001b[0m\u001b[0;34m(\u001b[0m\u001b[0mX_train\u001b[0m\u001b[0;34m)\u001b[0m\u001b[0;34m\u001b[0m\u001b[0;34m\u001b[0m\u001b[0m\n",
      "\u001b[0;31mNameError\u001b[0m: name 'train_test_split' is not defined"
     ]
    }
   ],
   "source": [
    "#preprocessing\n",
    "#from sklearn import preprocessing\n",
    "#btca1_X_train, btca1_X_test, btca1_y_train, btca1_y_test = train_test_split(X, Y, test_size=0.25, random_state=0)\n",
    "#scaler = preprocessing.StandardScaler().fit(X_train)\n",
    "#X_train_transformed = scaler.transform(X_train)\n",
    "#clf = svm.SVC(C=1).fit(X_train_transformed, y_train)\n",
    "#X_test_transformed = scaler.transform(X_test)\n",
    "#clf.score(X_test_transformed, y_test)"
   ]
  },
  {
   "cell_type": "code",
   "execution_count": 25,
   "metadata": {},
   "outputs": [
    {
     "data": {
      "text/plain": [
       "array([[ 0.04969642,  0.04752812,  0.0538346 , ...,  0.62892658,\n",
       "         1.11364994, -1.43715749],\n",
       "       [ 0.09886198,  0.10120589,  0.09594718, ...,  0.48254366,\n",
       "        -0.63401786,  0.8005001 ],\n",
       "       [-0.98575626, -0.98571648, -0.98430409, ..., -1.37429436,\n",
       "         1.25794966,  0.24843004],\n",
       "       ...,\n",
       "       [-2.84855417, -2.84449219, -2.84803004, ..., -0.84698722,\n",
       "        -0.58815126,  0.60265263],\n",
       "       [-3.33056938, -3.32538454, -3.33973234, ..., -5.35431459,\n",
       "         1.85836699,  1.30551756],\n",
       "       [-1.64882645, -1.64389234, -1.65129305, ..., -3.60272258,\n",
       "        -1.23937898,  0.13504929]])"
      ]
     },
     "execution_count": 25,
     "metadata": {},
     "output_type": "execute_result"
    }
   ],
   "source": [
    "##A Pipeline makes it easier to compose estimators, providing this behavior under cross-validation:\n",
    "#from sklearn.pipeline import make_pipeline\n",
    "#clf = make_pipeline(preprocessing.StandardScaler(), svm.SVC(C=1))\n",
    "#cross_val_score(clf, iris.data, iris.target, cv=cv)\\\n",
    "scaler = preprocessing.StandardScaler().fit(btca1_X_train)\n",
    "#scaler\n",
    "#scaler.mean_\n",
    "scaler.transform(btca1_X_train)\n",
    "scaler.transform(btca1_X_test)"
   ]
  },
  {
   "cell_type": "code",
   "execution_count": null,
   "metadata": {},
   "outputs": [],
   "source": [
    "#shuffling, timeseries split, CV iter options \n",
    "#https://scikit-learn.org/stable/modules/cross_validation.html"
   ]
  },
  {
   "cell_type": "code",
   "execution_count": null,
   "metadata": {},
   "outputs": [],
   "source": [
    "##hyperparameter tuning\n",
    "#estimator.get_params()\n",
    "##returns all possiuble paramseters of given 'estimator' (model) eg SVM\n",
    "##contains: estimator, parameter space, search method, cv scheme, score function \n",
    "##GridSearchCV\n",
    "##RandomizedSearchCV\n",
    "##https://scikit-learn.org/stable/modules/grid_search.html"
   ]
  },
  {
   "cell_type": "code",
   "execution_count": null,
   "metadata": {},
   "outputs": [],
   "source": [
    "from sklearn.datasets import load_iris\n",
    "from matplotlib import pyplot as plt\n",
    "from sklearn.svm import SVC\n",
    "from sklearn.model_selection import GridSearchCV, cross_val_score, KFold\n",
    "import numpy as np\n",
    "\n",
    "print(__doc__)\n",
    "\n",
    "# Number of random trials\n",
    "NUM_TRIALS = 30\n",
    "\n",
    "# Load the dataset\n",
    "iris = load_iris()\n",
    "X_iris = iris.data\n",
    "y_iris = iris.target\n",
    "\n",
    "# Set up possible values of parameters to optimize over\n",
    "p_grid = {\"C\": [1, 10, 100],\n",
    "          \"gamma\": [.01, .1]}\n",
    "\n",
    "# We will use a Support Vector Classifier with \"rbf\" kernel\n",
    "svm = SVC(kernel=\"rbf\")\n",
    "\n",
    "# Arrays to store scores\n",
    "non_nested_scores = np.zeros(NUM_TRIALS)\n",
    "nested_scores = np.zeros(NUM_TRIALS)\n",
    "\n",
    "# Loop for each trial\n",
    "for i in range(NUM_TRIALS):\n",
    "\n",
    "    # Choose cross-validation techniques for the inner and outer loops,\n",
    "    # independently of the dataset.\n",
    "    # E.g \"GroupKFold\", \"LeaveOneOut\", \"LeaveOneGroupOut\", etc.\n",
    "    inner_cv = KFold(n_splits=4, shuffle=True, random_state=i)\n",
    "    outer_cv = KFold(n_splits=4, shuffle=True, random_state=i)\n",
    "\n",
    "    # Non_nested parameter search and scoring\n",
    "    clf = GridSearchCV(estimator=svm, param_grid=p_grid, cv=inner_cv)\n",
    "    clf.fit(X_iris, y_iris)\n",
    "    non_nested_scores[i] = clf.best_score_\n",
    "\n",
    "    # Nested CV with parameter optimization\n",
    "    nested_score = cross_val_score(clf, X=X_iris, y=y_iris, cv=outer_cv)\n",
    "    nested_scores[i] = nested_score.mean()\n",
    "\n",
    "score_difference = non_nested_scores - nested_scores\n",
    "\n",
    "print(\"Average difference of {0:6f} with std. dev. of {1:6f}.\"\n",
    "      .format(score_difference.mean(), score_difference.std()))\n",
    "\n",
    "# Plot scores on each trial for nested and non-nested CV\n",
    "plt.figure()\n",
    "plt.subplot(211)\n",
    "non_nested_scores_line, = plt.plot(non_nested_scores, color='r')\n",
    "nested_line, = plt.plot(nested_scores, color='b')\n",
    "plt.ylabel(\"score\", fontsize=\"14\")\n",
    "plt.legend([non_nested_scores_line, nested_line],\n",
    "           [\"Non-Nested CV\", \"Nested CV\"],\n",
    "           bbox_to_anchor=(0, .4, .5, 0))\n",
    "plt.title(\"Non-Nested and Nested Cross Validation on Iris Dataset\",\n",
    "          x=.5, y=1.1, fontsize=\"15\")\n",
    "\n",
    "# Plot bar chart of the difference.\n",
    "plt.subplot(212)\n",
    "difference_plot = plt.bar(range(NUM_TRIALS), score_difference)\n",
    "plt.xlabel(\"Individual Trial #\")\n",
    "plt.legend([difference_plot],\n",
    "           [\"Non-Nested CV - Nested CV Score\"],\n",
    "           bbox_to_anchor=(0, 1, .8, 0))\n",
    "plt.ylabel(\"score difference\", fontsize=\"14\")\n",
    "\n",
    "plt.show()"
   ]
  },
  {
   "cell_type": "code",
   "execution_count": 23,
   "metadata": {},
   "outputs": [
    {
     "name": "stdout",
     "output_type": "stream",
     "text": [
      "The scikit-learn version is 0.20.1.\n"
     ]
    }
   ],
   "source": [
    "import sklearn as sklearn\n",
    "print('The scikit-learn version is {}.'.format(sklearn.__version__))"
   ]
  },
  {
   "cell_type": "code",
   "execution_count": null,
   "metadata": {},
   "outputs": [],
   "source": []
  },
  {
   "cell_type": "code",
   "execution_count": 30,
   "metadata": {},
   "outputs": [
    {
     "ename": "AttributeError",
     "evalue": "'DataFrame' object has no attribute 'mean_'",
     "output_type": "error",
     "traceback": [
      "\u001b[0;31m---------------------------------------------------------------------------\u001b[0m",
      "\u001b[0;31mAttributeError\u001b[0m                            Traceback (most recent call last)",
      "\u001b[0;32m<ipython-input-30-329e39944fd6>\u001b[0m in \u001b[0;36m<module>\u001b[0;34m\u001b[0m\n\u001b[0;32m----> 1\u001b[0;31m \u001b[0mbtca1_y_test\u001b[0m\u001b[0;34m.\u001b[0m\u001b[0mmean_\u001b[0m\u001b[0;34m\u001b[0m\u001b[0;34m\u001b[0m\u001b[0m\n\u001b[0m",
      "\u001b[0;32m~/.conda/envs/PoEnv/lib/python3.6/site-packages/pandas/core/generic.py\u001b[0m in \u001b[0;36m__getattr__\u001b[0;34m(self, name)\u001b[0m\n\u001b[1;32m   4374\u001b[0m             \u001b[0;32mif\u001b[0m \u001b[0mself\u001b[0m\u001b[0;34m.\u001b[0m\u001b[0m_info_axis\u001b[0m\u001b[0;34m.\u001b[0m\u001b[0m_can_hold_identifiers_and_holds_name\u001b[0m\u001b[0;34m(\u001b[0m\u001b[0mname\u001b[0m\u001b[0;34m)\u001b[0m\u001b[0;34m:\u001b[0m\u001b[0;34m\u001b[0m\u001b[0;34m\u001b[0m\u001b[0m\n\u001b[1;32m   4375\u001b[0m                 \u001b[0;32mreturn\u001b[0m \u001b[0mself\u001b[0m\u001b[0;34m[\u001b[0m\u001b[0mname\u001b[0m\u001b[0;34m]\u001b[0m\u001b[0;34m\u001b[0m\u001b[0;34m\u001b[0m\u001b[0m\n\u001b[0;32m-> 4376\u001b[0;31m             \u001b[0;32mreturn\u001b[0m \u001b[0mobject\u001b[0m\u001b[0;34m.\u001b[0m\u001b[0m__getattribute__\u001b[0m\u001b[0;34m(\u001b[0m\u001b[0mself\u001b[0m\u001b[0;34m,\u001b[0m \u001b[0mname\u001b[0m\u001b[0;34m)\u001b[0m\u001b[0;34m\u001b[0m\u001b[0;34m\u001b[0m\u001b[0m\n\u001b[0m\u001b[1;32m   4377\u001b[0m \u001b[0;34m\u001b[0m\u001b[0m\n\u001b[1;32m   4378\u001b[0m     \u001b[0;32mdef\u001b[0m \u001b[0m__setattr__\u001b[0m\u001b[0;34m(\u001b[0m\u001b[0mself\u001b[0m\u001b[0;34m,\u001b[0m \u001b[0mname\u001b[0m\u001b[0;34m,\u001b[0m \u001b[0mvalue\u001b[0m\u001b[0;34m)\u001b[0m\u001b[0;34m:\u001b[0m\u001b[0;34m\u001b[0m\u001b[0;34m\u001b[0m\u001b[0m\n",
      "\u001b[0;31mAttributeError\u001b[0m: 'DataFrame' object has no attribute 'mean_'"
     ]
    }
   ],
   "source": [
    "btca1_y_test.mean_\n"
   ]
  },
  {
   "cell_type": "code",
   "execution_count": 31,
   "metadata": {},
   "outputs": [
    {
     "data": {
      "text/plain": [
       "StandardScaler(copy=True, with_mean=True, with_std=True)"
      ]
     },
     "execution_count": 31,
     "metadata": {},
     "output_type": "execute_result"
    }
   ],
   "source": [
    "scaler"
   ]
  },
  {
   "cell_type": "code",
   "execution_count": 32,
   "metadata": {},
   "outputs": [
    {
     "data": {
      "text/plain": [
       "array([ 7.32178931e+03,  7.32861944e+03,  7.31469567e+03,  7.32180016e+03,\n",
       "        1.46586590e+03,  6.31032994e+05,  9.00498257e+03,  4.90038081e+01,\n",
       "        3.37431972e+05,  7.32061453e+03,  7.32293173e+03,  2.31720110e+00,\n",
       "        1.13157510e+00,  1.18562600e+00,  5.94483291e+01,  7.89570178e+01,\n",
       "        3.77830342e+01,  1.11678518e+01,  3.73916904e-01,  6.71506512e-02,\n",
       "        6.33786580e+01,  7.69459385e+01,  3.17774576e+01,  9.28020001e+00,\n",
       "        3.68187915e-01,  3.62993424e-02,  1.08465238e-02,  7.32171852e+03,\n",
       "        7.32346542e+03,  1.46512296e+03,  1.46914282e+03,  2.32010737e+00,\n",
       "        7.32186424e+03,  7.32313684e+03,  1.46598800e+03,  1.46889868e+03,\n",
       "        2.32016908e+00,  7.32222602e+03,  7.32143278e+03,  7.32332823e+03,\n",
       "        7.32171673e+03,  7.32124888e+03,  1.46580412e+03,  1.46586640e+03,\n",
       "        5.11402620e+01,  5.04391054e+01, -2.15350970e-02, -1.62005670e+00,\n",
       "       -5.87880807e-01])"
      ]
     },
     "execution_count": 32,
     "metadata": {},
     "output_type": "execute_result"
    }
   ],
   "source": [
    "scaler.mean_\n"
   ]
  },
  {
   "cell_type": "code",
   "execution_count": 43,
   "metadata": {},
   "outputs": [],
   "source": [
    "btca1_X_test_scale = scaler.transform(btca1_X_test)\n",
    "btca1_X_train_scale = scaler.transform(btca1_X_train)\n"
   ]
  },
  {
   "cell_type": "code",
   "execution_count": 40,
   "metadata": {
    "scrolled": true
   },
   "outputs": [
    {
     "ename": "AttributeError",
     "evalue": "'numpy.ndarray' object has no attribute 'head'",
     "output_type": "error",
     "traceback": [
      "\u001b[0;31m---------------------------------------------------------------------------\u001b[0m",
      "\u001b[0;31mAttributeError\u001b[0m                            Traceback (most recent call last)",
      "\u001b[0;32m<ipython-input-40-b1568010fb47>\u001b[0m in \u001b[0;36m<module>\u001b[0;34m\u001b[0m\n\u001b[1;32m      1\u001b[0m \u001b[0;34m\u001b[0m\u001b[0m\n\u001b[0;32m----> 2\u001b[0;31m \u001b[0mbtca1_X_train_scale\u001b[0m\u001b[0;34m.\u001b[0m\u001b[0mhead\u001b[0m\u001b[0;34m\u001b[0m\u001b[0;34m\u001b[0m\u001b[0m\n\u001b[0m",
      "\u001b[0;31mAttributeError\u001b[0m: 'numpy.ndarray' object has no attribute 'head'"
     ]
    }
   ],
   "source": [
    "\n",
    "btca1_X_train_scale.head"
   ]
  },
  {
   "cell_type": "code",
   "execution_count": null,
   "metadata": {},
   "outputs": [],
   "source": [
    "from sklearn import datasets\n",
    "from sklearn.tree import DecisionTreeClassifier\n",
    "from sklearn.neighbors import KNeighborsClassifier\n",
    "from sklearn.svm import SVC\n",
    "from itertools import product\n",
    "from sklearn.ensemble import VotingClassifier\n",
    "\n",
    "# Training classifiers\n",
    "clf1 = DecisionTreeClassifier(max_depth=4)\n",
    "clf2 = KNeighborsClassifier(n_neighbors=7)\n",
    "clf3 = SVC(gamma='scale', kernel='rbf', probability=True)\n",
    "eclf = VotingClassifier(estimators=[('dt', clf1), ('knn', clf2), ('svc', clf3)], voting='soft', weights=[2, 1, 2])\n",
    "\n",
    "clf1 = clf1.fit(X, y)\n",
    "clf2 = clf2.fit(X, y)\n",
    "clf3 = clf3.fit(X, y)\n",
    "eclf = eclf.fit(X, y)"
   ]
  }
 ],
 "metadata": {
  "kernelspec": {
   "display_name": "Python 3",
   "language": "python",
   "name": "python3"
  },
  "language_info": {
   "codemirror_mode": {
    "name": "ipython",
    "version": 3
   },
   "file_extension": ".py",
   "mimetype": "text/x-python",
   "name": "python",
   "nbconvert_exporter": "python",
   "pygments_lexer": "ipython3",
   "version": "3.6.7"
  }
 },
 "nbformat": 4,
 "nbformat_minor": 2
}
